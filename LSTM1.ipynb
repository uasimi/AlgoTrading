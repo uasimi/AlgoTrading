{
  "cells": [
    {
      "cell_type": "code",
      "execution_count": 2,
      "id": "438764d9",
      "metadata": {
        "id": "438764d9"
      },
      "outputs": [],
      "source": [
        ""
      ]
    },
    {
      "cell_type": "code",
      "execution_count": 2,
      "id": "bade0e0b",
      "metadata": {
        "id": "bade0e0b"
      },
      "outputs": [],
      "source": [
        ""
      ]
    },
    {
      "cell_type": "code",
      "execution_count": 2,
      "id": "720133fb",
      "metadata": {
        "id": "720133fb"
      },
      "outputs": [],
      "source": [
        ""
      ]
    },
    {
      "cell_type": "code",
      "execution_count": 2,
      "id": "6d6ae306",
      "metadata": {
        "id": "6d6ae306"
      },
      "outputs": [],
      "source": [
        ""
      ]
    },
    {
      "cell_type": "code",
      "execution_count": 2,
      "id": "7457e289",
      "metadata": {
        "id": "7457e289"
      },
      "outputs": [],
      "source": [
        ""
      ]
    },
    {
      "cell_type": "code",
      "execution_count": 3,
      "id": "f143dea0",
      "metadata": {
        "id": "f143dea0"
      },
      "outputs": [],
      "source": [
        "import pandas as pd\n",
        "import numpy as np \n",
        "import yfinance as yf\n",
        "import seaborn as sns\n",
        "import matplotlib.pyplot as plt "
      ]
    },
    {
      "cell_type": "code",
      "execution_count": 4,
      "id": "73c20848",
      "metadata": {
        "colab": {
          "base_uri": "https://localhost:8080/"
        },
        "id": "73c20848",
        "outputId": "4090e6b4-1b0a-4581-a30d-32ec6bb93beb"
      },
      "outputs": [
        {
          "output_type": "stream",
          "name": "stdout",
          "text": [
            "\r[*********************100%***********************]  1 of 1 completed\n"
          ]
        }
      ],
      "source": [
        "btc_data = yf.download('BTC-USD', start='2017-01-01', end='2022-01-01')\n",
        "btc_df = pd.DataFrame(btc_data)"
      ]
    },
    {
      "cell_type": "code",
      "execution_count": 5,
      "id": "c92ab26c",
      "metadata": {
        "id": "c92ab26c"
      },
      "outputs": [],
      "source": [
        "btc_df = btc_df.drop(columns=['Adj Close', 'Volume', 'High', 'Low', 'Open'])"
      ]
    },
    {
      "cell_type": "code",
      "execution_count": 6,
      "id": "106bb4bb",
      "metadata": {
        "colab": {
          "base_uri": "https://localhost:8080/",
          "height": 238
        },
        "id": "106bb4bb",
        "outputId": "7f28f376-3bcc-4f74-bbed-49a4b3b9f260"
      },
      "outputs": [
        {
          "output_type": "execute_result",
          "data": {
            "text/html": [
              "\n",
              "  <div id=\"df-88410fd5-11de-48db-94be-d9e637ade1c2\">\n",
              "    <div class=\"colab-df-container\">\n",
              "      <div>\n",
              "<style scoped>\n",
              "    .dataframe tbody tr th:only-of-type {\n",
              "        vertical-align: middle;\n",
              "    }\n",
              "\n",
              "    .dataframe tbody tr th {\n",
              "        vertical-align: top;\n",
              "    }\n",
              "\n",
              "    .dataframe thead th {\n",
              "        text-align: right;\n",
              "    }\n",
              "</style>\n",
              "<table border=\"1\" class=\"dataframe\">\n",
              "  <thead>\n",
              "    <tr style=\"text-align: right;\">\n",
              "      <th></th>\n",
              "      <th>Close</th>\n",
              "    </tr>\n",
              "    <tr>\n",
              "      <th>Date</th>\n",
              "      <th></th>\n",
              "    </tr>\n",
              "  </thead>\n",
              "  <tbody>\n",
              "    <tr>\n",
              "      <th>2017-01-01</th>\n",
              "      <td>998.325012</td>\n",
              "    </tr>\n",
              "    <tr>\n",
              "      <th>2017-01-02</th>\n",
              "      <td>1021.750000</td>\n",
              "    </tr>\n",
              "    <tr>\n",
              "      <th>2017-01-03</th>\n",
              "      <td>1043.839966</td>\n",
              "    </tr>\n",
              "    <tr>\n",
              "      <th>2017-01-04</th>\n",
              "      <td>1154.729980</td>\n",
              "    </tr>\n",
              "    <tr>\n",
              "      <th>2017-01-05</th>\n",
              "      <td>1013.380005</td>\n",
              "    </tr>\n",
              "  </tbody>\n",
              "</table>\n",
              "</div>\n",
              "      <button class=\"colab-df-convert\" onclick=\"convertToInteractive('df-88410fd5-11de-48db-94be-d9e637ade1c2')\"\n",
              "              title=\"Convert this dataframe to an interactive table.\"\n",
              "              style=\"display:none;\">\n",
              "        \n",
              "  <svg xmlns=\"http://www.w3.org/2000/svg\" height=\"24px\"viewBox=\"0 0 24 24\"\n",
              "       width=\"24px\">\n",
              "    <path d=\"M0 0h24v24H0V0z\" fill=\"none\"/>\n",
              "    <path d=\"M18.56 5.44l.94 2.06.94-2.06 2.06-.94-2.06-.94-.94-2.06-.94 2.06-2.06.94zm-11 1L8.5 8.5l.94-2.06 2.06-.94-2.06-.94L8.5 2.5l-.94 2.06-2.06.94zm10 10l.94 2.06.94-2.06 2.06-.94-2.06-.94-.94-2.06-.94 2.06-2.06.94z\"/><path d=\"M17.41 7.96l-1.37-1.37c-.4-.4-.92-.59-1.43-.59-.52 0-1.04.2-1.43.59L10.3 9.45l-7.72 7.72c-.78.78-.78 2.05 0 2.83L4 21.41c.39.39.9.59 1.41.59.51 0 1.02-.2 1.41-.59l7.78-7.78 2.81-2.81c.8-.78.8-2.07 0-2.86zM5.41 20L4 18.59l7.72-7.72 1.47 1.35L5.41 20z\"/>\n",
              "  </svg>\n",
              "      </button>\n",
              "      \n",
              "  <style>\n",
              "    .colab-df-container {\n",
              "      display:flex;\n",
              "      flex-wrap:wrap;\n",
              "      gap: 12px;\n",
              "    }\n",
              "\n",
              "    .colab-df-convert {\n",
              "      background-color: #E8F0FE;\n",
              "      border: none;\n",
              "      border-radius: 50%;\n",
              "      cursor: pointer;\n",
              "      display: none;\n",
              "      fill: #1967D2;\n",
              "      height: 32px;\n",
              "      padding: 0 0 0 0;\n",
              "      width: 32px;\n",
              "    }\n",
              "\n",
              "    .colab-df-convert:hover {\n",
              "      background-color: #E2EBFA;\n",
              "      box-shadow: 0px 1px 2px rgba(60, 64, 67, 0.3), 0px 1px 3px 1px rgba(60, 64, 67, 0.15);\n",
              "      fill: #174EA6;\n",
              "    }\n",
              "\n",
              "    [theme=dark] .colab-df-convert {\n",
              "      background-color: #3B4455;\n",
              "      fill: #D2E3FC;\n",
              "    }\n",
              "\n",
              "    [theme=dark] .colab-df-convert:hover {\n",
              "      background-color: #434B5C;\n",
              "      box-shadow: 0px 1px 3px 1px rgba(0, 0, 0, 0.15);\n",
              "      filter: drop-shadow(0px 1px 2px rgba(0, 0, 0, 0.3));\n",
              "      fill: #FFFFFF;\n",
              "    }\n",
              "  </style>\n",
              "\n",
              "      <script>\n",
              "        const buttonEl =\n",
              "          document.querySelector('#df-88410fd5-11de-48db-94be-d9e637ade1c2 button.colab-df-convert');\n",
              "        buttonEl.style.display =\n",
              "          google.colab.kernel.accessAllowed ? 'block' : 'none';\n",
              "\n",
              "        async function convertToInteractive(key) {\n",
              "          const element = document.querySelector('#df-88410fd5-11de-48db-94be-d9e637ade1c2');\n",
              "          const dataTable =\n",
              "            await google.colab.kernel.invokeFunction('convertToInteractive',\n",
              "                                                     [key], {});\n",
              "          if (!dataTable) return;\n",
              "\n",
              "          const docLinkHtml = 'Like what you see? Visit the ' +\n",
              "            '<a target=\"_blank\" href=https://colab.research.google.com/notebooks/data_table.ipynb>data table notebook</a>'\n",
              "            + ' to learn more about interactive tables.';\n",
              "          element.innerHTML = '';\n",
              "          dataTable['output_type'] = 'display_data';\n",
              "          await google.colab.output.renderOutput(dataTable, element);\n",
              "          const docLink = document.createElement('div');\n",
              "          docLink.innerHTML = docLinkHtml;\n",
              "          element.appendChild(docLink);\n",
              "        }\n",
              "      </script>\n",
              "    </div>\n",
              "  </div>\n",
              "  "
            ],
            "text/plain": [
              "                  Close\n",
              "Date                   \n",
              "2017-01-01   998.325012\n",
              "2017-01-02  1021.750000\n",
              "2017-01-03  1043.839966\n",
              "2017-01-04  1154.729980\n",
              "2017-01-05  1013.380005"
            ]
          },
          "metadata": {},
          "execution_count": 6
        }
      ],
      "source": [
        "btc_df.head()"
      ]
    },
    {
      "cell_type": "code",
      "execution_count": 7,
      "id": "20e7e5b0",
      "metadata": {
        "id": "20e7e5b0"
      },
      "outputs": [],
      "source": [
        "short_window = 8\n",
        "long_window = 21"
      ]
    },
    {
      "cell_type": "code",
      "execution_count": 8,
      "id": "3049279d",
      "metadata": {
        "id": "3049279d"
      },
      "outputs": [],
      "source": [
        "btc_df['SMA8'] = btc_df['Close'].rolling(window=short_window).mean()\n",
        "btc_df['SMA21'] = btc_df['Close'].rolling(window=long_window).mean()"
      ]
    },
    {
      "cell_type": "code",
      "execution_count": 9,
      "id": "715be369",
      "metadata": {
        "colab": {
          "base_uri": "https://localhost:8080/",
          "height": 238
        },
        "id": "715be369",
        "outputId": "e2d0eef3-2c67-4374-a6bb-dfabe8d300c1"
      },
      "outputs": [
        {
          "output_type": "execute_result",
          "data": {
            "text/html": [
              "\n",
              "  <div id=\"df-3fa3c183-3288-4913-b38a-8da12725706f\">\n",
              "    <div class=\"colab-df-container\">\n",
              "      <div>\n",
              "<style scoped>\n",
              "    .dataframe tbody tr th:only-of-type {\n",
              "        vertical-align: middle;\n",
              "    }\n",
              "\n",
              "    .dataframe tbody tr th {\n",
              "        vertical-align: top;\n",
              "    }\n",
              "\n",
              "    .dataframe thead th {\n",
              "        text-align: right;\n",
              "    }\n",
              "</style>\n",
              "<table border=\"1\" class=\"dataframe\">\n",
              "  <thead>\n",
              "    <tr style=\"text-align: right;\">\n",
              "      <th></th>\n",
              "      <th>Close</th>\n",
              "      <th>SMA8</th>\n",
              "      <th>SMA21</th>\n",
              "    </tr>\n",
              "    <tr>\n",
              "      <th>Date</th>\n",
              "      <th></th>\n",
              "      <th></th>\n",
              "      <th></th>\n",
              "    </tr>\n",
              "  </thead>\n",
              "  <tbody>\n",
              "    <tr>\n",
              "      <th>2017-01-01</th>\n",
              "      <td>998.325012</td>\n",
              "      <td>NaN</td>\n",
              "      <td>NaN</td>\n",
              "    </tr>\n",
              "    <tr>\n",
              "      <th>2017-01-02</th>\n",
              "      <td>1021.750000</td>\n",
              "      <td>NaN</td>\n",
              "      <td>NaN</td>\n",
              "    </tr>\n",
              "    <tr>\n",
              "      <th>2017-01-03</th>\n",
              "      <td>1043.839966</td>\n",
              "      <td>NaN</td>\n",
              "      <td>NaN</td>\n",
              "    </tr>\n",
              "    <tr>\n",
              "      <th>2017-01-04</th>\n",
              "      <td>1154.729980</td>\n",
              "      <td>NaN</td>\n",
              "      <td>NaN</td>\n",
              "    </tr>\n",
              "    <tr>\n",
              "      <th>2017-01-05</th>\n",
              "      <td>1013.380005</td>\n",
              "      <td>NaN</td>\n",
              "      <td>NaN</td>\n",
              "    </tr>\n",
              "  </tbody>\n",
              "</table>\n",
              "</div>\n",
              "      <button class=\"colab-df-convert\" onclick=\"convertToInteractive('df-3fa3c183-3288-4913-b38a-8da12725706f')\"\n",
              "              title=\"Convert this dataframe to an interactive table.\"\n",
              "              style=\"display:none;\">\n",
              "        \n",
              "  <svg xmlns=\"http://www.w3.org/2000/svg\" height=\"24px\"viewBox=\"0 0 24 24\"\n",
              "       width=\"24px\">\n",
              "    <path d=\"M0 0h24v24H0V0z\" fill=\"none\"/>\n",
              "    <path d=\"M18.56 5.44l.94 2.06.94-2.06 2.06-.94-2.06-.94-.94-2.06-.94 2.06-2.06.94zm-11 1L8.5 8.5l.94-2.06 2.06-.94-2.06-.94L8.5 2.5l-.94 2.06-2.06.94zm10 10l.94 2.06.94-2.06 2.06-.94-2.06-.94-.94-2.06-.94 2.06-2.06.94z\"/><path d=\"M17.41 7.96l-1.37-1.37c-.4-.4-.92-.59-1.43-.59-.52 0-1.04.2-1.43.59L10.3 9.45l-7.72 7.72c-.78.78-.78 2.05 0 2.83L4 21.41c.39.39.9.59 1.41.59.51 0 1.02-.2 1.41-.59l7.78-7.78 2.81-2.81c.8-.78.8-2.07 0-2.86zM5.41 20L4 18.59l7.72-7.72 1.47 1.35L5.41 20z\"/>\n",
              "  </svg>\n",
              "      </button>\n",
              "      \n",
              "  <style>\n",
              "    .colab-df-container {\n",
              "      display:flex;\n",
              "      flex-wrap:wrap;\n",
              "      gap: 12px;\n",
              "    }\n",
              "\n",
              "    .colab-df-convert {\n",
              "      background-color: #E8F0FE;\n",
              "      border: none;\n",
              "      border-radius: 50%;\n",
              "      cursor: pointer;\n",
              "      display: none;\n",
              "      fill: #1967D2;\n",
              "      height: 32px;\n",
              "      padding: 0 0 0 0;\n",
              "      width: 32px;\n",
              "    }\n",
              "\n",
              "    .colab-df-convert:hover {\n",
              "      background-color: #E2EBFA;\n",
              "      box-shadow: 0px 1px 2px rgba(60, 64, 67, 0.3), 0px 1px 3px 1px rgba(60, 64, 67, 0.15);\n",
              "      fill: #174EA6;\n",
              "    }\n",
              "\n",
              "    [theme=dark] .colab-df-convert {\n",
              "      background-color: #3B4455;\n",
              "      fill: #D2E3FC;\n",
              "    }\n",
              "\n",
              "    [theme=dark] .colab-df-convert:hover {\n",
              "      background-color: #434B5C;\n",
              "      box-shadow: 0px 1px 3px 1px rgba(0, 0, 0, 0.15);\n",
              "      filter: drop-shadow(0px 1px 2px rgba(0, 0, 0, 0.3));\n",
              "      fill: #FFFFFF;\n",
              "    }\n",
              "  </style>\n",
              "\n",
              "      <script>\n",
              "        const buttonEl =\n",
              "          document.querySelector('#df-3fa3c183-3288-4913-b38a-8da12725706f button.colab-df-convert');\n",
              "        buttonEl.style.display =\n",
              "          google.colab.kernel.accessAllowed ? 'block' : 'none';\n",
              "\n",
              "        async function convertToInteractive(key) {\n",
              "          const element = document.querySelector('#df-3fa3c183-3288-4913-b38a-8da12725706f');\n",
              "          const dataTable =\n",
              "            await google.colab.kernel.invokeFunction('convertToInteractive',\n",
              "                                                     [key], {});\n",
              "          if (!dataTable) return;\n",
              "\n",
              "          const docLinkHtml = 'Like what you see? Visit the ' +\n",
              "            '<a target=\"_blank\" href=https://colab.research.google.com/notebooks/data_table.ipynb>data table notebook</a>'\n",
              "            + ' to learn more about interactive tables.';\n",
              "          element.innerHTML = '';\n",
              "          dataTable['output_type'] = 'display_data';\n",
              "          await google.colab.output.renderOutput(dataTable, element);\n",
              "          const docLink = document.createElement('div');\n",
              "          docLink.innerHTML = docLinkHtml;\n",
              "          element.appendChild(docLink);\n",
              "        }\n",
              "      </script>\n",
              "    </div>\n",
              "  </div>\n",
              "  "
            ],
            "text/plain": [
              "                  Close  SMA8  SMA21\n",
              "Date                                \n",
              "2017-01-01   998.325012   NaN    NaN\n",
              "2017-01-02  1021.750000   NaN    NaN\n",
              "2017-01-03  1043.839966   NaN    NaN\n",
              "2017-01-04  1154.729980   NaN    NaN\n",
              "2017-01-05  1013.380005   NaN    NaN"
            ]
          },
          "metadata": {},
          "execution_count": 9
        }
      ],
      "source": [
        "btc_df.head()"
      ]
    },
    {
      "cell_type": "code",
      "execution_count": 10,
      "id": "cb6a28c6",
      "metadata": {
        "id": "cb6a28c6"
      },
      "outputs": [],
      "source": [
        "btc_df['Signal'] = 0.0\n",
        "btc_df = btc_df.dropna()"
      ]
    },
    {
      "cell_type": "code",
      "execution_count": 11,
      "id": "7a1a8f7e",
      "metadata": {
        "id": "7a1a8f7e"
      },
      "outputs": [],
      "source": [
        "btc_df['Signal'][short_window:] = np.where(\n",
        "    btc_df['SMA8'][short_window:] > btc_df['SMA21'][short_window:], 1.0, 0.0\n",
        ")"
      ]
    },
    {
      "cell_type": "code",
      "execution_count": 12,
      "id": "b8fc6efb",
      "metadata": {
        "colab": {
          "base_uri": "https://localhost:8080/",
          "height": 394
        },
        "id": "b8fc6efb",
        "outputId": "f971e3e7-325c-4635-adfb-548d52d9f47c"
      },
      "outputs": [
        {
          "output_type": "execute_result",
          "data": {
            "text/html": [
              "\n",
              "  <div id=\"df-92f5e7ee-7e53-4e69-b11e-07963bf26080\">\n",
              "    <div class=\"colab-df-container\">\n",
              "      <div>\n",
              "<style scoped>\n",
              "    .dataframe tbody tr th:only-of-type {\n",
              "        vertical-align: middle;\n",
              "    }\n",
              "\n",
              "    .dataframe tbody tr th {\n",
              "        vertical-align: top;\n",
              "    }\n",
              "\n",
              "    .dataframe thead th {\n",
              "        text-align: right;\n",
              "    }\n",
              "</style>\n",
              "<table border=\"1\" class=\"dataframe\">\n",
              "  <thead>\n",
              "    <tr style=\"text-align: right;\">\n",
              "      <th></th>\n",
              "      <th>Close</th>\n",
              "      <th>SMA8</th>\n",
              "      <th>SMA21</th>\n",
              "      <th>Signal</th>\n",
              "      <th>Entry/Exit</th>\n",
              "    </tr>\n",
              "    <tr>\n",
              "      <th>Date</th>\n",
              "      <th></th>\n",
              "      <th></th>\n",
              "      <th></th>\n",
              "      <th></th>\n",
              "      <th></th>\n",
              "    </tr>\n",
              "  </thead>\n",
              "  <tbody>\n",
              "    <tr>\n",
              "      <th>2021-12-23</th>\n",
              "      <td>50784.539062</td>\n",
              "      <td>47831.663086</td>\n",
              "      <td>48725.319754</td>\n",
              "      <td>0.0</td>\n",
              "      <td>0.0</td>\n",
              "    </tr>\n",
              "    <tr>\n",
              "      <th>2021-12-24</th>\n",
              "      <td>50822.195312</td>\n",
              "      <td>48226.259277</td>\n",
              "      <td>48593.126860</td>\n",
              "      <td>0.0</td>\n",
              "      <td>0.0</td>\n",
              "    </tr>\n",
              "    <tr>\n",
              "      <th>2021-12-25</th>\n",
              "      <td>50429.859375</td>\n",
              "      <td>48754.723633</td>\n",
              "      <td>48651.658110</td>\n",
              "      <td>1.0</td>\n",
              "      <td>1.0</td>\n",
              "    </tr>\n",
              "    <tr>\n",
              "      <th>2021-12-26</th>\n",
              "      <td>50809.515625</td>\n",
              "      <td>49249.815918</td>\n",
              "      <td>48720.261347</td>\n",
              "      <td>1.0</td>\n",
              "      <td>0.0</td>\n",
              "    </tr>\n",
              "    <tr>\n",
              "      <th>2021-12-27</th>\n",
              "      <td>50640.417969</td>\n",
              "      <td>49741.491211</td>\n",
              "      <td>48723.013393</td>\n",
              "      <td>1.0</td>\n",
              "      <td>0.0</td>\n",
              "    </tr>\n",
              "    <tr>\n",
              "      <th>2021-12-28</th>\n",
              "      <td>47588.855469</td>\n",
              "      <td>49830.063477</td>\n",
              "      <td>48574.859561</td>\n",
              "      <td>1.0</td>\n",
              "      <td>0.0</td>\n",
              "    </tr>\n",
              "    <tr>\n",
              "      <th>2021-12-29</th>\n",
              "      <td>46444.710938</td>\n",
              "      <td>49518.575684</td>\n",
              "      <td>48381.522135</td>\n",
              "      <td>1.0</td>\n",
              "      <td>0.0</td>\n",
              "    </tr>\n",
              "    <tr>\n",
              "      <th>2021-12-30</th>\n",
              "      <td>47178.125000</td>\n",
              "      <td>49337.277344</td>\n",
              "      <td>48357.998512</td>\n",
              "      <td>1.0</td>\n",
              "      <td>0.0</td>\n",
              "    </tr>\n",
              "    <tr>\n",
              "      <th>2021-12-31</th>\n",
              "      <td>46306.445312</td>\n",
              "      <td>48777.515625</td>\n",
              "      <td>48313.386161</td>\n",
              "      <td>1.0</td>\n",
              "      <td>0.0</td>\n",
              "    </tr>\n",
              "    <tr>\n",
              "      <th>2022-01-01</th>\n",
              "      <td>47686.812500</td>\n",
              "      <td>48385.592773</td>\n",
              "      <td>48233.591146</td>\n",
              "      <td>1.0</td>\n",
              "      <td>0.0</td>\n",
              "    </tr>\n",
              "  </tbody>\n",
              "</table>\n",
              "</div>\n",
              "      <button class=\"colab-df-convert\" onclick=\"convertToInteractive('df-92f5e7ee-7e53-4e69-b11e-07963bf26080')\"\n",
              "              title=\"Convert this dataframe to an interactive table.\"\n",
              "              style=\"display:none;\">\n",
              "        \n",
              "  <svg xmlns=\"http://www.w3.org/2000/svg\" height=\"24px\"viewBox=\"0 0 24 24\"\n",
              "       width=\"24px\">\n",
              "    <path d=\"M0 0h24v24H0V0z\" fill=\"none\"/>\n",
              "    <path d=\"M18.56 5.44l.94 2.06.94-2.06 2.06-.94-2.06-.94-.94-2.06-.94 2.06-2.06.94zm-11 1L8.5 8.5l.94-2.06 2.06-.94-2.06-.94L8.5 2.5l-.94 2.06-2.06.94zm10 10l.94 2.06.94-2.06 2.06-.94-2.06-.94-.94-2.06-.94 2.06-2.06.94z\"/><path d=\"M17.41 7.96l-1.37-1.37c-.4-.4-.92-.59-1.43-.59-.52 0-1.04.2-1.43.59L10.3 9.45l-7.72 7.72c-.78.78-.78 2.05 0 2.83L4 21.41c.39.39.9.59 1.41.59.51 0 1.02-.2 1.41-.59l7.78-7.78 2.81-2.81c.8-.78.8-2.07 0-2.86zM5.41 20L4 18.59l7.72-7.72 1.47 1.35L5.41 20z\"/>\n",
              "  </svg>\n",
              "      </button>\n",
              "      \n",
              "  <style>\n",
              "    .colab-df-container {\n",
              "      display:flex;\n",
              "      flex-wrap:wrap;\n",
              "      gap: 12px;\n",
              "    }\n",
              "\n",
              "    .colab-df-convert {\n",
              "      background-color: #E8F0FE;\n",
              "      border: none;\n",
              "      border-radius: 50%;\n",
              "      cursor: pointer;\n",
              "      display: none;\n",
              "      fill: #1967D2;\n",
              "      height: 32px;\n",
              "      padding: 0 0 0 0;\n",
              "      width: 32px;\n",
              "    }\n",
              "\n",
              "    .colab-df-convert:hover {\n",
              "      background-color: #E2EBFA;\n",
              "      box-shadow: 0px 1px 2px rgba(60, 64, 67, 0.3), 0px 1px 3px 1px rgba(60, 64, 67, 0.15);\n",
              "      fill: #174EA6;\n",
              "    }\n",
              "\n",
              "    [theme=dark] .colab-df-convert {\n",
              "      background-color: #3B4455;\n",
              "      fill: #D2E3FC;\n",
              "    }\n",
              "\n",
              "    [theme=dark] .colab-df-convert:hover {\n",
              "      background-color: #434B5C;\n",
              "      box-shadow: 0px 1px 3px 1px rgba(0, 0, 0, 0.15);\n",
              "      filter: drop-shadow(0px 1px 2px rgba(0, 0, 0, 0.3));\n",
              "      fill: #FFFFFF;\n",
              "    }\n",
              "  </style>\n",
              "\n",
              "      <script>\n",
              "        const buttonEl =\n",
              "          document.querySelector('#df-92f5e7ee-7e53-4e69-b11e-07963bf26080 button.colab-df-convert');\n",
              "        buttonEl.style.display =\n",
              "          google.colab.kernel.accessAllowed ? 'block' : 'none';\n",
              "\n",
              "        async function convertToInteractive(key) {\n",
              "          const element = document.querySelector('#df-92f5e7ee-7e53-4e69-b11e-07963bf26080');\n",
              "          const dataTable =\n",
              "            await google.colab.kernel.invokeFunction('convertToInteractive',\n",
              "                                                     [key], {});\n",
              "          if (!dataTable) return;\n",
              "\n",
              "          const docLinkHtml = 'Like what you see? Visit the ' +\n",
              "            '<a target=\"_blank\" href=https://colab.research.google.com/notebooks/data_table.ipynb>data table notebook</a>'\n",
              "            + ' to learn more about interactive tables.';\n",
              "          element.innerHTML = '';\n",
              "          dataTable['output_type'] = 'display_data';\n",
              "          await google.colab.output.renderOutput(dataTable, element);\n",
              "          const docLink = document.createElement('div');\n",
              "          docLink.innerHTML = docLinkHtml;\n",
              "          element.appendChild(docLink);\n",
              "        }\n",
              "      </script>\n",
              "    </div>\n",
              "  </div>\n",
              "  "
            ],
            "text/plain": [
              "                   Close          SMA8         SMA21  Signal  Entry/Exit\n",
              "Date                                                                    \n",
              "2021-12-23  50784.539062  47831.663086  48725.319754     0.0         0.0\n",
              "2021-12-24  50822.195312  48226.259277  48593.126860     0.0         0.0\n",
              "2021-12-25  50429.859375  48754.723633  48651.658110     1.0         1.0\n",
              "2021-12-26  50809.515625  49249.815918  48720.261347     1.0         0.0\n",
              "2021-12-27  50640.417969  49741.491211  48723.013393     1.0         0.0\n",
              "2021-12-28  47588.855469  49830.063477  48574.859561     1.0         0.0\n",
              "2021-12-29  46444.710938  49518.575684  48381.522135     1.0         0.0\n",
              "2021-12-30  47178.125000  49337.277344  48357.998512     1.0         0.0\n",
              "2021-12-31  46306.445312  48777.515625  48313.386161     1.0         0.0\n",
              "2022-01-01  47686.812500  48385.592773  48233.591146     1.0         0.0"
            ]
          },
          "metadata": {},
          "execution_count": 12
        }
      ],
      "source": [
        "# Calculate the points in time when the Signal value changes\n",
        "# Identify trade entry (1) and exit (-1) points\n",
        "btc_df['Entry/Exit'] = btc_df['Signal'].diff()\n",
        "\n",
        "# Review the DataFrame\n",
        "btc_df.tail(10)"
      ]
    },
    {
      "cell_type": "code",
      "execution_count": 13,
      "id": "470bf510",
      "metadata": {
        "id": "470bf510"
      },
      "outputs": [],
      "source": [
        "# Filling missing values with the previous ones\n",
        "btc_df = btc_df.fillna(method ='pad')"
      ]
    },
    {
      "cell_type": "code",
      "execution_count": 14,
      "id": "f77f741d",
      "metadata": {
        "colab": {
          "base_uri": "https://localhost:8080/",
          "height": 455
        },
        "id": "f77f741d",
        "outputId": "d72b1b48-108e-4453-9f05-80f4855b0316"
      },
      "outputs": [
        {
          "output_type": "execute_result",
          "data": {
            "text/html": [
              "\n",
              "  <div id=\"df-5f61cf57-1319-49da-a016-9290fc9a100a\">\n",
              "    <div class=\"colab-df-container\">\n",
              "      <div>\n",
              "<style scoped>\n",
              "    .dataframe tbody tr th:only-of-type {\n",
              "        vertical-align: middle;\n",
              "    }\n",
              "\n",
              "    .dataframe tbody tr th {\n",
              "        vertical-align: top;\n",
              "    }\n",
              "\n",
              "    .dataframe thead th {\n",
              "        text-align: right;\n",
              "    }\n",
              "</style>\n",
              "<table border=\"1\" class=\"dataframe\">\n",
              "  <thead>\n",
              "    <tr style=\"text-align: right;\">\n",
              "      <th></th>\n",
              "      <th>Close</th>\n",
              "    </tr>\n",
              "    <tr>\n",
              "      <th>Date</th>\n",
              "      <th></th>\n",
              "    </tr>\n",
              "  </thead>\n",
              "  <tbody>\n",
              "    <tr>\n",
              "      <th>2017-01-21</th>\n",
              "      <td>921.789001</td>\n",
              "    </tr>\n",
              "    <tr>\n",
              "      <th>2017-01-22</th>\n",
              "      <td>924.672974</td>\n",
              "    </tr>\n",
              "    <tr>\n",
              "      <th>2017-01-23</th>\n",
              "      <td>921.012024</td>\n",
              "    </tr>\n",
              "    <tr>\n",
              "      <th>2017-01-24</th>\n",
              "      <td>892.687012</td>\n",
              "    </tr>\n",
              "    <tr>\n",
              "      <th>2017-01-25</th>\n",
              "      <td>901.541992</td>\n",
              "    </tr>\n",
              "    <tr>\n",
              "      <th>...</th>\n",
              "      <td>...</td>\n",
              "    </tr>\n",
              "    <tr>\n",
              "      <th>2021-12-28</th>\n",
              "      <td>47588.855469</td>\n",
              "    </tr>\n",
              "    <tr>\n",
              "      <th>2021-12-29</th>\n",
              "      <td>46444.710938</td>\n",
              "    </tr>\n",
              "    <tr>\n",
              "      <th>2021-12-30</th>\n",
              "      <td>47178.125000</td>\n",
              "    </tr>\n",
              "    <tr>\n",
              "      <th>2021-12-31</th>\n",
              "      <td>46306.445312</td>\n",
              "    </tr>\n",
              "    <tr>\n",
              "      <th>2022-01-01</th>\n",
              "      <td>47686.812500</td>\n",
              "    </tr>\n",
              "  </tbody>\n",
              "</table>\n",
              "<p>1807 rows × 1 columns</p>\n",
              "</div>\n",
              "      <button class=\"colab-df-convert\" onclick=\"convertToInteractive('df-5f61cf57-1319-49da-a016-9290fc9a100a')\"\n",
              "              title=\"Convert this dataframe to an interactive table.\"\n",
              "              style=\"display:none;\">\n",
              "        \n",
              "  <svg xmlns=\"http://www.w3.org/2000/svg\" height=\"24px\"viewBox=\"0 0 24 24\"\n",
              "       width=\"24px\">\n",
              "    <path d=\"M0 0h24v24H0V0z\" fill=\"none\"/>\n",
              "    <path d=\"M18.56 5.44l.94 2.06.94-2.06 2.06-.94-2.06-.94-.94-2.06-.94 2.06-2.06.94zm-11 1L8.5 8.5l.94-2.06 2.06-.94-2.06-.94L8.5 2.5l-.94 2.06-2.06.94zm10 10l.94 2.06.94-2.06 2.06-.94-2.06-.94-.94-2.06-.94 2.06-2.06.94z\"/><path d=\"M17.41 7.96l-1.37-1.37c-.4-.4-.92-.59-1.43-.59-.52 0-1.04.2-1.43.59L10.3 9.45l-7.72 7.72c-.78.78-.78 2.05 0 2.83L4 21.41c.39.39.9.59 1.41.59.51 0 1.02-.2 1.41-.59l7.78-7.78 2.81-2.81c.8-.78.8-2.07 0-2.86zM5.41 20L4 18.59l7.72-7.72 1.47 1.35L5.41 20z\"/>\n",
              "  </svg>\n",
              "      </button>\n",
              "      \n",
              "  <style>\n",
              "    .colab-df-container {\n",
              "      display:flex;\n",
              "      flex-wrap:wrap;\n",
              "      gap: 12px;\n",
              "    }\n",
              "\n",
              "    .colab-df-convert {\n",
              "      background-color: #E8F0FE;\n",
              "      border: none;\n",
              "      border-radius: 50%;\n",
              "      cursor: pointer;\n",
              "      display: none;\n",
              "      fill: #1967D2;\n",
              "      height: 32px;\n",
              "      padding: 0 0 0 0;\n",
              "      width: 32px;\n",
              "    }\n",
              "\n",
              "    .colab-df-convert:hover {\n",
              "      background-color: #E2EBFA;\n",
              "      box-shadow: 0px 1px 2px rgba(60, 64, 67, 0.3), 0px 1px 3px 1px rgba(60, 64, 67, 0.15);\n",
              "      fill: #174EA6;\n",
              "    }\n",
              "\n",
              "    [theme=dark] .colab-df-convert {\n",
              "      background-color: #3B4455;\n",
              "      fill: #D2E3FC;\n",
              "    }\n",
              "\n",
              "    [theme=dark] .colab-df-convert:hover {\n",
              "      background-color: #434B5C;\n",
              "      box-shadow: 0px 1px 3px 1px rgba(0, 0, 0, 0.15);\n",
              "      filter: drop-shadow(0px 1px 2px rgba(0, 0, 0, 0.3));\n",
              "      fill: #FFFFFF;\n",
              "    }\n",
              "  </style>\n",
              "\n",
              "      <script>\n",
              "        const buttonEl =\n",
              "          document.querySelector('#df-5f61cf57-1319-49da-a016-9290fc9a100a button.colab-df-convert');\n",
              "        buttonEl.style.display =\n",
              "          google.colab.kernel.accessAllowed ? 'block' : 'none';\n",
              "\n",
              "        async function convertToInteractive(key) {\n",
              "          const element = document.querySelector('#df-5f61cf57-1319-49da-a016-9290fc9a100a');\n",
              "          const dataTable =\n",
              "            await google.colab.kernel.invokeFunction('convertToInteractive',\n",
              "                                                     [key], {});\n",
              "          if (!dataTable) return;\n",
              "\n",
              "          const docLinkHtml = 'Like what you see? Visit the ' +\n",
              "            '<a target=\"_blank\" href=https://colab.research.google.com/notebooks/data_table.ipynb>data table notebook</a>'\n",
              "            + ' to learn more about interactive tables.';\n",
              "          element.innerHTML = '';\n",
              "          dataTable['output_type'] = 'display_data';\n",
              "          await google.colab.output.renderOutput(dataTable, element);\n",
              "          const docLink = document.createElement('div');\n",
              "          docLink.innerHTML = docLinkHtml;\n",
              "          element.appendChild(docLink);\n",
              "        }\n",
              "      </script>\n",
              "    </div>\n",
              "  </div>\n",
              "  "
            ],
            "text/plain": [
              "                   Close\n",
              "Date                    \n",
              "2017-01-21    921.789001\n",
              "2017-01-22    924.672974\n",
              "2017-01-23    921.012024\n",
              "2017-01-24    892.687012\n",
              "2017-01-25    901.541992\n",
              "...                  ...\n",
              "2021-12-28  47588.855469\n",
              "2021-12-29  46444.710938\n",
              "2021-12-30  47178.125000\n",
              "2021-12-31  46306.445312\n",
              "2022-01-01  47686.812500\n",
              "\n",
              "[1807 rows x 1 columns]"
            ]
          },
          "metadata": {},
          "execution_count": 14
        }
      ],
      "source": [
        "btc_rnn = btc_df[['Close']]\n",
        "btc_rnn"
      ]
    },
    {
      "cell_type": "code",
      "execution_count": 15,
      "id": "0ba96c8e",
      "metadata": {
        "id": "0ba96c8e"
      },
      "outputs": [],
      "source": [
        " def window_data(df, window, feature_col_number, target_col_number):\n",
        "    \"\"\"\n",
        "    This function accepts the column number for the features (X) and the target (y).\n",
        "    It chunks the data up with a rolling window of Xt - window to predict Xt.\n",
        "    It returns two numpy arrays of X and y.\n",
        "    \"\"\"\n",
        "    X = []\n",
        "    y = []\n",
        "    for i in range(len(df) - window):\n",
        "        features = df.iloc[i : (i + window), feature_col_number]\n",
        "        target = df.iloc[(i + window), target_col_number]\n",
        "        X.append(features)\n",
        "        y.append(target)\n",
        "    return np.array(X), np.array(y).reshape(-1, 1)"
      ]
    },
    {
      "cell_type": "code",
      "execution_count": 16,
      "id": "0399d86b",
      "metadata": {
        "colab": {
          "base_uri": "https://localhost:8080/"
        },
        "id": "0399d86b",
        "outputId": "30876dfd-ecf8-477a-9d8b-c6cda1bc0354"
      },
      "outputs": [
        {
          "output_type": "execute_result",
          "data": {
            "text/plain": [
              "Close    0\n",
              "dtype: int64"
            ]
          },
          "metadata": {},
          "execution_count": 16
        }
      ],
      "source": [
        "btc_rnn.isnull().sum()"
      ]
    },
    {
      "cell_type": "code",
      "execution_count": 17,
      "id": "d1ce657d",
      "metadata": {
        "colab": {
          "base_uri": "https://localhost:8080/"
        },
        "id": "d1ce657d",
        "outputId": "fbc7836d-4333-40e7-9da9-bac359a68f62"
      },
      "outputs": [
        {
          "output_type": "stream",
          "name": "stdout",
          "text": [
            "X sample values:\n",
            "[[ 921.78900146  924.67297363  921.01202393  892.68701172  901.54199219\n",
            "   917.58599854  919.75        921.59002686  919.49597168  920.38201904\n",
            "   970.40301514  989.02301025 1011.79998779 1029.91003418 1042.90002441\n",
            "  1027.33996582 1038.15002441 1061.34997559 1063.06994629  994.38299561\n",
            "   988.67401123 1004.45001221  999.18103027  990.64202881 1004.54998779\n",
            "  1007.47998047 1027.43994141 1046.20996094 1054.42004395 1047.86999512]\n",
            " [ 924.67297363  921.01202393  892.68701172  901.54199219  917.58599854\n",
            "   919.75        921.59002686  919.49597168  920.38201904  970.40301514\n",
            "   989.02301025 1011.79998779 1029.91003418 1042.90002441 1027.33996582\n",
            "  1038.15002441 1061.34997559 1063.06994629  994.38299561  988.67401123\n",
            "  1004.45001221  999.18103027  990.64202881 1004.54998779 1007.47998047\n",
            "  1027.43994141 1046.20996094 1054.42004395 1047.86999512 1079.97998047]\n",
            " [ 921.01202393  892.68701172  901.54199219  917.58599854  919.75\n",
            "   921.59002686  919.49597168  920.38201904  970.40301514  989.02301025\n",
            "  1011.79998779 1029.91003418 1042.90002441 1027.33996582 1038.15002441\n",
            "  1061.34997559 1063.06994629  994.38299561  988.67401123 1004.45001221\n",
            "   999.18103027  990.64202881 1004.54998779 1007.47998047 1027.43994141\n",
            "  1046.20996094 1054.42004395 1047.86999512 1079.97998047 1115.30004883]] \n",
            "\n",
            "y sample values:\n",
            "[[1079.97998047]\n",
            " [1115.30004883]\n",
            " [1117.43994141]]\n"
          ]
        }
      ],
      "source": [
        "# Define the window size\n",
        "window_size = 30\n",
        "\n",
        "# Set the index of the feature and target columns\n",
        "feature_column = 0\n",
        "target_column = 0\n",
        "\n",
        "# Create the features (X) and target (y) data using the window_data() function.\n",
        "X, y = window_data(btc_rnn, window_size, feature_column, target_column)\n",
        "\n",
        "# Print a few sample values from X and y\n",
        "print (f\"X sample values:\\n{X[:3]} \\n\")\n",
        "print (f\"y sample values:\\n{y[:3]}\")"
      ]
    },
    {
      "cell_type": "code",
      "execution_count": 18,
      "id": "dcdaa143",
      "metadata": {
        "id": "dcdaa143"
      },
      "outputs": [],
      "source": [
        " # Manually splitting the data\n",
        "split = int(0.7 * len(X))\n",
        "\n",
        "X_train = X[: split]\n",
        "X_test = X[split:]\n",
        "\n",
        "y_train = y[: split]\n",
        "y_test = y[split:]"
      ]
    },
    {
      "cell_type": "code",
      "execution_count": 19,
      "id": "d2b58717",
      "metadata": {
        "id": "d2b58717"
      },
      "outputs": [],
      "source": [
        "# Importing the MinMaxScaler from sklearn\n",
        "from sklearn.preprocessing import MinMaxScaler\n",
        "\n",
        "# Create a MinMaxScaler object\n",
        "scaler = MinMaxScaler()\n",
        "\n",
        "# Fit the MinMaxScaler object with the features data X\n",
        "scaler.fit(X_train)\n",
        "\n",
        "# Scale the features training and testing sets\n",
        "X_train = scaler.transform(X_train)\n",
        "X_test = scaler.transform(X_test)\n",
        "\n",
        "# Fit the MinMaxScaler object with the target data Y\n",
        "scaler.fit(y_train)\n",
        "\n",
        "# Scale the target training and testing sets\n",
        "y_train = scaler.transform(y_train)\n",
        "y_test = scaler.transform(y_test)"
      ]
    },
    {
      "cell_type": "code",
      "execution_count": 20,
      "id": "91dac074",
      "metadata": {
        "colab": {
          "base_uri": "https://localhost:8080/"
        },
        "id": "91dac074",
        "outputId": "56199dd7-f045-4472-dbd1-971f1d1c0b17"
      },
      "outputs": [
        {
          "output_type": "stream",
          "name": "stdout",
          "text": [
            "X_train sample values:\n",
            "[[[1.56422672e-03]\n",
            "  [1.71923970e-03]\n",
            "  [1.52246431e-03]\n",
            "  [0.00000000e+00]\n",
            "  [0.00000000e+00]\n",
            "  [0.00000000e+00]\n",
            "  [1.36736800e-05]\n",
            "  [1.12717513e-04]\n",
            "  [0.00000000e+00]\n",
            "  [0.00000000e+00]\n",
            "  [1.77172454e-03]\n",
            "  [2.77496351e-03]\n",
            "  [4.00217926e-03]\n",
            "  [4.97794236e-03]\n",
            "  [5.67783858e-03]\n",
            "  [4.83946795e-03]\n",
            "  [5.42191021e-03]\n",
            "  [6.67191564e-03]\n",
            "  [6.76458707e-03]\n",
            "  [3.06375768e-03]\n",
            "  [2.75615956e-03]\n",
            "  [3.60616509e-03]\n",
            "  [3.32227415e-03]\n",
            "  [2.86219567e-03]\n",
            "  [3.61155174e-03]\n",
            "  [3.76941874e-03]\n",
            "  [4.84485460e-03]\n",
            "  [5.85617683e-03]\n",
            "  [6.29853329e-03]\n",
            "  [5.94561890e-03]]\n",
            "\n",
            " [[1.71923970e-03]\n",
            "  [1.52246431e-03]\n",
            "  [0.00000000e+00]\n",
            "  [4.75953609e-04]\n",
            "  [8.62773097e-04]\n",
            "  [1.16470564e-04]\n",
            "  [1.12717513e-04]\n",
            "  [0.00000000e+00]\n",
            "  [4.76936119e-05]\n",
            "  [2.69262780e-03]\n",
            "  [2.77496351e-03]\n",
            "  [4.00217926e-03]\n",
            "  [4.97794236e-03]\n",
            "  [5.67783858e-03]\n",
            "  [4.83946795e-03]\n",
            "  [5.42191021e-03]\n",
            "  [6.67191564e-03]\n",
            "  [6.76458707e-03]\n",
            "  [3.06375768e-03]\n",
            "  [2.75615956e-03]\n",
            "  [3.60616509e-03]\n",
            "  [3.32227415e-03]\n",
            "  [2.86219567e-03]\n",
            "  [3.61155174e-03]\n",
            "  [3.76941874e-03]\n",
            "  [4.84485460e-03]\n",
            "  [5.85617683e-03]\n",
            "  [6.29853329e-03]\n",
            "  [5.94561890e-03]\n",
            "  [7.67569392e-03]]\n",
            "\n",
            " [[1.52246431e-03]\n",
            "  [0.00000000e+00]\n",
            "  [4.75953609e-04]\n",
            "  [1.33831607e-03]\n",
            "  [9.79143174e-04]\n",
            "  [2.15504215e-04]\n",
            "  [0.00000000e+00]\n",
            "  [4.76936119e-05]\n",
            "  [2.74019299e-03]\n",
            "  [3.69494124e-03]\n",
            "  [4.00217926e-03]\n",
            "  [4.97794236e-03]\n",
            "  [5.67783858e-03]\n",
            "  [4.83946795e-03]\n",
            "  [5.42191021e-03]\n",
            "  [6.67191564e-03]\n",
            "  [6.76458707e-03]\n",
            "  [3.06375768e-03]\n",
            "  [2.75615956e-03]\n",
            "  [3.60616509e-03]\n",
            "  [3.32227415e-03]\n",
            "  [2.86219567e-03]\n",
            "  [3.61155174e-03]\n",
            "  [3.76941874e-03]\n",
            "  [4.84485460e-03]\n",
            "  [5.85617683e-03]\n",
            "  [6.29853329e-03]\n",
            "  [5.94561890e-03]\n",
            "  [7.67569392e-03]\n",
            "  [9.57872711e-03]]] \n",
            "\n",
            "X_test sample values:\n",
            "[[[0.46158023]\n",
            "  [0.45790299]\n",
            "  [0.45124756]\n",
            "  [0.45362988]\n",
            "  [0.45182576]\n",
            "  [0.46992567]\n",
            "  [0.46884525]\n",
            "  [0.45183322]\n",
            "  [0.44920661]\n",
            "  [0.44369531]\n",
            "  [0.43684929]\n",
            "  [0.44213981]\n",
            "  [0.44468684]\n",
            "  [0.44183869]\n",
            "  [0.44670574]\n",
            "  [0.44105296]\n",
            "  [0.43910756]\n",
            "  [0.44154208]\n",
            "  [0.43838765]\n",
            "  [0.4546341 ]\n",
            "  [0.44799628]\n",
            "  [0.4574821 ]\n",
            "  [0.44938047]\n",
            "  [0.44942572]\n",
            "  [0.44735346]\n",
            "  [0.44930139]\n",
            "  [0.44752951]\n",
            "  [0.44750794]\n",
            "  [0.44479365]\n",
            "  [0.44152804]]\n",
            "\n",
            " [[0.45790299]\n",
            "  [0.45124756]\n",
            "  [0.45362988]\n",
            "  [0.45208667]\n",
            "  [0.47038301]\n",
            "  [0.46889985]\n",
            "  [0.45183322]\n",
            "  [0.44920661]\n",
            "  [0.44372184]\n",
            "  [0.43736882]\n",
            "  [0.44213981]\n",
            "  [0.44468684]\n",
            "  [0.44183869]\n",
            "  [0.44670574]\n",
            "  [0.44105296]\n",
            "  [0.43910756]\n",
            "  [0.44154208]\n",
            "  [0.43838765]\n",
            "  [0.4546341 ]\n",
            "  [0.44799628]\n",
            "  [0.4574821 ]\n",
            "  [0.44938047]\n",
            "  [0.44942572]\n",
            "  [0.44735346]\n",
            "  [0.44930139]\n",
            "  [0.44752951]\n",
            "  [0.44750794]\n",
            "  [0.44479365]\n",
            "  [0.44152804]\n",
            "  [0.44256064]]\n",
            "\n",
            " [[0.45124756]\n",
            "  [0.45362988]\n",
            "  [0.45208667]\n",
            "  [0.47063508]\n",
            "  [0.46935807]\n",
            "  [0.45188957]\n",
            "  [0.44920661]\n",
            "  [0.44372184]\n",
            "  [0.43739565]\n",
            "  [0.44265446]\n",
            "  [0.44468684]\n",
            "  [0.44183869]\n",
            "  [0.44670574]\n",
            "  [0.44105296]\n",
            "  [0.43910756]\n",
            "  [0.44154208]\n",
            "  [0.43838765]\n",
            "  [0.4546341 ]\n",
            "  [0.44799628]\n",
            "  [0.4574821 ]\n",
            "  [0.44938047]\n",
            "  [0.44942572]\n",
            "  [0.44735346]\n",
            "  [0.44930139]\n",
            "  [0.44752951]\n",
            "  [0.44750794]\n",
            "  [0.44479365]\n",
            "  [0.44152804]\n",
            "  [0.44256064]\n",
            "  [0.44297268]]]\n"
          ]
        }
      ],
      "source": [
        "# Reshape the features data\n",
        "X_train = X_train.reshape((X_train.shape[0], X_train.shape[1], 1))\n",
        "X_test = X_test.reshape((X_test.shape[0], X_test.shape[1], 1))\n",
        "\n",
        "# Print some sample data after reshaping the datasets\n",
        "print (f\"X_train sample values:\\n{X_train[:3]} \\n\")\n",
        "print (f\"X_test sample values:\\n{X_test[:3]}\")"
      ]
    },
    {
      "cell_type": "code",
      "execution_count": 21,
      "id": "351bbba8",
      "metadata": {
        "id": "351bbba8"
      },
      "outputs": [],
      "source": [
        " # Importing required Keras modules\n",
        "from tensorflow.keras.models import Sequential\n",
        "from tensorflow.keras.layers import LSTM, Dense, Dropout"
      ]
    },
    {
      "cell_type": "code",
      "execution_count": 22,
      "id": "87b7bf2e",
      "metadata": {
        "id": "87b7bf2e"
      },
      "outputs": [],
      "source": [
        "# Define the LSTM RNN model.\n",
        "model = Sequential()\n",
        "\n",
        "# Initial model setup\n",
        "\n",
        "number_units = 30\n",
        "dropout_fraction = 0.2\n",
        "\n",
        "# Layer 1\n",
        "model.add(LSTM(\n",
        "    units=number_units,\n",
        "    return_sequences=True,\n",
        "    input_shape=(X_train.shape[1], 1))\n",
        "    )\n",
        "model.add(Dropout(dropout_fraction))\n",
        "\n",
        "# Layer 2\n",
        "model.add(LSTM(units=number_units, return_sequences=True))\n",
        "model.add(Dropout(dropout_fraction))\n",
        "\n",
        "# Layer 3\n",
        "model.add(LSTM(units=number_units))\n",
        "model.add(Dropout(dropout_fraction))\n",
        "\n",
        "# Output layer\n",
        "model.add(Dense(1))"
      ]
    },
    {
      "cell_type": "code",
      "execution_count": 23,
      "id": "e6ddd5c0",
      "metadata": {
        "id": "e6ddd5c0"
      },
      "outputs": [],
      "source": [
        "# Compile the model\n",
        "model.compile(optimizer=\"adam\", loss=\"mean_squared_error\")"
      ]
    },
    {
      "cell_type": "code",
      "execution_count": 24,
      "id": "88874a07",
      "metadata": {
        "colab": {
          "base_uri": "https://localhost:8080/"
        },
        "id": "88874a07",
        "outputId": "7d1cea91-635f-4bd4-ce8b-9e208ab6785e"
      },
      "outputs": [
        {
          "output_type": "stream",
          "name": "stdout",
          "text": [
            "Model: \"sequential\"\n",
            "_________________________________________________________________\n",
            " Layer (type)                Output Shape              Param #   \n",
            "=================================================================\n",
            " lstm (LSTM)                 (None, 30, 30)            3840      \n",
            "                                                                 \n",
            " dropout (Dropout)           (None, 30, 30)            0         \n",
            "                                                                 \n",
            " lstm_1 (LSTM)               (None, 30, 30)            7320      \n",
            "                                                                 \n",
            " dropout_1 (Dropout)         (None, 30, 30)            0         \n",
            "                                                                 \n",
            " lstm_2 (LSTM)               (None, 30)                7320      \n",
            "                                                                 \n",
            " dropout_2 (Dropout)         (None, 30)                0         \n",
            "                                                                 \n",
            " dense (Dense)               (None, 1)                 31        \n",
            "                                                                 \n",
            "=================================================================\n",
            "Total params: 18,511\n",
            "Trainable params: 18,511\n",
            "Non-trainable params: 0\n",
            "_________________________________________________________________\n"
          ]
        }
      ],
      "source": [
        "# Compile the model\n",
        "model.compile(optimizer=\"adam\", loss=\"mean_squared_error\")\n",
        "# Show the model summary\n",
        "model.summary()"
      ]
    },
    {
      "cell_type": "code",
      "execution_count": 25,
      "id": "e8a601f3",
      "metadata": {
        "colab": {
          "base_uri": "https://localhost:8080/"
        },
        "id": "e8a601f3",
        "outputId": "1df8989f-ae78-40a5-cbec-d25bfa3b9569"
      },
      "outputs": [
        {
          "output_type": "stream",
          "name": "stdout",
          "text": [
            "Epoch 1/10\n",
            "14/14 [==============================] - 13s 56ms/step - loss: 0.0497\n",
            "Epoch 2/10\n",
            "14/14 [==============================] - 1s 53ms/step - loss: 0.0182\n",
            "Epoch 3/10\n",
            "14/14 [==============================] - 1s 56ms/step - loss: 0.0100\n",
            "Epoch 4/10\n",
            "14/14 [==============================] - 1s 56ms/step - loss: 0.0073\n",
            "Epoch 5/10\n",
            "14/14 [==============================] - 1s 58ms/step - loss: 0.0065\n",
            "Epoch 6/10\n",
            "14/14 [==============================] - 1s 56ms/step - loss: 0.0060\n",
            "Epoch 7/10\n",
            "14/14 [==============================] - 1s 54ms/step - loss: 0.0056\n",
            "Epoch 8/10\n",
            "14/14 [==============================] - 1s 55ms/step - loss: 0.0054\n",
            "Epoch 9/10\n",
            "14/14 [==============================] - 1s 53ms/step - loss: 0.0054\n",
            "Epoch 10/10\n",
            "14/14 [==============================] - 1s 56ms/step - loss: 0.0050\n"
          ]
        },
        {
          "output_type": "execute_result",
          "data": {
            "text/plain": [
              "<keras.callbacks.History at 0x7f12caf8d050>"
            ]
          },
          "metadata": {},
          "execution_count": 25
        }
      ],
      "source": [
        " # Train the model\n",
        "model.fit(X_train, y_train, epochs=10, shuffle=False, batch_size=90, verbose=1)"
      ]
    },
    {
      "cell_type": "code",
      "execution_count": 26,
      "id": "56649c7b",
      "metadata": {
        "colab": {
          "base_uri": "https://localhost:8080/"
        },
        "id": "56649c7b",
        "outputId": "beb81147-e1d1-47a9-e9c7-dd9965b1211e"
      },
      "outputs": [
        {
          "output_type": "execute_result",
          "data": {
            "text/plain": [
              "1.0205754041671753"
            ]
          },
          "metadata": {},
          "execution_count": 26
        }
      ],
      "source": [
        "# Evaluate the model\n",
        "model.evaluate(X_test, y_test, verbose=0)"
      ]
    },
    {
      "cell_type": "code",
      "execution_count": 27,
      "id": "bb5716ab",
      "metadata": {
        "id": "bb5716ab"
      },
      "outputs": [],
      "source": [
        "# Make predictions using the testing data X_test\n",
        "predicted = model.predict(X_test)"
      ]
    },
    {
      "cell_type": "code",
      "execution_count": 28,
      "id": "2f2ca11f",
      "metadata": {
        "id": "2f2ca11f"
      },
      "outputs": [],
      "source": [
        "# Recover the original prices instead of the scaled version\n",
        "predicted_prices = scaler.inverse_transform(predicted)\n",
        "real_prices = scaler.inverse_transform(y_test.reshape(-1, 1))"
      ]
    },
    {
      "cell_type": "code",
      "execution_count": 29,
      "id": "24357bc7",
      "metadata": {
        "colab": {
          "base_uri": "https://localhost:8080/",
          "height": 238
        },
        "id": "24357bc7",
        "outputId": "c75b665e-5ab5-4bf6-da9d-de6f31360ccf"
      },
      "outputs": [
        {
          "output_type": "execute_result",
          "data": {
            "text/html": [
              "\n",
              "  <div id=\"df-17c79ee9-ec21-4d52-a10d-885e551a79d6\">\n",
              "    <div class=\"colab-df-container\">\n",
              "      <div>\n",
              "<style scoped>\n",
              "    .dataframe tbody tr th:only-of-type {\n",
              "        vertical-align: middle;\n",
              "    }\n",
              "\n",
              "    .dataframe tbody tr th {\n",
              "        vertical-align: top;\n",
              "    }\n",
              "\n",
              "    .dataframe thead th {\n",
              "        text-align: right;\n",
              "    }\n",
              "</style>\n",
              "<table border=\"1\" class=\"dataframe\">\n",
              "  <thead>\n",
              "    <tr style=\"text-align: right;\">\n",
              "      <th></th>\n",
              "      <th>Actual</th>\n",
              "      <th>Predicted</th>\n",
              "    </tr>\n",
              "    <tr>\n",
              "      <th>Date</th>\n",
              "      <th></th>\n",
              "      <th></th>\n",
              "    </tr>\n",
              "  </thead>\n",
              "  <tbody>\n",
              "    <tr>\n",
              "      <th>2020-07-17</th>\n",
              "      <td>9151.392578</td>\n",
              "      <td>9272.088867</td>\n",
              "    </tr>\n",
              "    <tr>\n",
              "      <th>2020-07-18</th>\n",
              "      <td>9159.040039</td>\n",
              "      <td>9273.632812</td>\n",
              "    </tr>\n",
              "    <tr>\n",
              "      <th>2020-07-19</th>\n",
              "      <td>9185.817383</td>\n",
              "      <td>9273.267578</td>\n",
              "    </tr>\n",
              "    <tr>\n",
              "      <th>2020-07-20</th>\n",
              "      <td>9164.231445</td>\n",
              "      <td>9271.127930</td>\n",
              "    </tr>\n",
              "    <tr>\n",
              "      <th>2020-07-21</th>\n",
              "      <td>9374.887695</td>\n",
              "      <td>9268.080078</td>\n",
              "    </tr>\n",
              "  </tbody>\n",
              "</table>\n",
              "</div>\n",
              "      <button class=\"colab-df-convert\" onclick=\"convertToInteractive('df-17c79ee9-ec21-4d52-a10d-885e551a79d6')\"\n",
              "              title=\"Convert this dataframe to an interactive table.\"\n",
              "              style=\"display:none;\">\n",
              "        \n",
              "  <svg xmlns=\"http://www.w3.org/2000/svg\" height=\"24px\"viewBox=\"0 0 24 24\"\n",
              "       width=\"24px\">\n",
              "    <path d=\"M0 0h24v24H0V0z\" fill=\"none\"/>\n",
              "    <path d=\"M18.56 5.44l.94 2.06.94-2.06 2.06-.94-2.06-.94-.94-2.06-.94 2.06-2.06.94zm-11 1L8.5 8.5l.94-2.06 2.06-.94-2.06-.94L8.5 2.5l-.94 2.06-2.06.94zm10 10l.94 2.06.94-2.06 2.06-.94-2.06-.94-.94-2.06-.94 2.06-2.06.94z\"/><path d=\"M17.41 7.96l-1.37-1.37c-.4-.4-.92-.59-1.43-.59-.52 0-1.04.2-1.43.59L10.3 9.45l-7.72 7.72c-.78.78-.78 2.05 0 2.83L4 21.41c.39.39.9.59 1.41.59.51 0 1.02-.2 1.41-.59l7.78-7.78 2.81-2.81c.8-.78.8-2.07 0-2.86zM5.41 20L4 18.59l7.72-7.72 1.47 1.35L5.41 20z\"/>\n",
              "  </svg>\n",
              "      </button>\n",
              "      \n",
              "  <style>\n",
              "    .colab-df-container {\n",
              "      display:flex;\n",
              "      flex-wrap:wrap;\n",
              "      gap: 12px;\n",
              "    }\n",
              "\n",
              "    .colab-df-convert {\n",
              "      background-color: #E8F0FE;\n",
              "      border: none;\n",
              "      border-radius: 50%;\n",
              "      cursor: pointer;\n",
              "      display: none;\n",
              "      fill: #1967D2;\n",
              "      height: 32px;\n",
              "      padding: 0 0 0 0;\n",
              "      width: 32px;\n",
              "    }\n",
              "\n",
              "    .colab-df-convert:hover {\n",
              "      background-color: #E2EBFA;\n",
              "      box-shadow: 0px 1px 2px rgba(60, 64, 67, 0.3), 0px 1px 3px 1px rgba(60, 64, 67, 0.15);\n",
              "      fill: #174EA6;\n",
              "    }\n",
              "\n",
              "    [theme=dark] .colab-df-convert {\n",
              "      background-color: #3B4455;\n",
              "      fill: #D2E3FC;\n",
              "    }\n",
              "\n",
              "    [theme=dark] .colab-df-convert:hover {\n",
              "      background-color: #434B5C;\n",
              "      box-shadow: 0px 1px 3px 1px rgba(0, 0, 0, 0.15);\n",
              "      filter: drop-shadow(0px 1px 2px rgba(0, 0, 0, 0.3));\n",
              "      fill: #FFFFFF;\n",
              "    }\n",
              "  </style>\n",
              "\n",
              "      <script>\n",
              "        const buttonEl =\n",
              "          document.querySelector('#df-17c79ee9-ec21-4d52-a10d-885e551a79d6 button.colab-df-convert');\n",
              "        buttonEl.style.display =\n",
              "          google.colab.kernel.accessAllowed ? 'block' : 'none';\n",
              "\n",
              "        async function convertToInteractive(key) {\n",
              "          const element = document.querySelector('#df-17c79ee9-ec21-4d52-a10d-885e551a79d6');\n",
              "          const dataTable =\n",
              "            await google.colab.kernel.invokeFunction('convertToInteractive',\n",
              "                                                     [key], {});\n",
              "          if (!dataTable) return;\n",
              "\n",
              "          const docLinkHtml = 'Like what you see? Visit the ' +\n",
              "            '<a target=\"_blank\" href=https://colab.research.google.com/notebooks/data_table.ipynb>data table notebook</a>'\n",
              "            + ' to learn more about interactive tables.';\n",
              "          element.innerHTML = '';\n",
              "          dataTable['output_type'] = 'display_data';\n",
              "          await google.colab.output.renderOutput(dataTable, element);\n",
              "          const docLink = document.createElement('div');\n",
              "          docLink.innerHTML = docLinkHtml;\n",
              "          element.appendChild(docLink);\n",
              "        }\n",
              "      </script>\n",
              "    </div>\n",
              "  </div>\n",
              "  "
            ],
            "text/plain": [
              "                 Actual    Predicted\n",
              "Date                                \n",
              "2020-07-17  9151.392578  9272.088867\n",
              "2020-07-18  9159.040039  9273.632812\n",
              "2020-07-19  9185.817383  9273.267578\n",
              "2020-07-20  9164.231445  9271.127930\n",
              "2020-07-21  9374.887695  9268.080078"
            ]
          },
          "metadata": {},
          "execution_count": 29
        }
      ],
      "source": [
        "# Create a DataFrame of Real and Predicted values\n",
        "stocks = pd.DataFrame({\n",
        "    \"Actual\": real_prices.ravel(),\n",
        "    \"Predicted\": predicted_prices.ravel()\n",
        "}, index = btc_rnn.index[-len(real_prices): ]) \n",
        "\n",
        "# Show the DataFrame's head\n",
        "stocks.head()"
      ]
    },
    {
      "cell_type": "code",
      "execution_count": 30,
      "id": "f2230afb",
      "metadata": {
        "colab": {
          "base_uri": "https://localhost:8080/",
          "height": 324
        },
        "id": "f2230afb",
        "outputId": "255459bc-1a5d-4329-e5da-b9524889df77"
      },
      "outputs": [
        {
          "output_type": "execute_result",
          "data": {
            "text/plain": [
              "<matplotlib.axes._subplots.AxesSubplot at 0x7f12caa8ee50>"
            ]
          },
          "metadata": {},
          "execution_count": 30
        },
        {
          "output_type": "display_data",
          "data": {
            "image/png": "[encoded data removed]",
            "text/plain": [
              "<Figure size 432x288 with 1 Axes>"
            ]
          },
          "metadata": {
            "needs_background": "light"
          }
        }
      ],
      "source": [
        " # Plot the real vs predicted prices as a line chart\n",
        "stocks.plot(title=\"Actual Vs. Predicted BTC prices\")"
      ]
    },
    {
      "cell_type": "code",
      "execution_count": 30,
      "id": "1f88f4ea",
      "metadata": {
        "id": "1f88f4ea"
      },
      "outputs": [],
      "source": [
        ""
      ]
    },
    {
      "cell_type": "code",
      "execution_count": 30,
      "id": "edbdd855",
      "metadata": {
        "id": "edbdd855"
      },
      "outputs": [],
      "source": [
        ""
      ]
    },
    {
      "cell_type": "code",
      "execution_count": 30,
      "id": "9fef9a05",
      "metadata": {
        "id": "9fef9a05"
      },
      "outputs": [],
      "source": [
        ""
      ]
    },
    {
      "cell_type": "code",
      "execution_count": 30,
      "id": "a541bada",
      "metadata": {
        "id": "a541bada"
      },
      "outputs": [],
      "source": [
        ""
      ]
    },
    {
      "cell_type": "code",
      "execution_count": 30,
      "id": "5201ce68",
      "metadata": {
        "id": "5201ce68"
      },
      "outputs": [],
      "source": [
        ""
      ]
    }
  ],
  "metadata": {
    "kernelspec": {
      "display_name": "Python 3 (ipykernel)",
      "language": "python",
      "name": "python3"
    },
    "language_info": {
      "codemirror_mode": {
        "name": "ipython",
        "version": 3
      },
      "file_extension": ".py",
      "mimetype": "text/x-python",
      "name": "python",
      "nbconvert_exporter": "python",
      "pygments_lexer": "ipython3",
      "version": "3.8.5"
    },
    "colab": {
      "name": "LSTM1.ipynb",
      "provenance": []
    }
  },
  "nbformat": 4,
  "nbformat_minor": 5
}