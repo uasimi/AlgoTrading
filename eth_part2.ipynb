{
  "nbformat": 4,
  "nbformat_minor": 0,
  "metadata": {
    "colab": {
      "name": "eth_part2.ipynb",
      "provenance": []
    },
    "kernelspec": {
      "name": "python3",
      "display_name": "Python 3"
    },
    "language_info": {
      "name": "python"
    }
  },
  "cells": [
    {
      "cell_type": "code",
      "execution_count": 3,
      "metadata": {
        "id": "zxu86XZmIl5c"
      },
      "outputs": [],
      "source": [
        "#Importing libraries\n",
        "import pandas as pd\n",
        "import yfinance as yf\n",
        "import numpy as np\n",
        "import matplotlib.pyplot as plt\n",
        "import seaborn as sns\n",
        "import keras\n",
        "from keras.layers import Dense\n",
        "from keras.layers import LSTM\n",
        "from keras.layers import Dropout"
      ]
    },
    {
      "cell_type": "code",
      "source": [
        "# Pulling the  Data \n",
        "eth_data = yf.download('ETH-USD', start='2017-01-01', end='2022-01-01')\n",
        "eth_df = pd.DataFrame(eth_data)"
      ],
      "metadata": {
        "colab": {
          "base_uri": "https://localhost:8080/"
        },
        "id": "EmUWPANFIy-7",
        "outputId": "373ca441-3644-4714-a6cf-89bfa1684e09"
      },
      "execution_count": 4,
      "outputs": [
        {
          "output_type": "stream",
          "name": "stdout",
          "text": [
            "\r[*********************100%***********************]  1 of 1 completed\n"
          ]
        }
      ]
    },
    {
      "cell_type": "code",
      "source": [
        "eth_df = eth_df.drop(columns=['Adj Close','Volume', 'Open', 'High', 'Low'])\n",
        "eth_df.head()"
      ],
      "metadata": {
        "colab": {
          "base_uri": "https://localhost:8080/",
          "height": 238
        },
        "id": "424_oScbJG2B",
        "outputId": "8ab442af-26c6-45b4-930b-3d691f523d55"
      },
      "execution_count": 5,
      "outputs": [
        {
          "output_type": "execute_result",
          "data": {
            "text/html": [
              "\n",
              "  <div id=\"df-4eec6177-cdd5-4827-850b-076a45ef90f2\">\n",
              "    <div class=\"colab-df-container\">\n",
              "      <div>\n",
              "<style scoped>\n",
              "    .dataframe tbody tr th:only-of-type {\n",
              "        vertical-align: middle;\n",
              "    }\n",
              "\n",
              "    .dataframe tbody tr th {\n",
              "        vertical-align: top;\n",
              "    }\n",
              "\n",
              "    .dataframe thead th {\n",
              "        text-align: right;\n",
              "    }\n",
              "</style>\n",
              "<table border=\"1\" class=\"dataframe\">\n",
              "  <thead>\n",
              "    <tr style=\"text-align: right;\">\n",
              "      <th></th>\n",
              "      <th>Close</th>\n",
              "    </tr>\n",
              "    <tr>\n",
              "      <th>Date</th>\n",
              "      <th></th>\n",
              "    </tr>\n",
              "  </thead>\n",
              "  <tbody>\n",
              "    <tr>\n",
              "      <th>2017-11-09</th>\n",
              "      <td>320.884003</td>\n",
              "    </tr>\n",
              "    <tr>\n",
              "      <th>2017-11-10</th>\n",
              "      <td>299.252991</td>\n",
              "    </tr>\n",
              "    <tr>\n",
              "      <th>2017-11-11</th>\n",
              "      <td>314.681000</td>\n",
              "    </tr>\n",
              "    <tr>\n",
              "      <th>2017-11-12</th>\n",
              "      <td>307.907990</td>\n",
              "    </tr>\n",
              "    <tr>\n",
              "      <th>2017-11-13</th>\n",
              "      <td>316.716003</td>\n",
              "    </tr>\n",
              "  </tbody>\n",
              "</table>\n",
              "</div>\n",
              "      <button class=\"colab-df-convert\" onclick=\"convertToInteractive('df-4eec6177-cdd5-4827-850b-076a45ef90f2')\"\n",
              "              title=\"Convert this dataframe to an interactive table.\"\n",
              "              style=\"display:none;\">\n",
              "        \n",
              "  <svg xmlns=\"http://www.w3.org/2000/svg\" height=\"24px\"viewBox=\"0 0 24 24\"\n",
              "       width=\"24px\">\n",
              "    <path d=\"M0 0h24v24H0V0z\" fill=\"none\"/>\n",
              "    <path d=\"M18.56 5.44l.94 2.06.94-2.06 2.06-.94-2.06-.94-.94-2.06-.94 2.06-2.06.94zm-11 1L8.5 8.5l.94-2.06 2.06-.94-2.06-.94L8.5 2.5l-.94 2.06-2.06.94zm10 10l.94 2.06.94-2.06 2.06-.94-2.06-.94-.94-2.06-.94 2.06-2.06.94z\"/><path d=\"M17.41 7.96l-1.37-1.37c-.4-.4-.92-.59-1.43-.59-.52 0-1.04.2-1.43.59L10.3 9.45l-7.72 7.72c-.78.78-.78 2.05 0 2.83L4 21.41c.39.39.9.59 1.41.59.51 0 1.02-.2 1.41-.59l7.78-7.78 2.81-2.81c.8-.78.8-2.07 0-2.86zM5.41 20L4 18.59l7.72-7.72 1.47 1.35L5.41 20z\"/>\n",
              "  </svg>\n",
              "      </button>\n",
              "      \n",
              "  <style>\n",
              "    .colab-df-container {\n",
              "      display:flex;\n",
              "      flex-wrap:wrap;\n",
              "      gap: 12px;\n",
              "    }\n",
              "\n",
              "    .colab-df-convert {\n",
              "      background-color: #E8F0FE;\n",
              "      border: none;\n",
              "      border-radius: 50%;\n",
              "      cursor: pointer;\n",
              "      display: none;\n",
              "      fill: #1967D2;\n",
              "      height: 32px;\n",
              "      padding: 0 0 0 0;\n",
              "      width: 32px;\n",
              "    }\n",
              "\n",
              "    .colab-df-convert:hover {\n",
              "      background-color: #E2EBFA;\n",
              "      box-shadow: 0px 1px 2px rgba(60, 64, 67, 0.3), 0px 1px 3px 1px rgba(60, 64, 67, 0.15);\n",
              "      fill: #174EA6;\n",
              "    }\n",
              "\n",
              "    [theme=dark] .colab-df-convert {\n",
              "      background-color: #3B4455;\n",
              "      fill: #D2E3FC;\n",
              "    }\n",
              "\n",
              "    [theme=dark] .colab-df-convert:hover {\n",
              "      background-color: #434B5C;\n",
              "      box-shadow: 0px 1px 3px 1px rgba(0, 0, 0, 0.15);\n",
              "      filter: drop-shadow(0px 1px 2px rgba(0, 0, 0, 0.3));\n",
              "      fill: #FFFFFF;\n",
              "    }\n",
              "  </style>\n",
              "\n",
              "      <script>\n",
              "        const buttonEl =\n",
              "          document.querySelector('#df-4eec6177-cdd5-4827-850b-076a45ef90f2 button.colab-df-convert');\n",
              "        buttonEl.style.display =\n",
              "          google.colab.kernel.accessAllowed ? 'block' : 'none';\n",
              "\n",
              "        async function convertToInteractive(key) {\n",
              "          const element = document.querySelector('#df-4eec6177-cdd5-4827-850b-076a45ef90f2');\n",
              "          const dataTable =\n",
              "            await google.colab.kernel.invokeFunction('convertToInteractive',\n",
              "                                                     [key], {});\n",
              "          if (!dataTable) return;\n",
              "\n",
              "          const docLinkHtml = 'Like what you see? Visit the ' +\n",
              "            '<a target=\"_blank\" href=https://colab.research.google.com/notebooks/data_table.ipynb>data table notebook</a>'\n",
              "            + ' to learn more about interactive tables.';\n",
              "          element.innerHTML = '';\n",
              "          dataTable['output_type'] = 'display_data';\n",
              "          await google.colab.output.renderOutput(dataTable, element);\n",
              "          const docLink = document.createElement('div');\n",
              "          docLink.innerHTML = docLinkHtml;\n",
              "          element.appendChild(docLink);\n",
              "        }\n",
              "      </script>\n",
              "    </div>\n",
              "  </div>\n",
              "  "
            ],
            "text/plain": [
              "                 Close\n",
              "Date                  \n",
              "2017-11-09  320.884003\n",
              "2017-11-10  299.252991\n",
              "2017-11-11  314.681000\n",
              "2017-11-12  307.907990\n",
              "2017-11-13  316.716003"
            ]
          },
          "metadata": {},
          "execution_count": 5
        }
      ]
    },
    {
      "cell_type": "code",
      "source": [
        "# Rolling mean\n",
        "close_px = eth_df['Close']\n",
        "mavg = close_px.rolling(window=100).mean()\n",
        "\n",
        "plt.figure(figsize = (12,6))\n",
        "close_px.plot(label='ETH')\n",
        "mavg.plot(label='mavg')\n",
        "plt.xlabel('Date')\n",
        "plt.ylabel('Price')\n",
        "plt.legend()"
      ],
      "metadata": {
        "colab": {
          "base_uri": "https://localhost:8080/",
          "height": 406
        },
        "id": "MyyQMgiVJTdb",
        "outputId": "95c57127-3c4a-4fff-e037-6e0e6803d04e"
      },
      "execution_count": 6,
      "outputs": [
        {
          "output_type": "execute_result",
          "data": {
            "text/plain": [
              "<matplotlib.legend.Legend at 0x7fa6524dda50>"
            ]
          },
          "metadata": {},
          "execution_count": 6
        },
        {
          "output_type": "display_data",
          "data": {
            "image/png": "[encoded data removed]",
            "text/plain": [
              "<Figure size 864x432 with 1 Axes>"
            ]
          },
          "metadata": {
            "needs_background": "light"
          }
        }
      ]
    },
    {
      "cell_type": "code",
      "source": [
        "import matplotlib.dates as mdates\n",
        "\n",
        "# change the dates into ints for training \n",
        "dates_df = eth_df.copy()\n",
        "dates_df = dates_df.reset_index()\n",
        "\n",
        "# Store the original dates for plotting the predicitons\n",
        "org_dates = dates_df['Date']\n",
        "\n",
        "# convert to ints\n",
        "dates_df['Date'] = dates_df['Date'].map(mdates.date2num)\n",
        "\n",
        "dates_df.tail()"
      ],
      "metadata": {
        "colab": {
          "base_uri": "https://localhost:8080/",
          "height": 206
        },
        "id": "9zqLX95EJZma",
        "outputId": "5c8239fa-b7e4-4dfb-e69a-8e0124846d5d"
      },
      "execution_count": 7,
      "outputs": [
        {
          "output_type": "execute_result",
          "data": {
            "text/html": [
              "\n",
              "  <div id=\"df-eb50e1fc-3f41-43df-81bd-a3fd95453103\">\n",
              "    <div class=\"colab-df-container\">\n",
              "      <div>\n",
              "<style scoped>\n",
              "    .dataframe tbody tr th:only-of-type {\n",
              "        vertical-align: middle;\n",
              "    }\n",
              "\n",
              "    .dataframe tbody tr th {\n",
              "        vertical-align: top;\n",
              "    }\n",
              "\n",
              "    .dataframe thead th {\n",
              "        text-align: right;\n",
              "    }\n",
              "</style>\n",
              "<table border=\"1\" class=\"dataframe\">\n",
              "  <thead>\n",
              "    <tr style=\"text-align: right;\">\n",
              "      <th></th>\n",
              "      <th>Date</th>\n",
              "      <th>Close</th>\n",
              "    </tr>\n",
              "  </thead>\n",
              "  <tbody>\n",
              "    <tr>\n",
              "      <th>1510</th>\n",
              "      <td>738152.0</td>\n",
              "      <td>3800.893066</td>\n",
              "    </tr>\n",
              "    <tr>\n",
              "      <th>1511</th>\n",
              "      <td>738153.0</td>\n",
              "      <td>3628.531738</td>\n",
              "    </tr>\n",
              "    <tr>\n",
              "      <th>1512</th>\n",
              "      <td>738154.0</td>\n",
              "      <td>3713.852051</td>\n",
              "    </tr>\n",
              "    <tr>\n",
              "      <th>1513</th>\n",
              "      <td>738155.0</td>\n",
              "      <td>3682.632812</td>\n",
              "    </tr>\n",
              "    <tr>\n",
              "      <th>1514</th>\n",
              "      <td>738156.0</td>\n",
              "      <td>3769.697021</td>\n",
              "    </tr>\n",
              "  </tbody>\n",
              "</table>\n",
              "</div>\n",
              "      <button class=\"colab-df-convert\" onclick=\"convertToInteractive('df-eb50e1fc-3f41-43df-81bd-a3fd95453103')\"\n",
              "              title=\"Convert this dataframe to an interactive table.\"\n",
              "              style=\"display:none;\">\n",
              "        \n",
              "  <svg xmlns=\"http://www.w3.org/2000/svg\" height=\"24px\"viewBox=\"0 0 24 24\"\n",
              "       width=\"24px\">\n",
              "    <path d=\"M0 0h24v24H0V0z\" fill=\"none\"/>\n",
              "    <path d=\"M18.56 5.44l.94 2.06.94-2.06 2.06-.94-2.06-.94-.94-2.06-.94 2.06-2.06.94zm-11 1L8.5 8.5l.94-2.06 2.06-.94-2.06-.94L8.5 2.5l-.94 2.06-2.06.94zm10 10l.94 2.06.94-2.06 2.06-.94-2.06-.94-.94-2.06-.94 2.06-2.06.94z\"/><path d=\"M17.41 7.96l-1.37-1.37c-.4-.4-.92-.59-1.43-.59-.52 0-1.04.2-1.43.59L10.3 9.45l-7.72 7.72c-.78.78-.78 2.05 0 2.83L4 21.41c.39.39.9.59 1.41.59.51 0 1.02-.2 1.41-.59l7.78-7.78 2.81-2.81c.8-.78.8-2.07 0-2.86zM5.41 20L4 18.59l7.72-7.72 1.47 1.35L5.41 20z\"/>\n",
              "  </svg>\n",
              "      </button>\n",
              "      \n",
              "  <style>\n",
              "    .colab-df-container {\n",
              "      display:flex;\n",
              "      flex-wrap:wrap;\n",
              "      gap: 12px;\n",
              "    }\n",
              "\n",
              "    .colab-df-convert {\n",
              "      background-color: #E8F0FE;\n",
              "      border: none;\n",
              "      border-radius: 50%;\n",
              "      cursor: pointer;\n",
              "      display: none;\n",
              "      fill: #1967D2;\n",
              "      height: 32px;\n",
              "      padding: 0 0 0 0;\n",
              "      width: 32px;\n",
              "    }\n",
              "\n",
              "    .colab-df-convert:hover {\n",
              "      background-color: #E2EBFA;\n",
              "      box-shadow: 0px 1px 2px rgba(60, 64, 67, 0.3), 0px 1px 3px 1px rgba(60, 64, 67, 0.15);\n",
              "      fill: #174EA6;\n",
              "    }\n",
              "\n",
              "    [theme=dark] .colab-df-convert {\n",
              "      background-color: #3B4455;\n",
              "      fill: #D2E3FC;\n",
              "    }\n",
              "\n",
              "    [theme=dark] .colab-df-convert:hover {\n",
              "      background-color: #434B5C;\n",
              "      box-shadow: 0px 1px 3px 1px rgba(0, 0, 0, 0.15);\n",
              "      filter: drop-shadow(0px 1px 2px rgba(0, 0, 0, 0.3));\n",
              "      fill: #FFFFFF;\n",
              "    }\n",
              "  </style>\n",
              "\n",
              "      <script>\n",
              "        const buttonEl =\n",
              "          document.querySelector('#df-eb50e1fc-3f41-43df-81bd-a3fd95453103 button.colab-df-convert');\n",
              "        buttonEl.style.display =\n",
              "          google.colab.kernel.accessAllowed ? 'block' : 'none';\n",
              "\n",
              "        async function convertToInteractive(key) {\n",
              "          const element = document.querySelector('#df-eb50e1fc-3f41-43df-81bd-a3fd95453103');\n",
              "          const dataTable =\n",
              "            await google.colab.kernel.invokeFunction('convertToInteractive',\n",
              "                                                     [key], {});\n",
              "          if (!dataTable) return;\n",
              "\n",
              "          const docLinkHtml = 'Like what you see? Visit the ' +\n",
              "            '<a target=\"_blank\" href=https://colab.research.google.com/notebooks/data_table.ipynb>data table notebook</a>'\n",
              "            + ' to learn more about interactive tables.';\n",
              "          element.innerHTML = '';\n",
              "          dataTable['output_type'] = 'display_data';\n",
              "          await google.colab.output.renderOutput(dataTable, element);\n",
              "          const docLink = document.createElement('div');\n",
              "          docLink.innerHTML = docLinkHtml;\n",
              "          element.appendChild(docLink);\n",
              "        }\n",
              "      </script>\n",
              "    </div>\n",
              "  </div>\n",
              "  "
            ],
            "text/plain": [
              "          Date        Close\n",
              "1510  738152.0  3800.893066\n",
              "1511  738153.0  3628.531738\n",
              "1512  738154.0  3713.852051\n",
              "1513  738155.0  3682.632812\n",
              "1514  738156.0  3769.697021"
            ]
          },
          "metadata": {},
          "execution_count": 7
        }
      ]
    },
    {
      "cell_type": "code",
      "source": [
        "# Use sklearn support vector regression to predicit our data:\n",
        "from sklearn.svm import SVR\n",
        "\n",
        "dates = dates_df['Date'].to_numpy() \n",
        "prices = eth_df['Close'].to_numpy()\n",
        "\n",
        "#Convert to 1d Vector\n",
        "dates = dates.reshape(-1, 1)\n",
        "prices = prices.reshape(-1, 1)\n",
        "\n",
        "svr_rbf = SVR(kernel= 'rbf', C= 1e3, gamma= 0.1)\n",
        "svr_rbf.fit(dates, prices)\n",
        "\n",
        "plt.figure(figsize = (12,6))\n",
        "plt.plot(dates, prices, color= 'black', label= 'Data')\n",
        "plt.plot(org_dates, svr_rbf.predict(dates), color= 'red', label= 'RBF model') \n",
        "plt.xlabel('Date')\n",
        "plt.ylabel('Price')\n",
        "plt.legend()\n",
        "plt.show()"
      ],
      "metadata": {
        "colab": {
          "base_uri": "https://localhost:8080/",
          "height": 444
        },
        "id": "yZtDH9UtJTfU",
        "outputId": "535b3aec-2143-411f-bb35-6c9122aae030"
      },
      "execution_count": 8,
      "outputs": [
        {
          "output_type": "stream",
          "name": "stderr",
          "text": [
            "/usr/local/lib/python3.7/dist-packages/sklearn/utils/validation.py:993: DataConversionWarning: A column-vector y was passed when a 1d array was expected. Please change the shape of y to (n_samples, ), for example using ravel().\n",
            "  y = column_or_1d(y, warn=True)\n"
          ]
        },
        {
          "output_type": "display_data",
          "data": {
            "image/png": "[encoded data removed]",
            "text/plain": [
              "<Figure size 864x432 with 1 Axes>"
            ]
          },
          "metadata": {
            "needs_background": "light"
          }
        }
      ]
    },
    {
      "cell_type": "code",
      "source": [
        "# Create train set of adj close prices data:\n",
        "train_data = eth_df.loc[:,'Close'].to_numpy()\n",
        "print(train_data.shape) "
      ],
      "metadata": {
        "colab": {
          "base_uri": "https://localhost:8080/"
        },
        "id": "QtFkHdRRJ4Jy",
        "outputId": "3c4f57cc-fb01-4ce6-fb68-27991277f876"
      },
      "execution_count": 10,
      "outputs": [
        {
          "output_type": "stream",
          "name": "stdout",
          "text": [
            "(1515,)\n"
          ]
        }
      ]
    },
    {
      "cell_type": "code",
      "source": [
        "# Apply normalization before feeding to LSTM using sklearn:\n",
        "from sklearn.preprocessing import MinMaxScaler\n",
        "\n",
        "scaler = MinMaxScaler()\n",
        "train_data = train_data.reshape(-1,1)\n",
        "\n",
        "scaler.fit(train_data)\n",
        "train_data = scaler.transform(train_data)"
      ],
      "metadata": {
        "id": "LTVLUG84KAc-"
      },
      "execution_count": 11,
      "outputs": []
    },
    {
      "cell_type": "code",
      "source": [
        "def window_data(df, window, feature_col_number, target_col_number):\n",
        "    X = []\n",
        "    y = []\n",
        "    for i in range(len(df) - window - 1):\n",
        "        features = df.iloc[i:(i + window), feature_col_number]\n",
        "        target = df.iloc[(i + window), target_col_number]\n",
        "        X.append(features)\n",
        "        y.append(target)\n",
        "    return np.array(X), np.array(y).reshape(-1, 1)"
      ],
      "metadata": {
        "id": "VY9P7JiuKFOD"
      },
      "execution_count": 12,
      "outputs": []
    },
    {
      "cell_type": "code",
      "source": [
        "# Predict Closing Prices using a 10 day window of previous closing prices\n",
        "# Then, experiment with window sizes anywhere from 1 to 10 and see how the model performance changes\n",
        "window_size = 10\n",
        "\n",
        "# Column index 0 is the 'fng_value' column\n",
        "# Column index 1 is the `Close` column\n",
        "feature_column = 0\n",
        "target_column = 0\n",
        "X, y = window_data(eth_df, window_size, feature_column, target_column)"
      ],
      "metadata": {
        "id": "mecRlIc_KHDR"
      },
      "execution_count": 14,
      "outputs": []
    },
    {
      "cell_type": "code",
      "source": [
        " # Use 70% of the data for training and the remaineder for testing\n",
        "split = int(.7 * len(X))\n",
        "X_train = X[:split - 1]\n",
        "X_test = X[split:]\n",
        "y_train = y[:split - 1]\n",
        "y_test = y[split:]"
      ],
      "metadata": {
        "id": "lOAxY3q-KQiF"
      },
      "execution_count": 15,
      "outputs": []
    },
    {
      "cell_type": "code",
      "source": [
        "# Use the MinMaxScaler to scale data between 0 and 1.\n",
        "from sklearn.preprocessing import MinMaxScaler\n",
        "x_scaler = MinMaxScaler()\n",
        "y_scaler = MinMaxScaler()\n",
        "\n",
        "# Fit the scaler for the training Data\n",
        "x_scaler.fit(X_train)\n",
        "y_scaler.fit(y_train)\n",
        "\n",
        "# Scale the training data\n",
        "X_train = x_scaler.transform(X_train)\n",
        "y_train = y_scaler.transform(y_train)\n",
        "\n",
        "# Scale the y_test data\n",
        "X_test = x_scaler.transform(X_test)\n",
        "y_test = y_scaler.transform(y_test)"
      ],
      "metadata": {
        "id": "moMHLMBoKQkG"
      },
      "execution_count": 16,
      "outputs": []
    },
    {
      "cell_type": "code",
      "source": [
        " # Reshape the features for the model\n",
        "X_train = X_train.reshape((X_train.shape[0], X_train.shape[1], 1))\n",
        "X_test = X_test.reshape((X_test.shape[0], X_test.shape[1], 1))"
      ],
      "metadata": {
        "id": "UvxcA4Z3KXLt"
      },
      "execution_count": 17,
      "outputs": []
    },
    {
      "cell_type": "code",
      "source": [
        "# Build the model \n",
        "model = keras.Sequential()\n",
        "\n",
        "model.add(LSTM(units = 100, return_sequences = True, input_shape = (X_train.shape[1], 1)))\n",
        "model.add(Dropout(0.2))\n",
        "\n",
        "model.add(LSTM(units = 100))\n",
        "model.add(Dropout(0.2))\n",
        "\n",
        "# Output layer\n",
        "model.add(Dense(units = 1))\n",
        "\n",
        "# Compiling the model\n",
        "model.compile(optimizer = 'adam', loss = 'mean_squared_error')\n",
        "\n",
        "# Fitting the model to the Training set\n",
        "history = model.fit(X_train, y_train, epochs = 20, batch_size = 10, validation_split=.30)"
      ],
      "metadata": {
        "colab": {
          "base_uri": "https://localhost:8080/"
        },
        "id": "BoRiGVgDKg8o",
        "outputId": "9210f207-c767-45b5-fa23-f0cd5aca9b79"
      },
      "execution_count": 18,
      "outputs": [
        {
          "output_type": "stream",
          "name": "stdout",
          "text": [
            "Epoch 1/20\n",
            "74/74 [==============================] - 10s 44ms/step - loss: 0.0087 - val_loss: 3.8045e-04\n",
            "Epoch 2/20\n",
            "74/74 [==============================] - 3s 39ms/step - loss: 0.0033 - val_loss: 8.8259e-04\n",
            "Epoch 3/20\n",
            "74/74 [==============================] - 3s 40ms/step - loss: 0.0025 - val_loss: 5.1453e-04\n",
            "Epoch 4/20\n",
            "74/74 [==============================] - 3s 38ms/step - loss: 0.0026 - val_loss: 4.9422e-04\n",
            "Epoch 5/20\n",
            "74/74 [==============================] - 2s 34ms/step - loss: 0.0022 - val_loss: 0.0014\n",
            "Epoch 6/20\n",
            "74/74 [==============================] - 3s 40ms/step - loss: 0.0021 - val_loss: 2.9062e-04\n",
            "Epoch 7/20\n",
            "74/74 [==============================] - 3s 35ms/step - loss: 0.0023 - val_loss: 3.1217e-04\n",
            "Epoch 8/20\n",
            "74/74 [==============================] - 3s 37ms/step - loss: 0.0020 - val_loss: 2.1967e-04\n",
            "Epoch 9/20\n",
            "74/74 [==============================] - 3s 43ms/step - loss: 0.0019 - val_loss: 5.4372e-04\n",
            "Epoch 10/20\n",
            "74/74 [==============================] - 3s 37ms/step - loss: 0.0019 - val_loss: 2.0648e-04\n",
            "Epoch 11/20\n",
            "74/74 [==============================] - 3s 36ms/step - loss: 0.0017 - val_loss: 2.4024e-04\n",
            "Epoch 12/20\n",
            "74/74 [==============================] - 3s 39ms/step - loss: 0.0018 - val_loss: 5.4868e-04\n",
            "Epoch 13/20\n",
            "74/74 [==============================] - 3s 37ms/step - loss: 0.0016 - val_loss: 5.9228e-04\n",
            "Epoch 14/20\n",
            "74/74 [==============================] - 3s 38ms/step - loss: 0.0018 - val_loss: 7.4231e-04\n",
            "Epoch 15/20\n",
            "74/74 [==============================] - 2s 32ms/step - loss: 0.0015 - val_loss: 1.8358e-04\n",
            "Epoch 16/20\n",
            "74/74 [==============================] - 2s 31ms/step - loss: 0.0013 - val_loss: 1.8876e-04\n",
            "Epoch 17/20\n",
            "74/74 [==============================] - 2s 28ms/step - loss: 0.0013 - val_loss: 1.8985e-04\n",
            "Epoch 18/20\n",
            "74/74 [==============================] - 3s 47ms/step - loss: 0.0016 - val_loss: 5.7339e-04\n",
            "Epoch 19/20\n",
            "74/74 [==============================] - 2s 32ms/step - loss: 0.0012 - val_loss: 1.7734e-04\n",
            "Epoch 20/20\n",
            "74/74 [==============================] - 3s 40ms/step - loss: 0.0012 - val_loss: 2.0709e-04\n"
          ]
        }
      ]
    },
    {
      "cell_type": "code",
      "source": [
        "# Plot training & validation loss values\n",
        "plt.plot(history.history['loss'])\n",
        "plt.plot(history.history['val_loss'])\n",
        "plt.title('Model loss')\n",
        "plt.ylabel('Loss')\n",
        "plt.xlabel('Epoch')\n",
        "plt.legend(['Train', 'Test'], loc='upper left')\n",
        "plt.show()"
      ],
      "metadata": {
        "colab": {
          "base_uri": "https://localhost:8080/",
          "height": 295
        },
        "id": "qd5WtzASLqVZ",
        "outputId": "d3fe49f3-10ab-4ab0-9126-71a96ae989b8"
      },
      "execution_count": 19,
      "outputs": [
        {
          "output_type": "display_data",
          "data": {
            "image/png": "[encoded data removed]",
            "text/plain": [
              "<Figure size 432x288 with 1 Axes>"
            ]
          },
          "metadata": {
            "needs_background": "light"
          }
        }
      ]
    },
    {
      "cell_type": "code",
      "source": [
        "# store the original vals for plotting the predictions \n",
        "#y_test = y_test.reshape(-1,1)\n",
        "org_y = scaler.inverse_transform(y_test)\n",
        "\n",
        "# reshape it [samples, time steps, features]\n",
        "#X_test = np.reshape(X_test, (X_test.shape[0], 36, 1))\n",
        "\n",
        "# Predict the prices with the model\n",
        "predicted_y = model.predict(X_test)\n",
        "predicted_y = scaler.inverse_transform(predicted_y)"
      ],
      "metadata": {
        "id": "C__VgIqFLzTA"
      },
      "execution_count": 20,
      "outputs": []
    },
    {
      "cell_type": "code",
      "source": [
        "plt.plot(org_y, color = 'red', label = 'Real ETH crypto Price')\n",
        "plt.plot(predicted_y, color = 'blue', label = 'Predicted ETH Price')\n",
        "plt.title('ETH Price Prediction')\n",
        "plt.xlabel('Time')\n",
        "plt.ylabel('ETH Stock Price')\n",
        "plt.legend()\n",
        "plt.show()"
      ],
      "metadata": {
        "colab": {
          "base_uri": "https://localhost:8080/",
          "height": 295
        },
        "id": "5LRVqewRL3nI",
        "outputId": "0b361ad0-b8ba-470f-e589-eaa37a2efdce"
      },
      "execution_count": 21,
      "outputs": [
        {
          "output_type": "display_data",
          "data": {
            "image/png": "[encoded data removed]",
            "text/plain": [
              "<Figure size 432x288 with 1 Axes>"
            ]
          },
          "metadata": {
            "needs_background": "light"
          }
        }
      ]
    }
  ]
}