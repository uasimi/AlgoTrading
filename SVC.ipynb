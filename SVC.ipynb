{
 "cells": [
  {
   "cell_type": "code",
   "execution_count": 1,
   "id": "9505f227",
   "metadata": {},
   "outputs": [],
   "source": [
    "import pandas as pd\n",
    "import yfinance as yf\n",
    "import numpy as np "
   ]
  },
  {
   "cell_type": "code",
   "execution_count": 2,
   "id": "227e2e2f",
   "metadata": {},
   "outputs": [
    {
     "name": "stdout",
     "output_type": "stream",
     "text": [
      "[*********************100%***********************]  1 of 1 completed\n"
     ]
    }
   ],
   "source": [
    "btc_data = yf.download('BTC-USD', start='2017-01-01', end='2022-01-01')\n",
    "btc_df = pd.DataFrame(btc_data)"
   ]
  },
  {
   "cell_type": "code",
   "execution_count": 3,
   "id": "ca1a5d58",
   "metadata": {},
   "outputs": [
    {
     "data": {
      "text/html": [
       "<div>\n",
       "<style scoped>\n",
       "    .dataframe tbody tr th:only-of-type {\n",
       "        vertical-align: middle;\n",
       "    }\n",
       "\n",
       "    .dataframe tbody tr th {\n",
       "        vertical-align: top;\n",
       "    }\n",
       "\n",
       "    .dataframe thead th {\n",
       "        text-align: right;\n",
       "    }\n",
       "</style>\n",
       "<table border=\"1\" class=\"dataframe\">\n",
       "  <thead>\n",
       "    <tr style=\"text-align: right;\">\n",
       "      <th></th>\n",
       "      <th>Open</th>\n",
       "      <th>High</th>\n",
       "      <th>Low</th>\n",
       "      <th>Close</th>\n",
       "      <th>Adj Close</th>\n",
       "      <th>Volume</th>\n",
       "    </tr>\n",
       "    <tr>\n",
       "      <th>Date</th>\n",
       "      <th></th>\n",
       "      <th></th>\n",
       "      <th></th>\n",
       "      <th></th>\n",
       "      <th></th>\n",
       "      <th></th>\n",
       "    </tr>\n",
       "  </thead>\n",
       "  <tbody>\n",
       "    <tr>\n",
       "      <th>2017-01-01</th>\n",
       "      <td>963.658020</td>\n",
       "      <td>1003.080017</td>\n",
       "      <td>958.698975</td>\n",
       "      <td>998.325012</td>\n",
       "      <td>998.325012</td>\n",
       "      <td>147775008</td>\n",
       "    </tr>\n",
       "    <tr>\n",
       "      <th>2017-01-02</th>\n",
       "      <td>998.617004</td>\n",
       "      <td>1031.390015</td>\n",
       "      <td>996.702026</td>\n",
       "      <td>1021.750000</td>\n",
       "      <td>1021.750000</td>\n",
       "      <td>222184992</td>\n",
       "    </tr>\n",
       "    <tr>\n",
       "      <th>2017-01-03</th>\n",
       "      <td>1021.599976</td>\n",
       "      <td>1044.079956</td>\n",
       "      <td>1021.599976</td>\n",
       "      <td>1043.839966</td>\n",
       "      <td>1043.839966</td>\n",
       "      <td>185168000</td>\n",
       "    </tr>\n",
       "    <tr>\n",
       "      <th>2017-01-04</th>\n",
       "      <td>1044.400024</td>\n",
       "      <td>1159.420044</td>\n",
       "      <td>1044.400024</td>\n",
       "      <td>1154.729980</td>\n",
       "      <td>1154.729980</td>\n",
       "      <td>344945984</td>\n",
       "    </tr>\n",
       "    <tr>\n",
       "      <th>2017-01-05</th>\n",
       "      <td>1156.729980</td>\n",
       "      <td>1191.099976</td>\n",
       "      <td>910.416992</td>\n",
       "      <td>1013.380005</td>\n",
       "      <td>1013.380005</td>\n",
       "      <td>510199008</td>\n",
       "    </tr>\n",
       "  </tbody>\n",
       "</table>\n",
       "</div>"
      ],
      "text/plain": [
       "                   Open         High          Low        Close    Adj Close  \\\n",
       "Date                                                                          \n",
       "2017-01-01   963.658020  1003.080017   958.698975   998.325012   998.325012   \n",
       "2017-01-02   998.617004  1031.390015   996.702026  1021.750000  1021.750000   \n",
       "2017-01-03  1021.599976  1044.079956  1021.599976  1043.839966  1043.839966   \n",
       "2017-01-04  1044.400024  1159.420044  1044.400024  1154.729980  1154.729980   \n",
       "2017-01-05  1156.729980  1191.099976   910.416992  1013.380005  1013.380005   \n",
       "\n",
       "               Volume  \n",
       "Date                   \n",
       "2017-01-01  147775008  \n",
       "2017-01-02  222184992  \n",
       "2017-01-03  185168000  \n",
       "2017-01-04  344945984  \n",
       "2017-01-05  510199008  "
      ]
     },
     "execution_count": 3,
     "metadata": {},
     "output_type": "execute_result"
    }
   ],
   "source": [
    "btc_df.head()"
   ]
  },
  {
   "cell_type": "code",
   "execution_count": 4,
   "id": "1215847b",
   "metadata": {},
   "outputs": [
    {
     "data": {
      "text/html": [
       "<div>\n",
       "<style scoped>\n",
       "    .dataframe tbody tr th:only-of-type {\n",
       "        vertical-align: middle;\n",
       "    }\n",
       "\n",
       "    .dataframe tbody tr th {\n",
       "        vertical-align: top;\n",
       "    }\n",
       "\n",
       "    .dataframe thead th {\n",
       "        text-align: right;\n",
       "    }\n",
       "</style>\n",
       "<table border=\"1\" class=\"dataframe\">\n",
       "  <thead>\n",
       "    <tr style=\"text-align: right;\">\n",
       "      <th></th>\n",
       "      <th>Open</th>\n",
       "      <th>High</th>\n",
       "      <th>Low</th>\n",
       "      <th>Close</th>\n",
       "      <th>Adj Close</th>\n",
       "      <th>Volume</th>\n",
       "      <th>actual_returns</th>\n",
       "    </tr>\n",
       "    <tr>\n",
       "      <th>Date</th>\n",
       "      <th></th>\n",
       "      <th></th>\n",
       "      <th></th>\n",
       "      <th></th>\n",
       "      <th></th>\n",
       "      <th></th>\n",
       "      <th></th>\n",
       "    </tr>\n",
       "  </thead>\n",
       "  <tbody>\n",
       "    <tr>\n",
       "      <th>2017-01-01</th>\n",
       "      <td>963.658020</td>\n",
       "      <td>1003.080017</td>\n",
       "      <td>958.698975</td>\n",
       "      <td>998.325012</td>\n",
       "      <td>998.325012</td>\n",
       "      <td>147775008</td>\n",
       "      <td>NaN</td>\n",
       "    </tr>\n",
       "    <tr>\n",
       "      <th>2017-01-02</th>\n",
       "      <td>998.617004</td>\n",
       "      <td>1031.390015</td>\n",
       "      <td>996.702026</td>\n",
       "      <td>1021.750000</td>\n",
       "      <td>1021.750000</td>\n",
       "      <td>222184992</td>\n",
       "      <td>0.023464</td>\n",
       "    </tr>\n",
       "    <tr>\n",
       "      <th>2017-01-03</th>\n",
       "      <td>1021.599976</td>\n",
       "      <td>1044.079956</td>\n",
       "      <td>1021.599976</td>\n",
       "      <td>1043.839966</td>\n",
       "      <td>1043.839966</td>\n",
       "      <td>185168000</td>\n",
       "      <td>0.021620</td>\n",
       "    </tr>\n",
       "    <tr>\n",
       "      <th>2017-01-04</th>\n",
       "      <td>1044.400024</td>\n",
       "      <td>1159.420044</td>\n",
       "      <td>1044.400024</td>\n",
       "      <td>1154.729980</td>\n",
       "      <td>1154.729980</td>\n",
       "      <td>344945984</td>\n",
       "      <td>0.106233</td>\n",
       "    </tr>\n",
       "    <tr>\n",
       "      <th>2017-01-05</th>\n",
       "      <td>1156.729980</td>\n",
       "      <td>1191.099976</td>\n",
       "      <td>910.416992</td>\n",
       "      <td>1013.380005</td>\n",
       "      <td>1013.380005</td>\n",
       "      <td>510199008</td>\n",
       "      <td>-0.122410</td>\n",
       "    </tr>\n",
       "  </tbody>\n",
       "</table>\n",
       "</div>"
      ],
      "text/plain": [
       "                   Open         High          Low        Close    Adj Close  \\\n",
       "Date                                                                          \n",
       "2017-01-01   963.658020  1003.080017   958.698975   998.325012   998.325012   \n",
       "2017-01-02   998.617004  1031.390015   996.702026  1021.750000  1021.750000   \n",
       "2017-01-03  1021.599976  1044.079956  1021.599976  1043.839966  1043.839966   \n",
       "2017-01-04  1044.400024  1159.420044  1044.400024  1154.729980  1154.729980   \n",
       "2017-01-05  1156.729980  1191.099976   910.416992  1013.380005  1013.380005   \n",
       "\n",
       "               Volume  actual_returns  \n",
       "Date                                   \n",
       "2017-01-01  147775008             NaN  \n",
       "2017-01-02  222184992        0.023464  \n",
       "2017-01-03  185168000        0.021620  \n",
       "2017-01-04  344945984        0.106233  \n",
       "2017-01-05  510199008       -0.122410  "
      ]
     },
     "metadata": {},
     "output_type": "display_data"
    },
    {
     "data": {
      "text/html": [
       "<div>\n",
       "<style scoped>\n",
       "    .dataframe tbody tr th:only-of-type {\n",
       "        vertical-align: middle;\n",
       "    }\n",
       "\n",
       "    .dataframe tbody tr th {\n",
       "        vertical-align: top;\n",
       "    }\n",
       "\n",
       "    .dataframe thead th {\n",
       "        text-align: right;\n",
       "    }\n",
       "</style>\n",
       "<table border=\"1\" class=\"dataframe\">\n",
       "  <thead>\n",
       "    <tr style=\"text-align: right;\">\n",
       "      <th></th>\n",
       "      <th>Open</th>\n",
       "      <th>High</th>\n",
       "      <th>Low</th>\n",
       "      <th>Close</th>\n",
       "      <th>Adj Close</th>\n",
       "      <th>Volume</th>\n",
       "      <th>actual_returns</th>\n",
       "    </tr>\n",
       "    <tr>\n",
       "      <th>Date</th>\n",
       "      <th></th>\n",
       "      <th></th>\n",
       "      <th></th>\n",
       "      <th></th>\n",
       "      <th></th>\n",
       "      <th></th>\n",
       "      <th></th>\n",
       "    </tr>\n",
       "  </thead>\n",
       "  <tbody>\n",
       "    <tr>\n",
       "      <th>2021-12-28</th>\n",
       "      <td>50679.859375</td>\n",
       "      <td>50679.859375</td>\n",
       "      <td>47414.210938</td>\n",
       "      <td>47588.855469</td>\n",
       "      <td>47588.855469</td>\n",
       "      <td>33430376883</td>\n",
       "      <td>-0.060259</td>\n",
       "    </tr>\n",
       "    <tr>\n",
       "      <th>2021-12-29</th>\n",
       "      <td>47623.871094</td>\n",
       "      <td>48119.742188</td>\n",
       "      <td>46201.496094</td>\n",
       "      <td>46444.710938</td>\n",
       "      <td>46444.710938</td>\n",
       "      <td>30049226299</td>\n",
       "      <td>-0.024042</td>\n",
       "    </tr>\n",
       "    <tr>\n",
       "      <th>2021-12-30</th>\n",
       "      <td>46490.605469</td>\n",
       "      <td>47879.964844</td>\n",
       "      <td>46060.312500</td>\n",
       "      <td>47178.125000</td>\n",
       "      <td>47178.125000</td>\n",
       "      <td>26686491018</td>\n",
       "      <td>0.015791</td>\n",
       "    </tr>\n",
       "    <tr>\n",
       "      <th>2021-12-31</th>\n",
       "      <td>47169.371094</td>\n",
       "      <td>48472.527344</td>\n",
       "      <td>45819.953125</td>\n",
       "      <td>46306.445312</td>\n",
       "      <td>46306.445312</td>\n",
       "      <td>36974172400</td>\n",
       "      <td>-0.018476</td>\n",
       "    </tr>\n",
       "    <tr>\n",
       "      <th>2022-01-01</th>\n",
       "      <td>46311.746094</td>\n",
       "      <td>47827.312500</td>\n",
       "      <td>46288.484375</td>\n",
       "      <td>47686.812500</td>\n",
       "      <td>47686.812500</td>\n",
       "      <td>24582667004</td>\n",
       "      <td>0.029809</td>\n",
       "    </tr>\n",
       "  </tbody>\n",
       "</table>\n",
       "</div>"
      ],
      "text/plain": [
       "                    Open          High           Low         Close  \\\n",
       "Date                                                                 \n",
       "2021-12-28  50679.859375  50679.859375  47414.210938  47588.855469   \n",
       "2021-12-29  47623.871094  48119.742188  46201.496094  46444.710938   \n",
       "2021-12-30  46490.605469  47879.964844  46060.312500  47178.125000   \n",
       "2021-12-31  47169.371094  48472.527344  45819.953125  46306.445312   \n",
       "2022-01-01  46311.746094  47827.312500  46288.484375  47686.812500   \n",
       "\n",
       "               Adj Close       Volume  actual_returns  \n",
       "Date                                                   \n",
       "2021-12-28  47588.855469  33430376883       -0.060259  \n",
       "2021-12-29  46444.710938  30049226299       -0.024042  \n",
       "2021-12-30  47178.125000  26686491018        0.015791  \n",
       "2021-12-31  46306.445312  36974172400       -0.018476  \n",
       "2022-01-01  47686.812500  24582667004        0.029809  "
      ]
     },
     "metadata": {},
     "output_type": "display_data"
    }
   ],
   "source": [
    "btc_df['actual_returns'] = btc_df['Close'].pct_change()\n",
    "btc_df.dropna()\n",
    "display(btc_df.head())\n",
    "display(btc_df.tail())"
   ]
  },
  {
   "cell_type": "code",
   "execution_count": 20,
   "id": "e5642324",
   "metadata": {},
   "outputs": [],
   "source": [
    "short_window = 8\n",
    "btc_df['sma_fast'] = btc_df['Close'].rolling(window=short_window).mean().dropna()"
   ]
  },
  {
   "cell_type": "code",
   "execution_count": 21,
   "id": "be6f1f81",
   "metadata": {},
   "outputs": [],
   "source": [
    "long_window = 21\n",
    "btc_df['sma_slow'] = btc_df['Close'].rolling(window=long_window).mean().dropna()"
   ]
  },
  {
   "cell_type": "code",
   "execution_count": 25,
   "id": "8f5f70ef",
   "metadata": {},
   "outputs": [
    {
     "data": {
      "text/html": [
       "<div>\n",
       "<style scoped>\n",
       "    .dataframe tbody tr th:only-of-type {\n",
       "        vertical-align: middle;\n",
       "    }\n",
       "\n",
       "    .dataframe tbody tr th {\n",
       "        vertical-align: top;\n",
       "    }\n",
       "\n",
       "    .dataframe thead th {\n",
       "        text-align: right;\n",
       "    }\n",
       "</style>\n",
       "<table border=\"1\" class=\"dataframe\">\n",
       "  <thead>\n",
       "    <tr style=\"text-align: right;\">\n",
       "      <th></th>\n",
       "      <th>Open</th>\n",
       "      <th>High</th>\n",
       "      <th>Low</th>\n",
       "      <th>Close</th>\n",
       "      <th>Adj Close</th>\n",
       "      <th>Volume</th>\n",
       "      <th>actual_returns</th>\n",
       "      <th>sma_fast</th>\n",
       "      <th>sma_slow</th>\n",
       "    </tr>\n",
       "    <tr>\n",
       "      <th>Date</th>\n",
       "      <th></th>\n",
       "      <th></th>\n",
       "      <th></th>\n",
       "      <th></th>\n",
       "      <th></th>\n",
       "      <th></th>\n",
       "      <th></th>\n",
       "      <th></th>\n",
       "      <th></th>\n",
       "    </tr>\n",
       "  </thead>\n",
       "  <tbody>\n",
       "    <tr>\n",
       "      <th>2017-01-21</th>\n",
       "      <td>895.549011</td>\n",
       "      <td>927.367004</td>\n",
       "      <td>895.534973</td>\n",
       "      <td>921.789001</td>\n",
       "      <td>921.789001</td>\n",
       "      <td>111158000</td>\n",
       "      <td>0.029902</td>\n",
       "      <td>872.773491</td>\n",
       "      <td>912.060948</td>\n",
       "    </tr>\n",
       "    <tr>\n",
       "      <th>2017-01-22</th>\n",
       "      <td>922.205017</td>\n",
       "      <td>937.525024</td>\n",
       "      <td>897.564026</td>\n",
       "      <td>924.672974</td>\n",
       "      <td>924.672974</td>\n",
       "      <td>116573000</td>\n",
       "      <td>0.003129</td>\n",
       "      <td>886.056114</td>\n",
       "      <td>908.553708</td>\n",
       "    </tr>\n",
       "    <tr>\n",
       "      <th>2017-01-23</th>\n",
       "      <td>925.499023</td>\n",
       "      <td>928.265991</td>\n",
       "      <td>916.737976</td>\n",
       "      <td>921.012024</td>\n",
       "      <td>921.012024</td>\n",
       "      <td>73588600</td>\n",
       "      <td>-0.003959</td>\n",
       "      <td>898.457870</td>\n",
       "      <td>903.756662</td>\n",
       "    </tr>\n",
       "    <tr>\n",
       "      <th>2017-01-24</th>\n",
       "      <td>910.677002</td>\n",
       "      <td>924.145020</td>\n",
       "      <td>892.286011</td>\n",
       "      <td>892.687012</td>\n",
       "      <td>892.687012</td>\n",
       "      <td>111349000</td>\n",
       "      <td>-0.030754</td>\n",
       "      <td>906.101997</td>\n",
       "      <td>896.558902</td>\n",
       "    </tr>\n",
       "    <tr>\n",
       "      <th>2017-01-25</th>\n",
       "      <td>891.924011</td>\n",
       "      <td>903.252014</td>\n",
       "      <td>891.687012</td>\n",
       "      <td>901.541992</td>\n",
       "      <td>901.541992</td>\n",
       "      <td>120831000</td>\n",
       "      <td>0.009919</td>\n",
       "      <td>905.302498</td>\n",
       "      <td>884.502331</td>\n",
       "    </tr>\n",
       "  </tbody>\n",
       "</table>\n",
       "</div>"
      ],
      "text/plain": [
       "                  Open        High         Low       Close   Adj Close  \\\n",
       "Date                                                                     \n",
       "2017-01-21  895.549011  927.367004  895.534973  921.789001  921.789001   \n",
       "2017-01-22  922.205017  937.525024  897.564026  924.672974  924.672974   \n",
       "2017-01-23  925.499023  928.265991  916.737976  921.012024  921.012024   \n",
       "2017-01-24  910.677002  924.145020  892.286011  892.687012  892.687012   \n",
       "2017-01-25  891.924011  903.252014  891.687012  901.541992  901.541992   \n",
       "\n",
       "               Volume  actual_returns    sma_fast    sma_slow  \n",
       "Date                                                           \n",
       "2017-01-21  111158000        0.029902  872.773491  912.060948  \n",
       "2017-01-22  116573000        0.003129  886.056114  908.553708  \n",
       "2017-01-23   73588600       -0.003959  898.457870  903.756662  \n",
       "2017-01-24  111349000       -0.030754  906.101997  896.558902  \n",
       "2017-01-25  120831000        0.009919  905.302498  884.502331  "
      ]
     },
     "execution_count": 25,
     "metadata": {},
     "output_type": "execute_result"
    }
   ],
   "source": [
    "btc_df = btc_df.dropna()\n",
    "btc_df.head()"
   ]
  },
  {
   "cell_type": "code",
   "execution_count": 15,
   "id": "9b4a2685",
   "metadata": {},
   "outputs": [
    {
     "data": {
      "text/html": [
       "<div>\n",
       "<style scoped>\n",
       "    .dataframe tbody tr th:only-of-type {\n",
       "        vertical-align: middle;\n",
       "    }\n",
       "\n",
       "    .dataframe tbody tr th {\n",
       "        vertical-align: top;\n",
       "    }\n",
       "\n",
       "    .dataframe thead th {\n",
       "        text-align: right;\n",
       "    }\n",
       "</style>\n",
       "<table border=\"1\" class=\"dataframe\">\n",
       "  <thead>\n",
       "    <tr style=\"text-align: right;\">\n",
       "      <th></th>\n",
       "      <th>sma_fast</th>\n",
       "      <th>sma_slow</th>\n",
       "    </tr>\n",
       "    <tr>\n",
       "      <th>Date</th>\n",
       "      <th></th>\n",
       "      <th></th>\n",
       "    </tr>\n",
       "  </thead>\n",
       "  <tbody>\n",
       "    <tr>\n",
       "      <th>2017-01-21</th>\n",
       "      <td>872.773491</td>\n",
       "      <td>912.060948</td>\n",
       "    </tr>\n",
       "    <tr>\n",
       "      <th>2017-01-22</th>\n",
       "      <td>886.056114</td>\n",
       "      <td>908.553708</td>\n",
       "    </tr>\n",
       "    <tr>\n",
       "      <th>2017-01-23</th>\n",
       "      <td>898.457870</td>\n",
       "      <td>903.756662</td>\n",
       "    </tr>\n",
       "    <tr>\n",
       "      <th>2017-01-24</th>\n",
       "      <td>906.101997</td>\n",
       "      <td>896.558902</td>\n",
       "    </tr>\n",
       "    <tr>\n",
       "      <th>2017-01-25</th>\n",
       "      <td>905.302498</td>\n",
       "      <td>884.502331</td>\n",
       "    </tr>\n",
       "  </tbody>\n",
       "</table>\n",
       "</div>"
      ],
      "text/plain": [
       "              sma_fast    sma_slow\n",
       "Date                              \n",
       "2017-01-21  872.773491  912.060948\n",
       "2017-01-22  886.056114  908.553708\n",
       "2017-01-23  898.457870  903.756662\n",
       "2017-01-24  906.101997  896.558902\n",
       "2017-01-25  905.302498  884.502331"
      ]
     },
     "metadata": {},
     "output_type": "display_data"
    },
    {
     "data": {
      "text/html": [
       "<div>\n",
       "<style scoped>\n",
       "    .dataframe tbody tr th:only-of-type {\n",
       "        vertical-align: middle;\n",
       "    }\n",
       "\n",
       "    .dataframe tbody tr th {\n",
       "        vertical-align: top;\n",
       "    }\n",
       "\n",
       "    .dataframe thead th {\n",
       "        text-align: right;\n",
       "    }\n",
       "</style>\n",
       "<table border=\"1\" class=\"dataframe\">\n",
       "  <thead>\n",
       "    <tr style=\"text-align: right;\">\n",
       "      <th></th>\n",
       "      <th>sma_fast</th>\n",
       "      <th>sma_slow</th>\n",
       "    </tr>\n",
       "    <tr>\n",
       "      <th>Date</th>\n",
       "      <th></th>\n",
       "      <th></th>\n",
       "    </tr>\n",
       "  </thead>\n",
       "  <tbody>\n",
       "    <tr>\n",
       "      <th>2021-12-28</th>\n",
       "      <td>49830.063477</td>\n",
       "      <td>48574.859561</td>\n",
       "    </tr>\n",
       "    <tr>\n",
       "      <th>2021-12-29</th>\n",
       "      <td>49518.575684</td>\n",
       "      <td>48381.522135</td>\n",
       "    </tr>\n",
       "    <tr>\n",
       "      <th>2021-12-30</th>\n",
       "      <td>49337.277344</td>\n",
       "      <td>48357.998512</td>\n",
       "    </tr>\n",
       "    <tr>\n",
       "      <th>2021-12-31</th>\n",
       "      <td>48777.515625</td>\n",
       "      <td>48313.386161</td>\n",
       "    </tr>\n",
       "    <tr>\n",
       "      <th>2022-01-01</th>\n",
       "      <td>48385.592773</td>\n",
       "      <td>48233.591146</td>\n",
       "    </tr>\n",
       "  </tbody>\n",
       "</table>\n",
       "</div>"
      ],
      "text/plain": [
       "                sma_fast      sma_slow\n",
       "Date                                  \n",
       "2021-12-28  49830.063477  48574.859561\n",
       "2021-12-29  49518.575684  48381.522135\n",
       "2021-12-30  49337.277344  48357.998512\n",
       "2021-12-31  48777.515625  48313.386161\n",
       "2022-01-01  48385.592773  48233.591146"
      ]
     },
     "metadata": {},
     "output_type": "display_data"
    }
   ],
   "source": [
    "# features set \n",
    "X = btc_df[['sma_fast','sma_slow']].copy().dropna()\n",
    "display(X.head())\n",
    "display(X.tail())"
   ]
  },
  {
   "cell_type": "code",
   "execution_count": 27,
   "id": "e4057a8d",
   "metadata": {},
   "outputs": [],
   "source": [
    "# target set \n",
    "btc_df['signal'] = 0.0"
   ]
  },
  {
   "cell_type": "code",
   "execution_count": 28,
   "id": "2b93a48d",
   "metadata": {},
   "outputs": [],
   "source": [
    "# buy signal\n",
    "btc_df.loc[(btc_df['actual_returns'] >= 0), 'signal'] = 1"
   ]
  },
  {
   "cell_type": "code",
   "execution_count": 29,
   "id": "41469781",
   "metadata": {},
   "outputs": [],
   "source": [
    "# sell signal\n",
    "btc_df.loc[(btc_df['actual_returns'] < 0), 'signal'] = -1"
   ]
  },
  {
   "cell_type": "code",
   "execution_count": 30,
   "id": "8f9fc7eb",
   "metadata": {},
   "outputs": [],
   "source": [
    "y = btc_df['signal'].copy()"
   ]
  },
  {
   "cell_type": "code",
   "execution_count": 31,
   "id": "80fbcdc5",
   "metadata": {},
   "outputs": [],
   "source": [
    "from pandas.tseries.offsets import DateOffset"
   ]
  },
  {
   "cell_type": "code",
   "execution_count": 33,
   "id": "b82ab985",
   "metadata": {},
   "outputs": [
    {
     "name": "stdout",
     "output_type": "stream",
     "text": [
      "2017-01-21 00:00:00\n"
     ]
    }
   ],
   "source": [
    "train_start = X.index.min()\n",
    "print(train_start)"
   ]
  },
  {
   "cell_type": "code",
   "execution_count": 35,
   "id": "1f5ffe00",
   "metadata": {},
   "outputs": [
    {
     "name": "stdout",
     "output_type": "stream",
     "text": [
      "2020-01-21 00:00:00\n"
     ]
    }
   ],
   "source": [
    "train_end = X.index.min() + DateOffset(years=3)\n",
    "print(train_end)"
   ]
  },
  {
   "cell_type": "code",
   "execution_count": 36,
   "id": "5bd5969e",
   "metadata": {},
   "outputs": [
    {
     "data": {
      "text/html": [
       "<div>\n",
       "<style scoped>\n",
       "    .dataframe tbody tr th:only-of-type {\n",
       "        vertical-align: middle;\n",
       "    }\n",
       "\n",
       "    .dataframe tbody tr th {\n",
       "        vertical-align: top;\n",
       "    }\n",
       "\n",
       "    .dataframe thead th {\n",
       "        text-align: right;\n",
       "    }\n",
       "</style>\n",
       "<table border=\"1\" class=\"dataframe\">\n",
       "  <thead>\n",
       "    <tr style=\"text-align: right;\">\n",
       "      <th></th>\n",
       "      <th>sma_fast</th>\n",
       "      <th>sma_slow</th>\n",
       "    </tr>\n",
       "    <tr>\n",
       "      <th>Date</th>\n",
       "      <th></th>\n",
       "      <th></th>\n",
       "    </tr>\n",
       "  </thead>\n",
       "  <tbody>\n",
       "    <tr>\n",
       "      <th>2017-01-21</th>\n",
       "      <td>872.773491</td>\n",
       "      <td>912.060948</td>\n",
       "    </tr>\n",
       "    <tr>\n",
       "      <th>2017-01-22</th>\n",
       "      <td>886.056114</td>\n",
       "      <td>908.553708</td>\n",
       "    </tr>\n",
       "    <tr>\n",
       "      <th>2017-01-23</th>\n",
       "      <td>898.457870</td>\n",
       "      <td>903.756662</td>\n",
       "    </tr>\n",
       "    <tr>\n",
       "      <th>2017-01-24</th>\n",
       "      <td>906.101997</td>\n",
       "      <td>896.558902</td>\n",
       "    </tr>\n",
       "    <tr>\n",
       "      <th>2017-01-25</th>\n",
       "      <td>905.302498</td>\n",
       "      <td>884.502331</td>\n",
       "    </tr>\n",
       "  </tbody>\n",
       "</table>\n",
       "</div>"
      ],
      "text/plain": [
       "              sma_fast    sma_slow\n",
       "Date                              \n",
       "2017-01-21  872.773491  912.060948\n",
       "2017-01-22  886.056114  908.553708\n",
       "2017-01-23  898.457870  903.756662\n",
       "2017-01-24  906.101997  896.558902\n",
       "2017-01-25  905.302498  884.502331"
      ]
     },
     "execution_count": 36,
     "metadata": {},
     "output_type": "execute_result"
    }
   ],
   "source": [
    "X_train = X.loc[train_start:train_end]\n",
    "y_train = y.loc[train_start:train_end]\n",
    "X_train.head()"
   ]
  },
  {
   "cell_type": "code",
   "execution_count": 37,
   "id": "77ff75d7",
   "metadata": {},
   "outputs": [
    {
     "data": {
      "text/html": [
       "<div>\n",
       "<style scoped>\n",
       "    .dataframe tbody tr th:only-of-type {\n",
       "        vertical-align: middle;\n",
       "    }\n",
       "\n",
       "    .dataframe tbody tr th {\n",
       "        vertical-align: top;\n",
       "    }\n",
       "\n",
       "    .dataframe thead th {\n",
       "        text-align: right;\n",
       "    }\n",
       "</style>\n",
       "<table border=\"1\" class=\"dataframe\">\n",
       "  <thead>\n",
       "    <tr style=\"text-align: right;\">\n",
       "      <th></th>\n",
       "      <th>sma_fast</th>\n",
       "      <th>sma_slow</th>\n",
       "    </tr>\n",
       "    <tr>\n",
       "      <th>Date</th>\n",
       "      <th></th>\n",
       "      <th></th>\n",
       "    </tr>\n",
       "  </thead>\n",
       "  <tbody>\n",
       "    <tr>\n",
       "      <th>2020-01-21</th>\n",
       "      <td>8792.523804</td>\n",
       "      <td>8148.824730</td>\n",
       "    </tr>\n",
       "    <tr>\n",
       "      <th>2020-01-22</th>\n",
       "      <td>8774.162720</td>\n",
       "      <td>8219.334333</td>\n",
       "    </tr>\n",
       "    <tr>\n",
       "      <th>2020-01-23</th>\n",
       "      <td>8724.100830</td>\n",
       "      <td>8287.003162</td>\n",
       "    </tr>\n",
       "    <tr>\n",
       "      <th>2020-01-24</th>\n",
       "      <td>8689.306885</td>\n",
       "      <td>8339.410319</td>\n",
       "    </tr>\n",
       "    <tr>\n",
       "      <th>2020-01-25</th>\n",
       "      <td>8619.158081</td>\n",
       "      <td>8384.990839</td>\n",
       "    </tr>\n",
       "  </tbody>\n",
       "</table>\n",
       "</div>"
      ],
      "text/plain": [
       "               sma_fast     sma_slow\n",
       "Date                                \n",
       "2020-01-21  8792.523804  8148.824730\n",
       "2020-01-22  8774.162720  8219.334333\n",
       "2020-01-23  8724.100830  8287.003162\n",
       "2020-01-24  8689.306885  8339.410319\n",
       "2020-01-25  8619.158081  8384.990839"
      ]
     },
     "execution_count": 37,
     "metadata": {},
     "output_type": "execute_result"
    }
   ],
   "source": [
    "X_test = X.loc[train_end:]\n",
    "y_test = y.loc[train_end:]\n",
    "X_test.head()"
   ]
  },
  {
   "cell_type": "code",
   "execution_count": 38,
   "id": "33d1e886",
   "metadata": {},
   "outputs": [],
   "source": [
    "from sklearn.preprocessing import StandardScaler"
   ]
  },
  {
   "cell_type": "code",
   "execution_count": 39,
   "id": "d5949af3",
   "metadata": {},
   "outputs": [],
   "source": [
    "scaler = StandardScaler()\n",
    "X_scaler = scaler.fit(X_train)\n",
    "X_train_scaled = X_scaler.transform(X_train)\n",
    "X_test_scaled = X_scaler.transform(X_test)"
   ]
  },
  {
   "cell_type": "code",
   "execution_count": 41,
   "id": "ba0f8f40",
   "metadata": {},
   "outputs": [],
   "source": [
    "from sklearn import svm\n",
    "from sklearn.metrics import classification_report"
   ]
  },
  {
   "cell_type": "code",
   "execution_count": 43,
   "id": "f6739440",
   "metadata": {},
   "outputs": [
    {
     "data": {
      "text/plain": [
       "array([1., 1., 1., 1., 1., 1., 1., 1., 1., 1.])"
      ]
     },
     "execution_count": 43,
     "metadata": {},
     "output_type": "execute_result"
    }
   ],
   "source": [
    "svm_model = svm.SVC()\n",
    "svm_model = svm_model.fit(X_train_scaled, y_train)\n",
    "training_signal_predictions = svm_model.predict(X_train_scaled)\n",
    "training_signal_predictions[:10]"
   ]
  },
  {
   "cell_type": "code",
   "execution_count": 44,
   "id": "64b40eb3",
   "metadata": {},
   "outputs": [
    {
     "name": "stdout",
     "output_type": "stream",
     "text": [
      "              precision    recall  f1-score   support\n",
      "\n",
      "        -1.0       0.56      0.17      0.26       495\n",
      "         1.0       0.56      0.89      0.69       601\n",
      "\n",
      "    accuracy                           0.56      1096\n",
      "   macro avg       0.56      0.53      0.47      1096\n",
      "weighted avg       0.56      0.56      0.50      1096\n",
      "\n"
     ]
    }
   ],
   "source": [
    "training_report = classification_report(y_train, training_signal_predictions)\n",
    "print(training_report)"
   ]
  },
  {
   "cell_type": "code",
   "execution_count": 47,
   "id": "af9c2bfb",
   "metadata": {},
   "outputs": [],
   "source": [
    "testing_signal_predictions = svm_model.predict(X_test_scaled)"
   ]
  },
  {
   "cell_type": "code",
   "execution_count": 48,
   "id": "ef9559ad",
   "metadata": {},
   "outputs": [
    {
     "name": "stdout",
     "output_type": "stream",
     "text": [
      "              precision    recall  f1-score   support\n",
      "\n",
      "        -1.0       0.45      0.22      0.30       329\n",
      "         1.0       0.53      0.76      0.63       383\n",
      "\n",
      "    accuracy                           0.51       712\n",
      "   macro avg       0.49      0.49      0.46       712\n",
      "weighted avg       0.49      0.51      0.48       712\n",
      "\n"
     ]
    }
   ],
   "source": [
    "svm_testing_report = classification_report(y_test, testing_signal_predictions)\n",
    "print(svm_testing_report)"
   ]
  },
  {
   "cell_type": "code",
   "execution_count": 52,
   "id": "919a455b",
   "metadata": {},
   "outputs": [
    {
     "data": {
      "text/html": [
       "<div>\n",
       "<style scoped>\n",
       "    .dataframe tbody tr th:only-of-type {\n",
       "        vertical-align: middle;\n",
       "    }\n",
       "\n",
       "    .dataframe tbody tr th {\n",
       "        vertical-align: top;\n",
       "    }\n",
       "\n",
       "    .dataframe thead th {\n",
       "        text-align: right;\n",
       "    }\n",
       "</style>\n",
       "<table border=\"1\" class=\"dataframe\">\n",
       "  <thead>\n",
       "    <tr style=\"text-align: right;\">\n",
       "      <th></th>\n",
       "      <th>predicted_signal</th>\n",
       "      <th>actual_returns</th>\n",
       "      <th>trading_algo_returns</th>\n",
       "    </tr>\n",
       "    <tr>\n",
       "      <th>Date</th>\n",
       "      <th></th>\n",
       "      <th></th>\n",
       "      <th></th>\n",
       "    </tr>\n",
       "  </thead>\n",
       "  <tbody>\n",
       "    <tr>\n",
       "      <th>2020-01-21</th>\n",
       "      <td>1.0</td>\n",
       "      <td>0.010194</td>\n",
       "      <td>0.010194</td>\n",
       "    </tr>\n",
       "    <tr>\n",
       "      <th>2020-01-22</th>\n",
       "      <td>1.0</td>\n",
       "      <td>-0.007434</td>\n",
       "      <td>-0.007434</td>\n",
       "    </tr>\n",
       "    <tr>\n",
       "      <th>2020-01-23</th>\n",
       "      <td>1.0</td>\n",
       "      <td>-0.031605</td>\n",
       "      <td>-0.031605</td>\n",
       "    </tr>\n",
       "    <tr>\n",
       "      <th>2020-01-24</th>\n",
       "      <td>1.0</td>\n",
       "      <td>0.004630</td>\n",
       "      <td>0.004630</td>\n",
       "    </tr>\n",
       "    <tr>\n",
       "      <th>2020-01-25</th>\n",
       "      <td>1.0</td>\n",
       "      <td>-0.009187</td>\n",
       "      <td>-0.009187</td>\n",
       "    </tr>\n",
       "  </tbody>\n",
       "</table>\n",
       "</div>"
      ],
      "text/plain": [
       "            predicted_signal  actual_returns  trading_algo_returns\n",
       "Date                                                              \n",
       "2020-01-21               1.0        0.010194              0.010194\n",
       "2020-01-22               1.0       -0.007434             -0.007434\n",
       "2020-01-23               1.0       -0.031605             -0.031605\n",
       "2020-01-24               1.0        0.004630              0.004630\n",
       "2020-01-25               1.0       -0.009187             -0.009187"
      ]
     },
     "execution_count": 52,
     "metadata": {},
     "output_type": "execute_result"
    }
   ],
   "source": [
    "predictions_df = pd.DataFrame(index=X_test.index)\n",
    "predictions_df['predicted_signal'] = testing_signal_predictions\n",
    "predictions_df['actual_returns'] = btc_df['actual_returns']\n",
    "predictions_df['trading_algo_returns'] = predictions_df['actual_returns'] * predictions_df['predicted_signal']\n",
    "predictions_df.head()"
   ]
  },
  {
   "cell_type": "code",
   "execution_count": 53,
   "id": "5cdb7978",
   "metadata": {},
   "outputs": [
    {
     "data": {
      "text/plain": [
       "<AxesSubplot:xlabel='Date'>"
      ]
     },
     "execution_count": 53,
     "metadata": {},
     "output_type": "execute_result"
    },
    {
     "data": {
      "image/png": "[encoded data removed]",
      "text/plain": [
       "<Figure size 432x288 with 1 Axes>"
      ]
     },
     "metadata": {
      "needs_background": "light"
     },
     "output_type": "display_data"
    }
   ],
   "source": [
    "(1 + predictions_df[['actual_returns', 'trading_algo_returns']]).cumprod().plot()"
   ]
  },
  {
   "cell_type": "code",
   "execution_count": 54,
   "id": "8aacfe25",
   "metadata": {},
   "outputs": [],
   "source": [
    "from sklearn.linear_model import LogisticRegression"
   ]
  },
  {
   "cell_type": "code",
   "execution_count": 55,
   "id": "30112367",
   "metadata": {},
   "outputs": [],
   "source": [
    "log_reg_model = LogisticRegression()"
   ]
  },
  {
   "cell_type": "code",
   "execution_count": 56,
   "id": "bb1af80e",
   "metadata": {},
   "outputs": [
    {
     "data": {
      "text/plain": [
       "LogisticRegression()"
      ]
     },
     "execution_count": 56,
     "metadata": {},
     "output_type": "execute_result"
    }
   ],
   "source": [
    "log_reg_model.fit(X_train_scaled, y_train)"
   ]
  },
  {
   "cell_type": "code",
   "execution_count": 59,
   "id": "27568985",
   "metadata": {},
   "outputs": [
    {
     "data": {
      "text/plain": [
       "array([1., 1., 1., 1., 1., 1., 1., 1., 1., 1.])"
      ]
     },
     "execution_count": 59,
     "metadata": {},
     "output_type": "execute_result"
    }
   ],
   "source": [
    "logreg_train_signal_pred = log_reg_model.predict(X_train_scaled)\n",
    "logreg_train_signal_pred[:10]"
   ]
  },
  {
   "cell_type": "code",
   "execution_count": 61,
   "id": "23dc7c51",
   "metadata": {},
   "outputs": [
    {
     "name": "stdout",
     "output_type": "stream",
     "text": [
      "              precision    recall  f1-score   support\n",
      "\n",
      "        -1.0       0.55      0.22      0.31       495\n",
      "         1.0       0.57      0.86      0.68       601\n",
      "\n",
      "    accuracy                           0.57      1096\n",
      "   macro avg       0.56      0.54      0.50      1096\n",
      "weighted avg       0.56      0.57      0.52      1096\n",
      "\n"
     ]
    }
   ],
   "source": [
    "logreg_train_report = classification_report(y_train, logreg_train_signal_pred)\n",
    "print(logreg_train_report)"
   ]
  },
  {
   "cell_type": "code",
   "execution_count": 62,
   "id": "32283c17",
   "metadata": {},
   "outputs": [],
   "source": [
    "logreg_test_signal_pred = log_reg_model.predict(X_test_scaled)"
   ]
  },
  {
   "cell_type": "code",
   "execution_count": 65,
   "id": "b31ca2fb",
   "metadata": {},
   "outputs": [],
   "source": [
    "logreg_test_report = classification_report(y_test, logreg_test_signal_pred)"
   ]
  },
  {
   "cell_type": "code",
   "execution_count": 66,
   "id": "fa059a65",
   "metadata": {},
   "outputs": [
    {
     "name": "stdout",
     "output_type": "stream",
     "text": [
      "Logistic Regression Classification Report\n",
      "              precision    recall  f1-score   support\n",
      "\n",
      "        -1.0       0.47      0.80      0.59       329\n",
      "         1.0       0.56      0.22      0.32       383\n",
      "\n",
      "    accuracy                           0.49       712\n",
      "   macro avg       0.52      0.51      0.45       712\n",
      "weighted avg       0.52      0.49      0.44       712\n",
      "\n"
     ]
    }
   ],
   "source": [
    "print('Logistic Regression Classification Report')\n",
    "print(logreg_test_report)"
   ]
  },
  {
   "cell_type": "code",
   "execution_count": 68,
   "id": "ad81acb0",
   "metadata": {},
   "outputs": [
    {
     "name": "stdout",
     "output_type": "stream",
     "text": [
      "SVM Classification Report\n",
      "              precision    recall  f1-score   support\n",
      "\n",
      "        -1.0       0.45      0.22      0.30       329\n",
      "         1.0       0.53      0.76      0.63       383\n",
      "\n",
      "    accuracy                           0.51       712\n",
      "   macro avg       0.49      0.49      0.46       712\n",
      "weighted avg       0.49      0.51      0.48       712\n",
      "\n"
     ]
    }
   ],
   "source": [
    "print('SVM Classification Report')\n",
    "print(svm_testing_report)"
   ]
  },
  {
   "cell_type": "code",
   "execution_count": null,
   "id": "8e441789",
   "metadata": {},
   "outputs": [],
   "source": []
  },
  {
   "cell_type": "code",
   "execution_count": null,
   "id": "19eb8de4",
   "metadata": {},
   "outputs": [],
   "source": []
  },
  {
   "cell_type": "code",
   "execution_count": null,
   "id": "4c2882d6",
   "metadata": {},
   "outputs": [],
   "source": []
  },
  {
   "cell_type": "code",
   "execution_count": 69,
   "id": "1fe5c59e",
   "metadata": {},
   "outputs": [
    {
     "data": {
      "text/plain": [
       "<AxesSubplot:xlabel='Date'>"
      ]
     },
     "execution_count": 69,
     "metadata": {},
     "output_type": "execute_result"
    },
    {
     "data": {
      "image/png": "[encoded data removed]",
      "text/plain": [
       "<Figure size 432x288 with 1 Axes>"
      ]
     },
     "metadata": {
      "needs_background": "light"
     },
     "output_type": "display_data"
    }
   ],
   "source": [
    "btc_df['actual_returns'].cumsum().plot()"
   ]
  },
  {
   "cell_type": "code",
   "execution_count": null,
   "id": "70a5467b",
   "metadata": {},
   "outputs": [],
   "source": []
  }
 ],
 "metadata": {
  "kernelspec": {
   "display_name": "Python 3 (ipykernel)",
   "language": "python",
   "name": "python3"
  },
  "language_info": {
   "codemirror_mode": {
    "name": "ipython",
    "version": 3
   },
   "file_extension": ".py",
   "mimetype": "text/x-python",
   "name": "python",
   "nbconvert_exporter": "python",
   "pygments_lexer": "ipython3",
   "version": "3.8.5"
  }
 },
 "nbformat": 4,
 "nbformat_minor": 5
}
