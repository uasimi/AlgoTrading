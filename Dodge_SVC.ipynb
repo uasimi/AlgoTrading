{
 "cells": [
  {
   "cell_type": "markdown",
   "id": "6c5e13d7-37ed-447f-955d-84bc4dca5653",
   "metadata": {},
   "source": [
    "# DOGE COIN SVC MODEL"
   ]
  },
  {
   "cell_type": "code",
   "execution_count": 111,
   "id": "dce96069-7bd6-4956-a868-6f0615bf4ae3",
   "metadata": {},
   "outputs": [],
   "source": [
    "import pandas as pd\n",
    "import yfinance as yf\n",
    "import numpy as np \n",
    "from pandas.tseries.offsets import DateOffset\n",
    "from sklearn.preprocessing import StandardScaler\n",
    "from sklearn import svm\n",
    "from sklearn.metrics import classification_report\n",
    "from sklearn.linear_model import LogisticRegression"
   ]
  },
  {
   "cell_type": "code",
   "execution_count": 112,
   "id": "0da032d0-1d59-4b49-aacc-524284540254",
   "metadata": {},
   "outputs": [
    {
     "name": "stdout",
     "output_type": "stream",
     "text": [
      "[*********************100%***********************]  1 of 1 completed\n"
     ]
    },
    {
     "data": {
      "text/html": [
       "<div>\n",
       "<style scoped>\n",
       "    .dataframe tbody tr th:only-of-type {\n",
       "        vertical-align: middle;\n",
       "    }\n",
       "\n",
       "    .dataframe tbody tr th {\n",
       "        vertical-align: top;\n",
       "    }\n",
       "\n",
       "    .dataframe thead th {\n",
       "        text-align: right;\n",
       "    }\n",
       "</style>\n",
       "<table border=\"1\" class=\"dataframe\">\n",
       "  <thead>\n",
       "    <tr style=\"text-align: right;\">\n",
       "      <th></th>\n",
       "      <th>Open</th>\n",
       "      <th>High</th>\n",
       "      <th>Low</th>\n",
       "      <th>Close</th>\n",
       "      <th>Adj Close</th>\n",
       "      <th>Volume</th>\n",
       "    </tr>\n",
       "    <tr>\n",
       "      <th>Date</th>\n",
       "      <th></th>\n",
       "      <th></th>\n",
       "      <th></th>\n",
       "      <th></th>\n",
       "      <th></th>\n",
       "      <th></th>\n",
       "    </tr>\n",
       "  </thead>\n",
       "  <tbody>\n",
       "    <tr>\n",
       "      <th>2017-11-09</th>\n",
       "      <td>0.001207</td>\n",
       "      <td>0.001415</td>\n",
       "      <td>0.001181</td>\n",
       "      <td>0.001415</td>\n",
       "      <td>0.001415</td>\n",
       "      <td>6259550</td>\n",
       "    </tr>\n",
       "    <tr>\n",
       "      <th>2017-11-10</th>\n",
       "      <td>0.001421</td>\n",
       "      <td>0.001431</td>\n",
       "      <td>0.001125</td>\n",
       "      <td>0.001163</td>\n",
       "      <td>0.001163</td>\n",
       "      <td>4246520</td>\n",
       "    </tr>\n",
       "    <tr>\n",
       "      <th>2017-11-11</th>\n",
       "      <td>0.001146</td>\n",
       "      <td>0.001257</td>\n",
       "      <td>0.001141</td>\n",
       "      <td>0.001201</td>\n",
       "      <td>0.001201</td>\n",
       "      <td>2231080</td>\n",
       "    </tr>\n",
       "    <tr>\n",
       "      <th>2017-11-12</th>\n",
       "      <td>0.001189</td>\n",
       "      <td>0.001210</td>\n",
       "      <td>0.001002</td>\n",
       "      <td>0.001038</td>\n",
       "      <td>0.001038</td>\n",
       "      <td>3288960</td>\n",
       "    </tr>\n",
       "    <tr>\n",
       "      <th>2017-11-13</th>\n",
       "      <td>0.001046</td>\n",
       "      <td>0.001212</td>\n",
       "      <td>0.001019</td>\n",
       "      <td>0.001211</td>\n",
       "      <td>0.001211</td>\n",
       "      <td>2481270</td>\n",
       "    </tr>\n",
       "  </tbody>\n",
       "</table>\n",
       "</div>"
      ],
      "text/plain": [
       "                Open      High       Low     Close  Adj Close   Volume\n",
       "Date                                                                  \n",
       "2017-11-09  0.001207  0.001415  0.001181  0.001415   0.001415  6259550\n",
       "2017-11-10  0.001421  0.001431  0.001125  0.001163   0.001163  4246520\n",
       "2017-11-11  0.001146  0.001257  0.001141  0.001201   0.001201  2231080\n",
       "2017-11-12  0.001189  0.001210  0.001002  0.001038   0.001038  3288960\n",
       "2017-11-13  0.001046  0.001212  0.001019  0.001211   0.001211  2481270"
      ]
     },
     "execution_count": 112,
     "metadata": {},
     "output_type": "execute_result"
    }
   ],
   "source": [
    "doge_data = yf.download('doge-USD', start='2017-01-01', end='2022-01-01')\n",
    "doge_df = pd.DataFrame(doge_data)\n",
    "doge_df.head()"
   ]
  },
  {
   "cell_type": "code",
   "execution_count": 116,
   "id": "ec87a909-82c6-4d64-b294-049e3d81e008",
   "metadata": {},
   "outputs": [
    {
     "data": {
      "text/html": [
       "<div>\n",
       "<style scoped>\n",
       "    .dataframe tbody tr th:only-of-type {\n",
       "        vertical-align: middle;\n",
       "    }\n",
       "\n",
       "    .dataframe tbody tr th {\n",
       "        vertical-align: top;\n",
       "    }\n",
       "\n",
       "    .dataframe thead th {\n",
       "        text-align: right;\n",
       "    }\n",
       "</style>\n",
       "<table border=\"1\" class=\"dataframe\">\n",
       "  <thead>\n",
       "    <tr style=\"text-align: right;\">\n",
       "      <th></th>\n",
       "      <th>Open</th>\n",
       "      <th>High</th>\n",
       "      <th>Low</th>\n",
       "      <th>Close</th>\n",
       "      <th>Adj Close</th>\n",
       "      <th>Volume</th>\n",
       "      <th>actual_returns</th>\n",
       "      <th>sma_fast</th>\n",
       "      <th>sma_slow</th>\n",
       "    </tr>\n",
       "    <tr>\n",
       "      <th>Date</th>\n",
       "      <th></th>\n",
       "      <th></th>\n",
       "      <th></th>\n",
       "      <th></th>\n",
       "      <th></th>\n",
       "      <th></th>\n",
       "      <th></th>\n",
       "      <th></th>\n",
       "      <th></th>\n",
       "    </tr>\n",
       "  </thead>\n",
       "  <tbody>\n",
       "    <tr>\n",
       "      <th>2021-12-28</th>\n",
       "      <td>0.187847</td>\n",
       "      <td>0.187885</td>\n",
       "      <td>0.172738</td>\n",
       "      <td>0.174117</td>\n",
       "      <td>0.174117</td>\n",
       "      <td>954075337</td>\n",
       "      <td>-0.072390</td>\n",
       "      <td>0.182250</td>\n",
       "      <td>0.175263</td>\n",
       "    </tr>\n",
       "    <tr>\n",
       "      <th>2021-12-29</th>\n",
       "      <td>0.174095</td>\n",
       "      <td>0.177339</td>\n",
       "      <td>0.166760</td>\n",
       "      <td>0.167765</td>\n",
       "      <td>0.167765</td>\n",
       "      <td>823628336</td>\n",
       "      <td>-0.036481</td>\n",
       "      <td>0.181824</td>\n",
       "      <td>0.174721</td>\n",
       "    </tr>\n",
       "    <tr>\n",
       "      <th>2021-12-30</th>\n",
       "      <td>0.168137</td>\n",
       "      <td>0.175771</td>\n",
       "      <td>0.165381</td>\n",
       "      <td>0.171313</td>\n",
       "      <td>0.171313</td>\n",
       "      <td>599236772</td>\n",
       "      <td>0.021149</td>\n",
       "      <td>0.181586</td>\n",
       "      <td>0.174808</td>\n",
       "    </tr>\n",
       "    <tr>\n",
       "      <th>2021-12-31</th>\n",
       "      <td>0.171317</td>\n",
       "      <td>0.175294</td>\n",
       "      <td>0.167307</td>\n",
       "      <td>0.170496</td>\n",
       "      <td>0.170496</td>\n",
       "      <td>644416694</td>\n",
       "      <td>-0.004769</td>\n",
       "      <td>0.179837</td>\n",
       "      <td>0.175098</td>\n",
       "    </tr>\n",
       "    <tr>\n",
       "      <th>2022-01-01</th>\n",
       "      <td>0.170510</td>\n",
       "      <td>0.173423</td>\n",
       "      <td>0.170353</td>\n",
       "      <td>0.173035</td>\n",
       "      <td>0.173035</td>\n",
       "      <td>371336089</td>\n",
       "      <td>0.014892</td>\n",
       "      <td>0.178139</td>\n",
       "      <td>0.175289</td>\n",
       "    </tr>\n",
       "  </tbody>\n",
       "</table>\n",
       "</div>"
      ],
      "text/plain": [
       "                Open      High       Low     Close  Adj Close     Volume  \\\n",
       "Date                                                                       \n",
       "2021-12-28  0.187847  0.187885  0.172738  0.174117   0.174117  954075337   \n",
       "2021-12-29  0.174095  0.177339  0.166760  0.167765   0.167765  823628336   \n",
       "2021-12-30  0.168137  0.175771  0.165381  0.171313   0.171313  599236772   \n",
       "2021-12-31  0.171317  0.175294  0.167307  0.170496   0.170496  644416694   \n",
       "2022-01-01  0.170510  0.173423  0.170353  0.173035   0.173035  371336089   \n",
       "\n",
       "            actual_returns  sma_fast  sma_slow  \n",
       "Date                                            \n",
       "2021-12-28       -0.072390  0.182250  0.175263  \n",
       "2021-12-29       -0.036481  0.181824  0.174721  \n",
       "2021-12-30        0.021149  0.181586  0.174808  \n",
       "2021-12-31       -0.004769  0.179837  0.175098  \n",
       "2022-01-01        0.014892  0.178139  0.175289  "
      ]
     },
     "metadata": {},
     "output_type": "display_data"
    }
   ],
   "source": [
    "doge_df['actual_returns'] = doge_df['Close'].pct_change()\n",
    "doge_df.dropna()\n",
    "display(doge_df.tail())"
   ]
  },
  {
   "cell_type": "code",
   "execution_count": 117,
   "id": "f14ba158-5709-4090-833b-328613213c5f",
   "metadata": {},
   "outputs": [
    {
     "data": {
      "text/html": [
       "<div>\n",
       "<style scoped>\n",
       "    .dataframe tbody tr th:only-of-type {\n",
       "        vertical-align: middle;\n",
       "    }\n",
       "\n",
       "    .dataframe tbody tr th {\n",
       "        vertical-align: top;\n",
       "    }\n",
       "\n",
       "    .dataframe thead th {\n",
       "        text-align: right;\n",
       "    }\n",
       "</style>\n",
       "<table border=\"1\" class=\"dataframe\">\n",
       "  <thead>\n",
       "    <tr style=\"text-align: right;\">\n",
       "      <th></th>\n",
       "      <th>Open</th>\n",
       "      <th>High</th>\n",
       "      <th>Low</th>\n",
       "      <th>Close</th>\n",
       "      <th>Adj Close</th>\n",
       "      <th>Volume</th>\n",
       "      <th>actual_returns</th>\n",
       "      <th>sma_fast</th>\n",
       "      <th>sma_slow</th>\n",
       "    </tr>\n",
       "    <tr>\n",
       "      <th>Date</th>\n",
       "      <th></th>\n",
       "      <th></th>\n",
       "      <th></th>\n",
       "      <th></th>\n",
       "      <th></th>\n",
       "      <th></th>\n",
       "      <th></th>\n",
       "      <th></th>\n",
       "      <th></th>\n",
       "    </tr>\n",
       "  </thead>\n",
       "  <tbody>\n",
       "    <tr>\n",
       "      <th>2017-12-19</th>\n",
       "      <td>0.006402</td>\n",
       "      <td>0.006693</td>\n",
       "      <td>0.005476</td>\n",
       "      <td>0.005666</td>\n",
       "      <td>0.005666</td>\n",
       "      <td>38885700</td>\n",
       "      <td>-0.119229</td>\n",
       "      <td>0.004781</td>\n",
       "      <td>0.003333</td>\n",
       "    </tr>\n",
       "    <tr>\n",
       "      <th>2017-12-20</th>\n",
       "      <td>0.005619</td>\n",
       "      <td>0.007067</td>\n",
       "      <td>0.004892</td>\n",
       "      <td>0.006661</td>\n",
       "      <td>0.006661</td>\n",
       "      <td>67820000</td>\n",
       "      <td>0.175609</td>\n",
       "      <td>0.005201</td>\n",
       "      <td>0.003551</td>\n",
       "    </tr>\n",
       "    <tr>\n",
       "      <th>2017-12-21</th>\n",
       "      <td>0.006733</td>\n",
       "      <td>0.008768</td>\n",
       "      <td>0.006583</td>\n",
       "      <td>0.007425</td>\n",
       "      <td>0.007425</td>\n",
       "      <td>159154000</td>\n",
       "      <td>0.114697</td>\n",
       "      <td>0.005697</td>\n",
       "      <td>0.003806</td>\n",
       "    </tr>\n",
       "    <tr>\n",
       "      <th>2017-12-22</th>\n",
       "      <td>0.007386</td>\n",
       "      <td>0.007625</td>\n",
       "      <td>0.004742</td>\n",
       "      <td>0.006054</td>\n",
       "      <td>0.006054</td>\n",
       "      <td>63693900</td>\n",
       "      <td>-0.184646</td>\n",
       "      <td>0.005990</td>\n",
       "      <td>0.003992</td>\n",
       "    </tr>\n",
       "    <tr>\n",
       "      <th>2017-12-23</th>\n",
       "      <td>0.006135</td>\n",
       "      <td>0.008076</td>\n",
       "      <td>0.006110</td>\n",
       "      <td>0.007259</td>\n",
       "      <td>0.007259</td>\n",
       "      <td>70143104</td>\n",
       "      <td>0.199042</td>\n",
       "      <td>0.006427</td>\n",
       "      <td>0.004235</td>\n",
       "    </tr>\n",
       "  </tbody>\n",
       "</table>\n",
       "</div>"
      ],
      "text/plain": [
       "                Open      High       Low     Close  Adj Close     Volume  \\\n",
       "Date                                                                       \n",
       "2017-12-19  0.006402  0.006693  0.005476  0.005666   0.005666   38885700   \n",
       "2017-12-20  0.005619  0.007067  0.004892  0.006661   0.006661   67820000   \n",
       "2017-12-21  0.006733  0.008768  0.006583  0.007425   0.007425  159154000   \n",
       "2017-12-22  0.007386  0.007625  0.004742  0.006054   0.006054   63693900   \n",
       "2017-12-23  0.006135  0.008076  0.006110  0.007259   0.007259   70143104   \n",
       "\n",
       "            actual_returns  sma_fast  sma_slow  \n",
       "Date                                            \n",
       "2017-12-19       -0.119229  0.004781  0.003333  \n",
       "2017-12-20        0.175609  0.005201  0.003551  \n",
       "2017-12-21        0.114697  0.005697  0.003806  \n",
       "2017-12-22       -0.184646  0.005990  0.003992  \n",
       "2017-12-23        0.199042  0.006427  0.004235  "
      ]
     },
     "execution_count": 117,
     "metadata": {},
     "output_type": "execute_result"
    }
   ],
   "source": [
    "#short Window\n",
    "short_window = 8\n",
    "doge_df['sma_fast'] = doge_df['Close'].rolling(window=short_window).mean().dropna()\n",
    "\n",
    "# long Window\n",
    "long_window = 21\n",
    "doge_df['sma_slow'] = doge_df['Close'].rolling(window=long_window).mean().dropna()\n",
    "\n",
    "doge_df = doge_df.dropna()\n",
    "doge_df.head()"
   ]
  },
  {
   "cell_type": "code",
   "execution_count": 118,
   "id": "c5a799cf-7443-4d22-b8d9-f0e5d0281fb0",
   "metadata": {},
   "outputs": [
    {
     "data": {
      "text/html": [
       "<div>\n",
       "<style scoped>\n",
       "    .dataframe tbody tr th:only-of-type {\n",
       "        vertical-align: middle;\n",
       "    }\n",
       "\n",
       "    .dataframe tbody tr th {\n",
       "        vertical-align: top;\n",
       "    }\n",
       "\n",
       "    .dataframe thead th {\n",
       "        text-align: right;\n",
       "    }\n",
       "</style>\n",
       "<table border=\"1\" class=\"dataframe\">\n",
       "  <thead>\n",
       "    <tr style=\"text-align: right;\">\n",
       "      <th></th>\n",
       "      <th>sma_fast</th>\n",
       "      <th>sma_slow</th>\n",
       "    </tr>\n",
       "    <tr>\n",
       "      <th>Date</th>\n",
       "      <th></th>\n",
       "      <th></th>\n",
       "    </tr>\n",
       "  </thead>\n",
       "  <tbody>\n",
       "    <tr>\n",
       "      <th>2021-12-28</th>\n",
       "      <td>0.182250</td>\n",
       "      <td>0.175263</td>\n",
       "    </tr>\n",
       "    <tr>\n",
       "      <th>2021-12-29</th>\n",
       "      <td>0.181824</td>\n",
       "      <td>0.174721</td>\n",
       "    </tr>\n",
       "    <tr>\n",
       "      <th>2021-12-30</th>\n",
       "      <td>0.181586</td>\n",
       "      <td>0.174808</td>\n",
       "    </tr>\n",
       "    <tr>\n",
       "      <th>2021-12-31</th>\n",
       "      <td>0.179837</td>\n",
       "      <td>0.175098</td>\n",
       "    </tr>\n",
       "    <tr>\n",
       "      <th>2022-01-01</th>\n",
       "      <td>0.178139</td>\n",
       "      <td>0.175289</td>\n",
       "    </tr>\n",
       "  </tbody>\n",
       "</table>\n",
       "</div>"
      ],
      "text/plain": [
       "            sma_fast  sma_slow\n",
       "Date                          \n",
       "2021-12-28  0.182250  0.175263\n",
       "2021-12-29  0.181824  0.174721\n",
       "2021-12-30  0.181586  0.174808\n",
       "2021-12-31  0.179837  0.175098\n",
       "2022-01-01  0.178139  0.175289"
      ]
     },
     "metadata": {},
     "output_type": "display_data"
    }
   ],
   "source": [
    "# features set \n",
    "X = doge_df[['sma_fast','sma_slow']].copy().dropna()\n",
    "display(X.tail())"
   ]
  },
  {
   "cell_type": "code",
   "execution_count": 119,
   "id": "16cf1e67-f73a-4f64-9fad-4986bb98bc84",
   "metadata": {},
   "outputs": [],
   "source": [
    "# target set \n",
    "doge_df['signal'] = 0.0"
   ]
  },
  {
   "cell_type": "code",
   "execution_count": 120,
   "id": "a5f443be-157b-486f-af1a-e49e66f63702",
   "metadata": {},
   "outputs": [],
   "source": [
    "# buy signal\n",
    "doge_df.loc[(doge_df['actual_returns'] >= 0), 'signal'] = 1"
   ]
  },
  {
   "cell_type": "code",
   "execution_count": 121,
   "id": "8a76f20c-4ea1-4a64-9064-ae4053f75733",
   "metadata": {},
   "outputs": [],
   "source": [
    "# sell signal\n",
    "doge_df.loc[(doge_df['actual_returns'] < 0), 'signal'] = -1"
   ]
  },
  {
   "cell_type": "code",
   "execution_count": 122,
   "id": "e3398d36-c60f-4faf-8f1d-c448accf0bf2",
   "metadata": {},
   "outputs": [],
   "source": [
    "y = doge_df['signal'].copy()"
   ]
  },
  {
   "cell_type": "code",
   "execution_count": null,
   "id": "3b82085d-19b1-42ef-a414-0945f1f11721",
   "metadata": {},
   "outputs": [],
   "source": []
  },
  {
   "cell_type": "code",
   "execution_count": 123,
   "id": "fb061732-8aaf-4d40-b903-5c6e3f1d40d7",
   "metadata": {},
   "outputs": [
    {
     "name": "stdout",
     "output_type": "stream",
     "text": [
      "2017-12-19 00:00:00\n"
     ]
    }
   ],
   "source": [
    "train_start = X.index.min()\n",
    "print(train_start)"
   ]
  },
  {
   "cell_type": "code",
   "execution_count": 124,
   "id": "ad320345-2477-4099-93be-94fc85e20dcc",
   "metadata": {},
   "outputs": [
    {
     "name": "stdout",
     "output_type": "stream",
     "text": [
      "2020-12-19 00:00:00\n"
     ]
    }
   ],
   "source": [
    "train_end = X.index.min() + DateOffset(years=3)\n",
    "print(train_end)"
   ]
  },
  {
   "cell_type": "code",
   "execution_count": 125,
   "id": "d895d0a6-580d-4f1d-9308-4b17a569f2c5",
   "metadata": {},
   "outputs": [
    {
     "data": {
      "text/html": [
       "<div>\n",
       "<style scoped>\n",
       "    .dataframe tbody tr th:only-of-type {\n",
       "        vertical-align: middle;\n",
       "    }\n",
       "\n",
       "    .dataframe tbody tr th {\n",
       "        vertical-align: top;\n",
       "    }\n",
       "\n",
       "    .dataframe thead th {\n",
       "        text-align: right;\n",
       "    }\n",
       "</style>\n",
       "<table border=\"1\" class=\"dataframe\">\n",
       "  <thead>\n",
       "    <tr style=\"text-align: right;\">\n",
       "      <th></th>\n",
       "      <th>sma_fast</th>\n",
       "      <th>sma_slow</th>\n",
       "    </tr>\n",
       "    <tr>\n",
       "      <th>Date</th>\n",
       "      <th></th>\n",
       "      <th></th>\n",
       "    </tr>\n",
       "  </thead>\n",
       "  <tbody>\n",
       "    <tr>\n",
       "      <th>2017-12-19</th>\n",
       "      <td>0.004781</td>\n",
       "      <td>0.003333</td>\n",
       "    </tr>\n",
       "    <tr>\n",
       "      <th>2017-12-20</th>\n",
       "      <td>0.005201</td>\n",
       "      <td>0.003551</td>\n",
       "    </tr>\n",
       "    <tr>\n",
       "      <th>2017-12-21</th>\n",
       "      <td>0.005697</td>\n",
       "      <td>0.003806</td>\n",
       "    </tr>\n",
       "    <tr>\n",
       "      <th>2017-12-22</th>\n",
       "      <td>0.005990</td>\n",
       "      <td>0.003992</td>\n",
       "    </tr>\n",
       "    <tr>\n",
       "      <th>2017-12-23</th>\n",
       "      <td>0.006427</td>\n",
       "      <td>0.004235</td>\n",
       "    </tr>\n",
       "  </tbody>\n",
       "</table>\n",
       "</div>"
      ],
      "text/plain": [
       "            sma_fast  sma_slow\n",
       "Date                          \n",
       "2017-12-19  0.004781  0.003333\n",
       "2017-12-20  0.005201  0.003551\n",
       "2017-12-21  0.005697  0.003806\n",
       "2017-12-22  0.005990  0.003992\n",
       "2017-12-23  0.006427  0.004235"
      ]
     },
     "execution_count": 125,
     "metadata": {},
     "output_type": "execute_result"
    }
   ],
   "source": [
    "X_train = X.loc[train_start:train_end]\n",
    "y_train = y.loc[train_start:train_end]\n",
    "X_train.head()"
   ]
  },
  {
   "cell_type": "code",
   "execution_count": 126,
   "id": "f8c275c7-d113-4e71-b062-7863a82a4021",
   "metadata": {},
   "outputs": [
    {
     "data": {
      "text/html": [
       "<div>\n",
       "<style scoped>\n",
       "    .dataframe tbody tr th:only-of-type {\n",
       "        vertical-align: middle;\n",
       "    }\n",
       "\n",
       "    .dataframe tbody tr th {\n",
       "        vertical-align: top;\n",
       "    }\n",
       "\n",
       "    .dataframe thead th {\n",
       "        text-align: right;\n",
       "    }\n",
       "</style>\n",
       "<table border=\"1\" class=\"dataframe\">\n",
       "  <thead>\n",
       "    <tr style=\"text-align: right;\">\n",
       "      <th></th>\n",
       "      <th>sma_fast</th>\n",
       "      <th>sma_slow</th>\n",
       "    </tr>\n",
       "    <tr>\n",
       "      <th>Date</th>\n",
       "      <th></th>\n",
       "      <th></th>\n",
       "    </tr>\n",
       "  </thead>\n",
       "  <tbody>\n",
       "    <tr>\n",
       "      <th>2020-12-19</th>\n",
       "      <td>0.003473</td>\n",
       "      <td>0.003375</td>\n",
       "    </tr>\n",
       "    <tr>\n",
       "      <th>2020-12-20</th>\n",
       "      <td>0.003656</td>\n",
       "      <td>0.003431</td>\n",
       "    </tr>\n",
       "    <tr>\n",
       "      <th>2020-12-21</th>\n",
       "      <td>0.003847</td>\n",
       "      <td>0.003490</td>\n",
       "    </tr>\n",
       "    <tr>\n",
       "      <th>2020-12-22</th>\n",
       "      <td>0.004007</td>\n",
       "      <td>0.003545</td>\n",
       "    </tr>\n",
       "    <tr>\n",
       "      <th>2020-12-23</th>\n",
       "      <td>0.004077</td>\n",
       "      <td>0.003564</td>\n",
       "    </tr>\n",
       "  </tbody>\n",
       "</table>\n",
       "</div>"
      ],
      "text/plain": [
       "            sma_fast  sma_slow\n",
       "Date                          \n",
       "2020-12-19  0.003473  0.003375\n",
       "2020-12-20  0.003656  0.003431\n",
       "2020-12-21  0.003847  0.003490\n",
       "2020-12-22  0.004007  0.003545\n",
       "2020-12-23  0.004077  0.003564"
      ]
     },
     "execution_count": 126,
     "metadata": {},
     "output_type": "execute_result"
    }
   ],
   "source": [
    "X_test = X.loc[train_end:]\n",
    "y_test = y.loc[train_end:]\n",
    "X_test.head()"
   ]
  },
  {
   "cell_type": "code",
   "execution_count": null,
   "id": "58253f0e-b706-4eb5-8d98-1f03f57ce37f",
   "metadata": {},
   "outputs": [],
   "source": []
  },
  {
   "cell_type": "code",
   "execution_count": 127,
   "id": "13c910cc-4b2a-4e2d-96c5-e1ac8b5959cd",
   "metadata": {},
   "outputs": [],
   "source": [
    "scaler = StandardScaler()\n",
    "X_scaler = scaler.fit(X_train)\n",
    "X_train_scaled = X_scaler.transform(X_train)\n",
    "X_test_scaled = X_scaler.transform(X_test)"
   ]
  },
  {
   "cell_type": "code",
   "execution_count": null,
   "id": "2ebc330e-e016-4154-9df4-e8985e732b88",
   "metadata": {},
   "outputs": [],
   "source": []
  },
  {
   "cell_type": "code",
   "execution_count": 128,
   "id": "fe76f337-291c-4c3e-9360-96ba072cb651",
   "metadata": {},
   "outputs": [
    {
     "data": {
      "text/plain": [
       "array([1., 1., 1., 1., 1., 1., 1., 1.])"
      ]
     },
     "execution_count": 128,
     "metadata": {},
     "output_type": "execute_result"
    }
   ],
   "source": [
    "svm_model = svm.SVC()\n",
    "svm_model = svm_model.fit(X_train_scaled, y_train)\n",
    "training_signal_predictions = svm_model.predict(X_train_scaled)\n",
    "training_signal_predictions[:8]"
   ]
  },
  {
   "cell_type": "code",
   "execution_count": 129,
   "id": "e2cf6038-ea7e-4679-9af6-b0dc027f5754",
   "metadata": {},
   "outputs": [
    {
     "name": "stdout",
     "output_type": "stream",
     "text": [
      "              precision    recall  f1-score   support\n",
      "\n",
      "        -1.0       0.54      0.66      0.59       562\n",
      "         1.0       0.54      0.41      0.47       535\n",
      "\n",
      "    accuracy                           0.54      1097\n",
      "   macro avg       0.54      0.54      0.53      1097\n",
      "weighted avg       0.54      0.54      0.53      1097\n",
      "\n"
     ]
    }
   ],
   "source": [
    "training_report = classification_report(y_train, training_signal_predictions)\n",
    "print(training_report)"
   ]
  },
  {
   "cell_type": "code",
   "execution_count": 130,
   "id": "b7c99811-f3b9-4f41-a380-0d09708808cb",
   "metadata": {},
   "outputs": [],
   "source": [
    "testing_signal_predictions = svm_model.predict(X_test_scaled)"
   ]
  },
  {
   "cell_type": "code",
   "execution_count": 131,
   "id": "7df2098f-2330-45a6-b50d-c03a7812de5b",
   "metadata": {},
   "outputs": [
    {
     "name": "stdout",
     "output_type": "stream",
     "text": [
      "              precision    recall  f1-score   support\n",
      "\n",
      "        -1.0       0.30      0.03      0.06       197\n",
      "         1.0       0.47      0.92      0.62       182\n",
      "\n",
      "    accuracy                           0.46       379\n",
      "   macro avg       0.38      0.48      0.34       379\n",
      "weighted avg       0.38      0.46      0.33       379\n",
      "\n"
     ]
    }
   ],
   "source": [
    "svm_testing_report = classification_report(y_test, testing_signal_predictions)\n",
    "print(svm_testing_report)\n"
   ]
  },
  {
   "cell_type": "code",
   "execution_count": 132,
   "id": "9940205d-5d4a-4675-9b3e-02eb705a40e2",
   "metadata": {},
   "outputs": [
    {
     "data": {
      "text/html": [
       "<div>\n",
       "<style scoped>\n",
       "    .dataframe tbody tr th:only-of-type {\n",
       "        vertical-align: middle;\n",
       "    }\n",
       "\n",
       "    .dataframe tbody tr th {\n",
       "        vertical-align: top;\n",
       "    }\n",
       "\n",
       "    .dataframe thead th {\n",
       "        text-align: right;\n",
       "    }\n",
       "</style>\n",
       "<table border=\"1\" class=\"dataframe\">\n",
       "  <thead>\n",
       "    <tr style=\"text-align: right;\">\n",
       "      <th></th>\n",
       "      <th>predicted_signal</th>\n",
       "      <th>actual_returns</th>\n",
       "      <th>trading_algo_returns</th>\n",
       "    </tr>\n",
       "    <tr>\n",
       "      <th>Date</th>\n",
       "      <th></th>\n",
       "      <th></th>\n",
       "      <th></th>\n",
       "    </tr>\n",
       "  </thead>\n",
       "  <tbody>\n",
       "    <tr>\n",
       "      <th>2021-12-28</th>\n",
       "      <td>1.0</td>\n",
       "      <td>-0.072390</td>\n",
       "      <td>-0.072390</td>\n",
       "    </tr>\n",
       "    <tr>\n",
       "      <th>2021-12-29</th>\n",
       "      <td>1.0</td>\n",
       "      <td>-0.036481</td>\n",
       "      <td>-0.036481</td>\n",
       "    </tr>\n",
       "    <tr>\n",
       "      <th>2021-12-30</th>\n",
       "      <td>1.0</td>\n",
       "      <td>0.021149</td>\n",
       "      <td>0.021149</td>\n",
       "    </tr>\n",
       "    <tr>\n",
       "      <th>2021-12-31</th>\n",
       "      <td>1.0</td>\n",
       "      <td>-0.004769</td>\n",
       "      <td>-0.004769</td>\n",
       "    </tr>\n",
       "    <tr>\n",
       "      <th>2022-01-01</th>\n",
       "      <td>1.0</td>\n",
       "      <td>0.014892</td>\n",
       "      <td>0.014892</td>\n",
       "    </tr>\n",
       "  </tbody>\n",
       "</table>\n",
       "</div>"
      ],
      "text/plain": [
       "            predicted_signal  actual_returns  trading_algo_returns\n",
       "Date                                                              \n",
       "2021-12-28               1.0       -0.072390             -0.072390\n",
       "2021-12-29               1.0       -0.036481             -0.036481\n",
       "2021-12-30               1.0        0.021149              0.021149\n",
       "2021-12-31               1.0       -0.004769             -0.004769\n",
       "2022-01-01               1.0        0.014892              0.014892"
      ]
     },
     "execution_count": 132,
     "metadata": {},
     "output_type": "execute_result"
    }
   ],
   "source": [
    "predictions_df = pd.DataFrame(index=X_test.index)\n",
    "predictions_df['predicted_signal'] = testing_signal_predictions\n",
    "predictions_df['actual_returns'] = doge_df['actual_returns']\n",
    "predictions_df['trading_algo_returns'] = predictions_df['actual_returns'] * predictions_df['predicted_signal']\n",
    "predictions_df.tail()"
   ]
  },
  {
   "cell_type": "code",
   "execution_count": 133,
   "id": "43e9e182-c95b-4a77-81b5-5973f607cf4c",
   "metadata": {},
   "outputs": [
    {
     "data": {
      "text/plain": [
       "<AxesSubplot:xlabel='Date'>"
      ]
     },
     "execution_count": 133,
     "metadata": {},
     "output_type": "execute_result"
    },
    {
     "data": {
      "image/png": "[encoded data removed]",
      "text/plain": [
       "<Figure size 432x288 with 1 Axes>"
      ]
     },
     "metadata": {
      "needs_background": "light"
     },
     "output_type": "display_data"
    }
   ],
   "source": [
    "(1 + predictions_df[['actual_returns', 'trading_algo_returns']]).cumprod().plot()"
   ]
  },
  {
   "cell_type": "code",
   "execution_count": null,
   "id": "3f34a25b-4a63-4fbc-828f-df500fc5b257",
   "metadata": {},
   "outputs": [],
   "source": []
  },
  {
   "cell_type": "code",
   "execution_count": 134,
   "id": "ae3ab277-e073-4f98-9c38-24c6c5e4c448",
   "metadata": {},
   "outputs": [],
   "source": [
    "log_reg_model = LogisticRegression()"
   ]
  },
  {
   "cell_type": "code",
   "execution_count": 135,
   "id": "85e57ab5-e60e-40a0-81f9-646082753a01",
   "metadata": {},
   "outputs": [
    {
     "data": {
      "text/plain": [
       "LogisticRegression()"
      ]
     },
     "execution_count": 135,
     "metadata": {},
     "output_type": "execute_result"
    }
   ],
   "source": [
    "log_reg_model.fit(X_train_scaled, y_train)"
   ]
  },
  {
   "cell_type": "code",
   "execution_count": 136,
   "id": "c80da62c-6a0e-4e9d-847c-7a22c3c7ed07",
   "metadata": {},
   "outputs": [
    {
     "data": {
      "text/plain": [
       "array([1., 1., 1., 1., 1., 1., 1., 1., 1., 1.])"
      ]
     },
     "execution_count": 136,
     "metadata": {},
     "output_type": "execute_result"
    }
   ],
   "source": [
    "logreg_train_signal_pred = log_reg_model.predict(X_train_scaled)\n",
    "logreg_train_signal_pred[:10]"
   ]
  },
  {
   "cell_type": "code",
   "execution_count": 137,
   "id": "ec48397f-1538-4dfc-931d-79ecfa870d32",
   "metadata": {},
   "outputs": [
    {
     "name": "stdout",
     "output_type": "stream",
     "text": [
      "              precision    recall  f1-score   support\n",
      "\n",
      "        -1.0       0.54      0.70      0.61       562\n",
      "         1.0       0.54      0.37      0.44       535\n",
      "\n",
      "    accuracy                           0.54      1097\n",
      "   macro avg       0.54      0.53      0.52      1097\n",
      "weighted avg       0.54      0.54      0.52      1097\n",
      "\n"
     ]
    }
   ],
   "source": [
    "logreg_train_report = classification_report(y_train, logreg_train_signal_pred)\n",
    "print(logreg_train_report)"
   ]
  },
  {
   "cell_type": "code",
   "execution_count": 138,
   "id": "d1d1ea9f-92b3-4dbb-8290-c746f3af5339",
   "metadata": {},
   "outputs": [],
   "source": [
    "logreg_test_signal_pred = log_reg_model.predict(X_test_scaled)"
   ]
  },
  {
   "cell_type": "code",
   "execution_count": 139,
   "id": "3851bd8b-c428-4ae7-b9bc-bdfafb4434d9",
   "metadata": {},
   "outputs": [],
   "source": [
    "logreg_test_report = classification_report(y_test, logreg_test_signal_pred)"
   ]
  },
  {
   "cell_type": "code",
   "execution_count": 140,
   "id": "95cc7b7c-47fe-48f0-b028-d9de2988b22d",
   "metadata": {},
   "outputs": [
    {
     "name": "stdout",
     "output_type": "stream",
     "text": [
      "Logistic Regression Classification Report\n",
      "              precision    recall  f1-score   support\n",
      "\n",
      "        -1.0       0.52      0.89      0.66       197\n",
      "         1.0       0.51      0.13      0.20       182\n",
      "\n",
      "    accuracy                           0.52       379\n",
      "   macro avg       0.52      0.51      0.43       379\n",
      "weighted avg       0.52      0.52      0.44       379\n",
      "\n"
     ]
    }
   ],
   "source": [
    "print('Logistic Regression Classification Report')\n",
    "print(logreg_test_report)"
   ]
  },
  {
   "cell_type": "code",
   "execution_count": 141,
   "id": "deae0c9a-26a6-4899-b57f-cb2f9184e039",
   "metadata": {},
   "outputs": [
    {
     "name": "stdout",
     "output_type": "stream",
     "text": [
      "SVM Classification Report\n",
      "              precision    recall  f1-score   support\n",
      "\n",
      "        -1.0       0.30      0.03      0.06       197\n",
      "         1.0       0.47      0.92      0.62       182\n",
      "\n",
      "    accuracy                           0.46       379\n",
      "   macro avg       0.38      0.48      0.34       379\n",
      "weighted avg       0.38      0.46      0.33       379\n",
      "\n"
     ]
    }
   ],
   "source": [
    "print('SVM Classification Report')\n",
    "print(svm_testing_report)"
   ]
  },
  {
   "cell_type": "code",
   "execution_count": 143,
   "id": "8b7e31c9-b407-4987-b72c-0c2fa309bbed",
   "metadata": {},
   "outputs": [
    {
     "data": {
      "text/plain": [
       "<AxesSubplot:xlabel='Date'>"
      ]
     },
     "execution_count": 143,
     "metadata": {},
     "output_type": "execute_result"
    },
    {
     "data": {
      "image/png": "[encoded data removed]",
      "text/plain": [
       "<Figure size 432x288 with 1 Axes>"
      ]
     },
     "metadata": {
      "needs_background": "light"
     },
     "output_type": "display_data"
    }
   ],
   "source": [
    "doge_df['actual_returns'].cumsum().plot()"
   ]
  },
  {
   "cell_type": "code",
   "execution_count": null,
   "id": "9040e5d0-5298-4a24-b252-045f52b855fb",
   "metadata": {},
   "outputs": [],
   "source": []
  }
 ],
 "metadata": {
  "kernelspec": {
   "display_name": "Python 3 (ipykernel)",
   "language": "python",
   "name": "python3"
  },
  "language_info": {
   "codemirror_mode": {
    "name": "ipython",
    "version": 3
   },
   "file_extension": ".py",
   "mimetype": "text/x-python",
   "name": "python",
   "nbconvert_exporter": "python",
   "pygments_lexer": "ipython3",
   "version": "3.8.8"
  }
 },
 "nbformat": 4,
 "nbformat_minor": 5
}
