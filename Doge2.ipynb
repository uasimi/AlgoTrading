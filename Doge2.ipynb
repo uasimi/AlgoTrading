{
 "cells": [
  {
   "cell_type": "code",
   "execution_count": null,
   "id": "3d133e39-2b20-4e83-b499-924c87f1c64b",
   "metadata": {},
   "outputs": [],
   "source": [
    "Purpose: \n",
    "Knowlege is a key to any decision making. Millions of people are entering the Crypto space. Some have full knowledge, medium knowledge and no knowledge in trading crypto. We have created few crytop predictions models. "
   ]
  },
  {
   "cell_type": "code",
   "execution_count": 6,
   "id": "b2150ec7-c7ce-4185-a713-dfb9ee43a788",
   "metadata": {},
   "outputs": [],
   "source": [
    "import pandas as pd\n",
    "import yfinance as yf\n",
    "import numpy as np\n",
    "import matplotlib.pyplot as plt\n",
    "import seaborn as sns\n",
    "import keras\n",
    "from keras.layers import Dense\n",
    "from keras.layers import LSTM\n",
    "from keras.layers import Dropout"
   ]
  },
  {
   "cell_type": "code",
   "execution_count": 7,
   "id": "7457d7df-c5f2-4f5e-a866-6f2f615f3d5a",
   "metadata": {},
   "outputs": [
    {
     "name": "stdout",
     "output_type": "stream",
     "text": [
      "[*********************100%***********************]  1 of 1 completed\n"
     ]
    }
   ],
   "source": [
    "# Pull Data \n",
    "doge_data = yf.download('DOGE-USD', start='2017-01-01', end='2022-01-01')\n",
    "doge_df = pd.DataFrame(doge_data)"
   ]
  },
  {
   "cell_type": "code",
   "execution_count": 10,
   "id": "6d40828a-01df-499e-9d98-2f7cb7cf7957",
   "metadata": {},
   "outputs": [
    {
     "data": {
      "text/html": [
       "<div>\n",
       "<style scoped>\n",
       "    .dataframe tbody tr th:only-of-type {\n",
       "        vertical-align: middle;\n",
       "    }\n",
       "\n",
       "    .dataframe tbody tr th {\n",
       "        vertical-align: top;\n",
       "    }\n",
       "\n",
       "    .dataframe thead th {\n",
       "        text-align: right;\n",
       "    }\n",
       "</style>\n",
       "<table border=\"1\" class=\"dataframe\">\n",
       "  <thead>\n",
       "    <tr style=\"text-align: right;\">\n",
       "      <th></th>\n",
       "      <th>Close</th>\n",
       "    </tr>\n",
       "    <tr>\n",
       "      <th>Date</th>\n",
       "      <th></th>\n",
       "    </tr>\n",
       "  </thead>\n",
       "  <tbody>\n",
       "    <tr>\n",
       "      <th>2021-12-28</th>\n",
       "      <td>0.174117</td>\n",
       "    </tr>\n",
       "    <tr>\n",
       "      <th>2021-12-29</th>\n",
       "      <td>0.167765</td>\n",
       "    </tr>\n",
       "    <tr>\n",
       "      <th>2021-12-30</th>\n",
       "      <td>0.171313</td>\n",
       "    </tr>\n",
       "    <tr>\n",
       "      <th>2021-12-31</th>\n",
       "      <td>0.170496</td>\n",
       "    </tr>\n",
       "    <tr>\n",
       "      <th>2022-01-01</th>\n",
       "      <td>0.173035</td>\n",
       "    </tr>\n",
       "  </tbody>\n",
       "</table>\n",
       "</div>"
      ],
      "text/plain": [
       "               Close\n",
       "Date                \n",
       "2021-12-28  0.174117\n",
       "2021-12-29  0.167765\n",
       "2021-12-30  0.171313\n",
       "2021-12-31  0.170496\n",
       "2022-01-01  0.173035"
      ]
     },
     "execution_count": 10,
     "metadata": {},
     "output_type": "execute_result"
    }
   ],
   "source": [
    "doge_df = doge_df.drop(columns=['Adj Close','Volume', 'Open', 'High', 'Low'])\n",
    "doge_df.tail()"
   ]
  },
  {
   "cell_type": "code",
   "execution_count": 11,
   "id": "5c131023-d629-4617-b7a0-e409c53c184b",
   "metadata": {},
   "outputs": [
    {
     "data": {
      "text/plain": [
       "<matplotlib.legend.Legend at 0x276a9a7dac0>"
      ]
     },
     "execution_count": 11,
     "metadata": {},
     "output_type": "execute_result"
    },
    {
     "data": {
      "image/png": "[encoded data removed]",
      "text/plain": [
       "<Figure size 864x432 with 1 Axes>"
      ]
     },
     "metadata": {
      "needs_background": "light"
     },
     "output_type": "display_data"
    }
   ],
   "source": [
    "# Rolling mean\n",
    "close_px = doge_df['Close']\n",
    "mavg = close_px.rolling(window=100).mean()\n",
    "\n",
    "plt.figure(figsize = (12,6))\n",
    "close_px.plot(label='Doge')\n",
    "mavg.plot(label='mavg')\n",
    "plt.xlabel('Date')\n",
    "plt.ylabel('Price')\n",
    "plt.legend()"
   ]
  },
  {
   "cell_type": "code",
   "execution_count": 12,
   "id": "bee1a007-449a-424c-85c2-33618ad6c2b8",
   "metadata": {},
   "outputs": [
    {
     "data": {
      "text/html": [
       "<div>\n",
       "<style scoped>\n",
       "    .dataframe tbody tr th:only-of-type {\n",
       "        vertical-align: middle;\n",
       "    }\n",
       "\n",
       "    .dataframe tbody tr th {\n",
       "        vertical-align: top;\n",
       "    }\n",
       "\n",
       "    .dataframe thead th {\n",
       "        text-align: right;\n",
       "    }\n",
       "</style>\n",
       "<table border=\"1\" class=\"dataframe\">\n",
       "  <thead>\n",
       "    <tr style=\"text-align: right;\">\n",
       "      <th></th>\n",
       "      <th>Date</th>\n",
       "      <th>Close</th>\n",
       "    </tr>\n",
       "  </thead>\n",
       "  <tbody>\n",
       "    <tr>\n",
       "      <th>1510</th>\n",
       "      <td>18989.0</td>\n",
       "      <td>0.174117</td>\n",
       "    </tr>\n",
       "    <tr>\n",
       "      <th>1511</th>\n",
       "      <td>18990.0</td>\n",
       "      <td>0.167765</td>\n",
       "    </tr>\n",
       "    <tr>\n",
       "      <th>1512</th>\n",
       "      <td>18991.0</td>\n",
       "      <td>0.171313</td>\n",
       "    </tr>\n",
       "    <tr>\n",
       "      <th>1513</th>\n",
       "      <td>18992.0</td>\n",
       "      <td>0.170496</td>\n",
       "    </tr>\n",
       "    <tr>\n",
       "      <th>1514</th>\n",
       "      <td>18993.0</td>\n",
       "      <td>0.173035</td>\n",
       "    </tr>\n",
       "  </tbody>\n",
       "</table>\n",
       "</div>"
      ],
      "text/plain": [
       "         Date     Close\n",
       "1510  18989.0  0.174117\n",
       "1511  18990.0  0.167765\n",
       "1512  18991.0  0.171313\n",
       "1513  18992.0  0.170496\n",
       "1514  18993.0  0.173035"
      ]
     },
     "execution_count": 12,
     "metadata": {},
     "output_type": "execute_result"
    }
   ],
   "source": [
    "import matplotlib.dates as mdates\n",
    "\n",
    "# change the dates into ints for training \n",
    "dates_df = doge_df.copy()\n",
    "dates_df = dates_df.reset_index()\n",
    "\n",
    "# Store the original dates for plotting the predicitons\n",
    "org_dates = dates_df['Date']\n",
    "\n",
    "# convert to ints\n",
    "dates_df['Date'] = dates_df['Date'].map(mdates.date2num)\n",
    "\n",
    "dates_df.tail()"
   ]
  },
  {
   "cell_type": "code",
   "execution_count": 14,
   "id": "266bac2c-2ed1-4eb5-a7cd-3b6b5f81ec5a",
   "metadata": {},
   "outputs": [
    {
     "name": "stderr",
     "output_type": "stream",
     "text": [
      "C:\\Users\\hp\\anaconda3\\lib\\site-packages\\sklearn\\utils\\validation.py:63: DataConversionWarning: A column-vector y was passed when a 1d array was expected. Please change the shape of y to (n_samples, ), for example using ravel().\n",
      "  return f(*args, **kwargs)\n"
     ]
    },
    {
     "data": {
      "image/png": "[encoded data removed]",
      "text/plain": [
       "<Figure size 864x432 with 1 Axes>"
      ]
     },
     "metadata": {
      "needs_background": "light"
     },
     "output_type": "display_data"
    }
   ],
   "source": [
    "# Use sklearn support vector regression to predicit our data:\n",
    "from sklearn.svm import SVR\n",
    "\n",
    "dates = dates_df['Date'].to_numpy() \n",
    "prices = doge_df['Close'].to_numpy()\n",
    "\n",
    "#Convert to 1d Vector\n",
    "dates = dates.reshape(-1, 1)\n",
    "prices = prices.reshape(-1, 1)\n",
    "\n",
    "svr_rbf = SVR(kernel= 'rbf', C= 1e3, gamma= 0.1)\n",
    "svr_rbf.fit(dates, prices)\n",
    "\n",
    "plt.figure(figsize = (12,6))\n",
    "plt.plot(dates, prices, color= 'black', label= 'Data')\n",
    "plt.plot(org_dates, svr_rbf.predict(dates), color= 'red', label= 'RBF model') \n",
    "plt.xlabel('Date')\n",
    "plt.ylabel('Price')\n",
    "plt.legend()\n",
    "plt.show()"
   ]
  },
  {
   "cell_type": "code",
   "execution_count": 15,
   "id": "f9aeb5fa-c208-4f24-a2b6-1731608eb21c",
   "metadata": {},
   "outputs": [
    {
     "name": "stdout",
     "output_type": "stream",
     "text": [
      "(1515,)\n"
     ]
    }
   ],
   "source": [
    "# Create train set of adj close prices data:\n",
    "train_data = doge_df.loc[:,'Close'].to_numpy()\n",
    "print(train_data.shape) "
   ]
  },
  {
   "cell_type": "code",
   "execution_count": 16,
   "id": "6725616f-9ac0-4da5-9487-2349efc7451b",
   "metadata": {},
   "outputs": [],
   "source": [
    "# Apply normalization before feeding to LSTM using sklearn:\n",
    "from sklearn.preprocessing import MinMaxScaler\n",
    "\n",
    "scaler = MinMaxScaler()\n",
    "train_data = train_data.reshape(-1,1)\n",
    "\n",
    "scaler.fit(train_data)\n",
    "train_data = scaler.transform(train_data)"
   ]
  },
  {
   "cell_type": "code",
   "execution_count": 17,
   "id": "4b7ed95f-af65-4e98-843a-97613f1c0be7",
   "metadata": {},
   "outputs": [],
   "source": [
    "#'''Function to create a dataset to feed into an LSTM'''\n",
    "#def create_dataset(dataset, look_back):\n",
    "    #dataX, dataY = [], []\n",
    "    #for i in range(len(dataset)-look_back):\n",
    "       # a = dataset[i:(i + look_back), 0]\n",
    "       # dataX.append(a)\n",
    "       # dataY.append(dataset[i + look_back, 0])\n",
    "   # return np.array(dataX), np.array(dataY)"
   ]
  },
  {
   "cell_type": "code",
   "execution_count": 18,
   "id": "b5dd8d61-3887-4038-b4f3-9d864ca1768d",
   "metadata": {},
   "outputs": [],
   "source": [
    "def window_data(df, window, feature_col_number, target_col_number):\n",
    "    X = []\n",
    "    y = []\n",
    "    for i in range(len(df) - window - 1):\n",
    "        features = df.iloc[i:(i + window), feature_col_number]\n",
    "        target = df.iloc[(i + window), target_col_number]\n",
    "        X.append(features)\n",
    "        y.append(target)\n",
    "    return np.array(X), np.array(y).reshape(-1, 1)"
   ]
  },
  {
   "cell_type": "code",
   "execution_count": 20,
   "id": "a48ca595-b993-4b75-960e-a303a3b864e9",
   "metadata": {},
   "outputs": [],
   "source": [
    "# Predict Closing Prices using a 10 day window of previous closing prices\n",
    "# Then, experiment with window sizes anywhere from 1 to 10 and see how the model performance changes\n",
    "window_size = 10\n",
    "\n",
    "# Column index 0 is the 'fng_value' column\n",
    "# Column index 1 is the `Close` column\n",
    "feature_column = 0\n",
    "target_column = 0\n",
    "X, y = window_data(doge_df, window_size, feature_column, target_column)"
   ]
  },
  {
   "cell_type": "code",
   "execution_count": 21,
   "id": "95e93137-efa7-4177-b284-b328e23e8e39",
   "metadata": {},
   "outputs": [],
   "source": [
    " # Use 70% of the data for training and the remaineder for testing\n",
    "split = int(.7 * len(X))\n",
    "X_train = X[:split - 1]\n",
    "X_test = X[split:]\n",
    "y_train = y[:split - 1]\n",
    "y_test = y[split:]"
   ]
  },
  {
   "cell_type": "code",
   "execution_count": 22,
   "id": "71ffb9b4-235c-4a1a-aa0a-36847be2f61e",
   "metadata": {},
   "outputs": [],
   "source": [
    "# Use the MinMaxScaler to scale data between 0 and 1.\n",
    "from sklearn.preprocessing import MinMaxScaler\n",
    "x_scaler = MinMaxScaler()\n",
    "y_scaler = MinMaxScaler()\n",
    "\n",
    "# Fit the scaler for the training Data\n",
    "x_scaler.fit(X_train)\n",
    "y_scaler.fit(y_train)\n",
    "\n",
    "# Scale the training data\n",
    "X_train = x_scaler.transform(X_train)\n",
    "y_train = y_scaler.transform(y_train)\n",
    "\n",
    "# Scale the y_test data\n",
    "X_test = x_scaler.transform(X_test)\n",
    "y_test = y_scaler.transform(y_test)"
   ]
  },
  {
   "cell_type": "code",
   "execution_count": 23,
   "id": "2b186cc5-404f-48f5-886a-1f5c18b2b68f",
   "metadata": {},
   "outputs": [],
   "source": [
    " # Reshape the features for the model\n",
    "X_train = X_train.reshape((X_train.shape[0], X_train.shape[1], 1))\n",
    "X_test = X_test.reshape((X_test.shape[0], X_test.shape[1], 1))"
   ]
  },
  {
   "cell_type": "code",
   "execution_count": null,
   "id": "8ed811c5-bb6b-49cc-97e9-aad0913e965a",
   "metadata": {},
   "outputs": [],
   "source": []
  },
  {
   "cell_type": "markdown",
   "id": "95f40cd4-3fd1-438c-a5ae-40e0de9aaaf6",
   "metadata": {},
   "source": [
    "# Create the data to train our model on:"
   ]
  },
  {
   "cell_type": "markdown",
   "id": "c566a243-68e1-4ad6-8a93-57297474590a",
   "metadata": {},
   "source": [
    "time_steps = 36 X_train, y_train = create_dataset(train_data, time_steps)"
   ]
  },
  {
   "cell_type": "markdown",
   "id": "1d33af55-a695-4d94-9af3-339bf3bb191f",
   "metadata": {},
   "source": [
    "# reshape it [samples, time steps, features]"
   ]
  },
  {
   "cell_type": "markdown",
   "id": "10eab142-7f32-4004-abe8-109007e32ec6",
   "metadata": {},
   "source": [
    " X_train = np.reshape(X_train, (X_train.shape[0], 36, 1))"
   ]
  },
  {
   "cell_type": "markdown",
   "id": "d03893f3-b9f8-4351-a1a4-0c77dc0f24fb",
   "metadata": {},
   "source": [
    "print(X_train.shape)"
   ]
  },
  {
   "cell_type": "markdown",
   "id": "fa7fc6f6-a4f3-47a3-9243-38ebc3348ec9",
   "metadata": {},
   "source": [
    "# Visualizing our data with prints:"
   ]
  },
  {
   "cell_type": "markdown",
   "id": "f526b6dc-0bf6-49e5-9822-b806f3364659",
   "metadata": {},
   "source": [
    "print('X_train:') print(str(scaler.inverse_transform(X_train[0]))) print(\"\\n\") print('y_train: ' + str(scaler.inverse_transform(y_train[0].reshape(-1,1)))+'\\n')"
   ]
  },
  {
   "cell_type": "code",
   "execution_count": 26,
   "id": "7e85afb7-957b-47c9-b26f-7778d0b320e6",
   "metadata": {},
   "outputs": [
    {
     "name": "stdout",
     "output_type": "stream",
     "text": [
      "Epoch 1/20\n",
      "74/74 [==============================] - 6s 23ms/step - loss: 0.0042 - val_loss: 6.8141e-04\n",
      "Epoch 2/20\n",
      "74/74 [==============================] - 1s 13ms/step - loss: 0.0028 - val_loss: 9.1809e-04\n",
      "Epoch 3/20\n",
      "74/74 [==============================] - 1s 13ms/step - loss: 0.0020 - val_loss: 3.0052e-04\n",
      "Epoch 4/20\n",
      "74/74 [==============================] - 1s 13ms/step - loss: 0.0026 - val_loss: 4.9886e-04\n",
      "Epoch 5/20\n",
      "74/74 [==============================] - 1s 13ms/step - loss: 0.0021 - val_loss: 1.9362e-04\n",
      "Epoch 6/20\n",
      "74/74 [==============================] - 1s 13ms/step - loss: 0.0016 - val_loss: 3.3410e-04\n",
      "Epoch 7/20\n",
      "74/74 [==============================] - 1s 13ms/step - loss: 0.0015 - val_loss: 1.8889e-04\n",
      "Epoch 8/20\n",
      "74/74 [==============================] - 1s 13ms/step - loss: 0.0015 - val_loss: 2.5520e-04\n",
      "Epoch 9/20\n",
      "74/74 [==============================] - 1s 13ms/step - loss: 0.0017 - val_loss: 2.6500e-04\n",
      "Epoch 10/20\n",
      "74/74 [==============================] - 1s 13ms/step - loss: 0.0015 - val_loss: 1.9738e-04\n",
      "Epoch 11/20\n",
      "74/74 [==============================] - 1s 16ms/step - loss: 0.0014 - val_loss: 1.9471e-04\n",
      "Epoch 12/20\n",
      "74/74 [==============================] - 1s 16ms/step - loss: 0.0011 - val_loss: 1.5222e-04\n",
      "Epoch 13/20\n",
      "74/74 [==============================] - 1s 15ms/step - loss: 0.0012 - val_loss: 4.2941e-04\n",
      "Epoch 14/20\n",
      "74/74 [==============================] - 1s 16ms/step - loss: 0.0015 - val_loss: 1.9974e-04\n",
      "Epoch 15/20\n",
      "74/74 [==============================] - 1s 16ms/step - loss: 0.0011 - val_loss: 2.2897e-04\n",
      "Epoch 16/20\n",
      "74/74 [==============================] - 1s 14ms/step - loss: 0.0015 - val_loss: 2.6021e-04\n",
      "Epoch 17/20\n",
      "74/74 [==============================] - 1s 17ms/step - loss: 0.0012 - val_loss: 5.3796e-04\n",
      "Epoch 18/20\n",
      "74/74 [==============================] - 1s 13ms/step - loss: 0.0012 - val_loss: 1.5038e-04\n",
      "Epoch 19/20\n",
      "74/74 [==============================] - ETA: 0s - loss: 9.7368e-0 - 1s 13ms/step - loss: 9.7368e-04 - val_loss: 1.2074e-04\n",
      "Epoch 20/20\n",
      "74/74 [==============================] - 1s 13ms/step - loss: 0.0013 - val_loss: 1.6219e-04\n"
     ]
    }
   ],
   "source": [
    "# Build the model \n",
    "model = keras.Sequential()\n",
    "\n",
    "model.add(LSTM(units = 100, return_sequences = True, input_shape = (X_train.shape[1], 1)))\n",
    "model.add(Dropout(0.2))\n",
    "\n",
    "model.add(LSTM(units = 100))\n",
    "model.add(Dropout(0.2))\n",
    "\n",
    "# Output layer\n",
    "model.add(Dense(units = 1))\n",
    "\n",
    "# Compiling the model\n",
    "model.compile(optimizer = 'adam', loss = 'mean_squared_error')\n",
    "\n",
    "# Fitting the model to the Training set\n",
    "history = model.fit(X_train, y_train, epochs = 20, batch_size = 10, validation_split=.30)"
   ]
  },
  {
   "cell_type": "code",
   "execution_count": 27,
   "id": "c45641d3-bf8d-4f18-a66e-21b6e87e6444",
   "metadata": {},
   "outputs": [
    {
     "data": {
      "image/png": "[encoded data removed]",
      "text/plain": [
       "<Figure size 432x288 with 1 Axes>"
      ]
     },
     "metadata": {
      "needs_background": "light"
     },
     "output_type": "display_data"
    }
   ],
   "source": [
    "# Plot training & validation loss values\n",
    "plt.plot(history.history['loss'])\n",
    "plt.plot(history.history['val_loss'])\n",
    "plt.title('Model loss')\n",
    "plt.ylabel('Loss')\n",
    "plt.xlabel('Epoch')\n",
    "plt.legend(['Train', 'Test'], loc='upper left')\n",
    "plt.show()"
   ]
  },
  {
   "cell_type": "code",
   "execution_count": 28,
   "id": "4b4f01b0-1d85-4738-9826-2769939c396c",
   "metadata": {},
   "outputs": [],
   "source": [
    "# Get the stock prices for 2019 to have our model make the predictions\n",
    "#test_data = ada_df['Close'].values\n",
    "#test_data = test_data.reshape(-1,1)\n",
    "#test_data = scaler.transform(test_data)\n",
    "\n",
    "# Create the data to test our model on:\n",
    "#time_steps = 36\n",
    "#X_test, y_test = create_dataset(test_data, time_steps)\n",
    "\n",
    "# store the original vals for plotting the predictions \n",
    "#y_test = y_test.reshape(-1,1)\n",
    "org_y = scaler.inverse_transform(y_test)\n",
    "\n",
    "# reshape it [samples, time steps, features]\n",
    "#X_test = np.reshape(X_test, (X_test.shape[0], 36, 1))\n",
    "\n",
    "# Predict the prices with the model\n",
    "predicted_y = model.predict(X_test)\n",
    "predicted_y = scaler.inverse_transform(predicted_y)"
   ]
  },
  {
   "cell_type": "code",
   "execution_count": 29,
   "id": "9abac11b-dc72-4bf5-a978-9d7c91e8df0f",
   "metadata": {},
   "outputs": [
    {
     "data": {
      "image/png": "[encoded data removed]",
      "text/plain": [
       "<Figure size 432x288 with 1 Axes>"
      ]
     },
     "metadata": {
      "needs_background": "light"
     },
     "output_type": "display_data"
    }
   ],
   "source": [
    "plt.plot(org_y, color = 'red', label = 'Real DOGE crypto Price')\n",
    "plt.plot(predicted_y, color = 'blue', label = 'Predicted DOGE Price')\n",
    "plt.title('DOGE Price Prediction')\n",
    "plt.xlabel('Time')\n",
    "plt.ylabel('DOGE Stock Price')\n",
    "plt.legend()\n",
    "plt.show()"
   ]
  },
  {
   "cell_type": "code",
   "execution_count": null,
   "id": "945d46e7-5aac-4686-8f08-d2a6413602a3",
   "metadata": {},
   "outputs": [],
   "source": []
  }
 ],
 "metadata": {
  "kernelspec": {
   "display_name": "Python 3 (ipykernel)",
   "language": "python",
   "name": "python3"
  },
  "language_info": {
   "codemirror_mode": {
    "name": "ipython",
    "version": 3
   },
   "file_extension": ".py",
   "mimetype": "text/x-python",
   "name": "python",
   "nbconvert_exporter": "python",
   "pygments_lexer": "ipython3",
   "version": "3.8.8"
  }
 },
 "nbformat": 4,
 "nbformat_minor": 5
}
